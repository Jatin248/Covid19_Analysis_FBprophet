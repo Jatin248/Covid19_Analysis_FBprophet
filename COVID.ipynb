{
 "cells": [
  {
   "cell_type": "code",
   "execution_count": 1,
   "metadata": {},
   "outputs": [],
   "source": [
    "import pandas as pd\n",
    "import numpy as np\n",
    "import matplotlib.pyplot as plt\n",
    "import seaborn as sns\n",
    "from fbprophet import Prophet\n",
    "import plotly.offline as pyo\n",
    "from plotly.offline import init_notebook_mode,plot,iplot\n",
    "import cufflinks as cf\n"
   ]
  },
  {
   "cell_type": "code",
   "execution_count": 2,
   "metadata": {},
   "outputs": [
    {
     "data": {
      "text/html": [
       "        <script type=\"text/javascript\">\n",
       "        window.PlotlyConfig = {MathJaxConfig: 'local'};\n",
       "        if (window.MathJax) {MathJax.Hub.Config({SVG: {font: \"STIX-Web\"}});}\n",
       "        if (typeof require !== 'undefined') {\n",
       "        require.undef(\"plotly\");\n",
       "        requirejs.config({\n",
       "            paths: {\n",
       "                'plotly': ['https://cdn.plot.ly/plotly-latest.min']\n",
       "            }\n",
       "        });\n",
       "        require(['plotly'], function(Plotly) {\n",
       "            window._Plotly = Plotly;\n",
       "        });\n",
       "        }\n",
       "        </script>\n",
       "        "
      ]
     },
     "metadata": {},
     "output_type": "display_data"
    },
    {
     "data": {
      "text/html": [
       "        <script type=\"text/javascript\">\n",
       "        window.PlotlyConfig = {MathJaxConfig: 'local'};\n",
       "        if (window.MathJax) {MathJax.Hub.Config({SVG: {font: \"STIX-Web\"}});}\n",
       "        if (typeof require !== 'undefined') {\n",
       "        require.undef(\"plotly\");\n",
       "        requirejs.config({\n",
       "            paths: {\n",
       "                'plotly': ['https://cdn.plot.ly/plotly-latest.min']\n",
       "            }\n",
       "        });\n",
       "        require(['plotly'], function(Plotly) {\n",
       "            window._Plotly = Plotly;\n",
       "        });\n",
       "        }\n",
       "        </script>\n",
       "        "
      ]
     },
     "metadata": {},
     "output_type": "display_data"
    }
   ],
   "source": [
    "0pyo.init_notebook_mode(connected=True)\n",
    "cf.go_offline()"
   ]
  },
  {
   "cell_type": "code",
   "execution_count": 3,
   "metadata": {},
   "outputs": [],
   "source": [
    "train = pd.read_csv('covid_19_data.csv')"
   ]
  },
  {
   "cell_type": "code",
   "execution_count": 4,
   "metadata": {},
   "outputs": [
    {
     "data": {
      "text/html": [
       "<div>\n",
       "<style scoped>\n",
       "    .dataframe tbody tr th:only-of-type {\n",
       "        vertical-align: middle;\n",
       "    }\n",
       "\n",
       "    .dataframe tbody tr th {\n",
       "        vertical-align: top;\n",
       "    }\n",
       "\n",
       "    .dataframe thead th {\n",
       "        text-align: right;\n",
       "    }\n",
       "</style>\n",
       "<table border=\"1\" class=\"dataframe\">\n",
       "  <thead>\n",
       "    <tr style=\"text-align: right;\">\n",
       "      <th></th>\n",
       "      <th>SNo</th>\n",
       "      <th>ObservationDate</th>\n",
       "      <th>Province/State</th>\n",
       "      <th>Country/Region</th>\n",
       "      <th>Last Update</th>\n",
       "      <th>Confirmed</th>\n",
       "      <th>Deaths</th>\n",
       "      <th>Recovered</th>\n",
       "    </tr>\n",
       "  </thead>\n",
       "  <tbody>\n",
       "    <tr>\n",
       "      <th>0</th>\n",
       "      <td>1</td>\n",
       "      <td>01/22/2020</td>\n",
       "      <td>Anhui</td>\n",
       "      <td>Mainland China</td>\n",
       "      <td>1/22/2020 17:00</td>\n",
       "      <td>1.0</td>\n",
       "      <td>0.0</td>\n",
       "      <td>0.0</td>\n",
       "    </tr>\n",
       "    <tr>\n",
       "      <th>1</th>\n",
       "      <td>2</td>\n",
       "      <td>01/22/2020</td>\n",
       "      <td>Beijing</td>\n",
       "      <td>Mainland China</td>\n",
       "      <td>1/22/2020 17:00</td>\n",
       "      <td>14.0</td>\n",
       "      <td>0.0</td>\n",
       "      <td>0.0</td>\n",
       "    </tr>\n",
       "    <tr>\n",
       "      <th>2</th>\n",
       "      <td>3</td>\n",
       "      <td>01/22/2020</td>\n",
       "      <td>Chongqing</td>\n",
       "      <td>Mainland China</td>\n",
       "      <td>1/22/2020 17:00</td>\n",
       "      <td>6.0</td>\n",
       "      <td>0.0</td>\n",
       "      <td>0.0</td>\n",
       "    </tr>\n",
       "    <tr>\n",
       "      <th>3</th>\n",
       "      <td>4</td>\n",
       "      <td>01/22/2020</td>\n",
       "      <td>Fujian</td>\n",
       "      <td>Mainland China</td>\n",
       "      <td>1/22/2020 17:00</td>\n",
       "      <td>1.0</td>\n",
       "      <td>0.0</td>\n",
       "      <td>0.0</td>\n",
       "    </tr>\n",
       "    <tr>\n",
       "      <th>4</th>\n",
       "      <td>5</td>\n",
       "      <td>01/22/2020</td>\n",
       "      <td>Gansu</td>\n",
       "      <td>Mainland China</td>\n",
       "      <td>1/22/2020 17:00</td>\n",
       "      <td>0.0</td>\n",
       "      <td>0.0</td>\n",
       "      <td>0.0</td>\n",
       "    </tr>\n",
       "    <tr>\n",
       "      <th>...</th>\n",
       "      <td>...</td>\n",
       "      <td>...</td>\n",
       "      <td>...</td>\n",
       "      <td>...</td>\n",
       "      <td>...</td>\n",
       "      <td>...</td>\n",
       "      <td>...</td>\n",
       "      <td>...</td>\n",
       "    </tr>\n",
       "    <tr>\n",
       "      <th>172475</th>\n",
       "      <td>172476</td>\n",
       "      <td>12/06/2020</td>\n",
       "      <td>Zaporizhia Oblast</td>\n",
       "      <td>Ukraine</td>\n",
       "      <td>2020-12-07 05:26:14</td>\n",
       "      <td>36539.0</td>\n",
       "      <td>337.0</td>\n",
       "      <td>6556.0</td>\n",
       "    </tr>\n",
       "    <tr>\n",
       "      <th>172476</th>\n",
       "      <td>172477</td>\n",
       "      <td>12/06/2020</td>\n",
       "      <td>Zeeland</td>\n",
       "      <td>Netherlands</td>\n",
       "      <td>2020-12-07 05:26:14</td>\n",
       "      <td>6710.0</td>\n",
       "      <td>104.0</td>\n",
       "      <td>0.0</td>\n",
       "    </tr>\n",
       "    <tr>\n",
       "      <th>172477</th>\n",
       "      <td>172478</td>\n",
       "      <td>12/06/2020</td>\n",
       "      <td>Zhejiang</td>\n",
       "      <td>Mainland China</td>\n",
       "      <td>2020-12-07 05:26:14</td>\n",
       "      <td>1295.0</td>\n",
       "      <td>1.0</td>\n",
       "      <td>1288.0</td>\n",
       "    </tr>\n",
       "    <tr>\n",
       "      <th>172478</th>\n",
       "      <td>172479</td>\n",
       "      <td>12/06/2020</td>\n",
       "      <td>Zhytomyr Oblast</td>\n",
       "      <td>Ukraine</td>\n",
       "      <td>2020-12-07 05:26:14</td>\n",
       "      <td>31967.0</td>\n",
       "      <td>531.0</td>\n",
       "      <td>22263.0</td>\n",
       "    </tr>\n",
       "    <tr>\n",
       "      <th>172479</th>\n",
       "      <td>172480</td>\n",
       "      <td>12/06/2020</td>\n",
       "      <td>Zuid-Holland</td>\n",
       "      <td>Netherlands</td>\n",
       "      <td>2020-12-07 05:26:14</td>\n",
       "      <td>154813.0</td>\n",
       "      <td>2414.0</td>\n",
       "      <td>0.0</td>\n",
       "    </tr>\n",
       "  </tbody>\n",
       "</table>\n",
       "<p>172480 rows × 8 columns</p>\n",
       "</div>"
      ],
      "text/plain": [
       "           SNo ObservationDate     Province/State  Country/Region  \\\n",
       "0            1      01/22/2020              Anhui  Mainland China   \n",
       "1            2      01/22/2020            Beijing  Mainland China   \n",
       "2            3      01/22/2020          Chongqing  Mainland China   \n",
       "3            4      01/22/2020             Fujian  Mainland China   \n",
       "4            5      01/22/2020              Gansu  Mainland China   \n",
       "...        ...             ...                ...             ...   \n",
       "172475  172476      12/06/2020  Zaporizhia Oblast         Ukraine   \n",
       "172476  172477      12/06/2020            Zeeland     Netherlands   \n",
       "172477  172478      12/06/2020           Zhejiang  Mainland China   \n",
       "172478  172479      12/06/2020    Zhytomyr Oblast         Ukraine   \n",
       "172479  172480      12/06/2020       Zuid-Holland     Netherlands   \n",
       "\n",
       "                Last Update  Confirmed  Deaths  Recovered  \n",
       "0           1/22/2020 17:00        1.0     0.0        0.0  \n",
       "1           1/22/2020 17:00       14.0     0.0        0.0  \n",
       "2           1/22/2020 17:00        6.0     0.0        0.0  \n",
       "3           1/22/2020 17:00        1.0     0.0        0.0  \n",
       "4           1/22/2020 17:00        0.0     0.0        0.0  \n",
       "...                     ...        ...     ...        ...  \n",
       "172475  2020-12-07 05:26:14    36539.0   337.0     6556.0  \n",
       "172476  2020-12-07 05:26:14     6710.0   104.0        0.0  \n",
       "172477  2020-12-07 05:26:14     1295.0     1.0     1288.0  \n",
       "172478  2020-12-07 05:26:14    31967.0   531.0    22263.0  \n",
       "172479  2020-12-07 05:26:14   154813.0  2414.0        0.0  \n",
       "\n",
       "[172480 rows x 8 columns]"
      ]
     },
     "execution_count": 4,
     "metadata": {},
     "output_type": "execute_result"
    }
   ],
   "source": [
    "train"
   ]
  },
  {
   "cell_type": "code",
   "execution_count": 5,
   "metadata": {},
   "outputs": [
    {
     "data": {
      "text/html": [
       "<div>\n",
       "<style scoped>\n",
       "    .dataframe tbody tr th:only-of-type {\n",
       "        vertical-align: middle;\n",
       "    }\n",
       "\n",
       "    .dataframe tbody tr th {\n",
       "        vertical-align: top;\n",
       "    }\n",
       "\n",
       "    .dataframe thead th {\n",
       "        text-align: right;\n",
       "    }\n",
       "</style>\n",
       "<table border=\"1\" class=\"dataframe\">\n",
       "  <thead>\n",
       "    <tr style=\"text-align: right;\">\n",
       "      <th></th>\n",
       "      <th>SNo</th>\n",
       "      <th>ObservationDate</th>\n",
       "      <th>Province/State</th>\n",
       "      <th>Country/Region</th>\n",
       "      <th>Last Update</th>\n",
       "      <th>Confirmed</th>\n",
       "      <th>Deaths</th>\n",
       "      <th>Recovered</th>\n",
       "    </tr>\n",
       "  </thead>\n",
       "  <tbody>\n",
       "    <tr>\n",
       "      <th>0</th>\n",
       "      <td>1</td>\n",
       "      <td>01/22/2020</td>\n",
       "      <td>Anhui</td>\n",
       "      <td>Mainland China</td>\n",
       "      <td>1/22/2020 17:00</td>\n",
       "      <td>1.0</td>\n",
       "      <td>0.0</td>\n",
       "      <td>0.0</td>\n",
       "    </tr>\n",
       "    <tr>\n",
       "      <th>1</th>\n",
       "      <td>2</td>\n",
       "      <td>01/22/2020</td>\n",
       "      <td>Beijing</td>\n",
       "      <td>Mainland China</td>\n",
       "      <td>1/22/2020 17:00</td>\n",
       "      <td>14.0</td>\n",
       "      <td>0.0</td>\n",
       "      <td>0.0</td>\n",
       "    </tr>\n",
       "    <tr>\n",
       "      <th>2</th>\n",
       "      <td>3</td>\n",
       "      <td>01/22/2020</td>\n",
       "      <td>Chongqing</td>\n",
       "      <td>Mainland China</td>\n",
       "      <td>1/22/2020 17:00</td>\n",
       "      <td>6.0</td>\n",
       "      <td>0.0</td>\n",
       "      <td>0.0</td>\n",
       "    </tr>\n",
       "    <tr>\n",
       "      <th>3</th>\n",
       "      <td>4</td>\n",
       "      <td>01/22/2020</td>\n",
       "      <td>Fujian</td>\n",
       "      <td>Mainland China</td>\n",
       "      <td>1/22/2020 17:00</td>\n",
       "      <td>1.0</td>\n",
       "      <td>0.0</td>\n",
       "      <td>0.0</td>\n",
       "    </tr>\n",
       "    <tr>\n",
       "      <th>4</th>\n",
       "      <td>5</td>\n",
       "      <td>01/22/2020</td>\n",
       "      <td>Gansu</td>\n",
       "      <td>Mainland China</td>\n",
       "      <td>1/22/2020 17:00</td>\n",
       "      <td>0.0</td>\n",
       "      <td>0.0</td>\n",
       "      <td>0.0</td>\n",
       "    </tr>\n",
       "  </tbody>\n",
       "</table>\n",
       "</div>"
      ],
      "text/plain": [
       "   SNo ObservationDate Province/State  Country/Region      Last Update  \\\n",
       "0    1      01/22/2020          Anhui  Mainland China  1/22/2020 17:00   \n",
       "1    2      01/22/2020        Beijing  Mainland China  1/22/2020 17:00   \n",
       "2    3      01/22/2020      Chongqing  Mainland China  1/22/2020 17:00   \n",
       "3    4      01/22/2020         Fujian  Mainland China  1/22/2020 17:00   \n",
       "4    5      01/22/2020          Gansu  Mainland China  1/22/2020 17:00   \n",
       "\n",
       "   Confirmed  Deaths  Recovered  \n",
       "0        1.0     0.0        0.0  \n",
       "1       14.0     0.0        0.0  \n",
       "2        6.0     0.0        0.0  \n",
       "3        1.0     0.0        0.0  \n",
       "4        0.0     0.0        0.0  "
      ]
     },
     "execution_count": 5,
     "metadata": {},
     "output_type": "execute_result"
    }
   ],
   "source": [
    "train.head(5)"
   ]
  },
  {
   "cell_type": "code",
   "execution_count": 6,
   "metadata": {},
   "outputs": [
    {
     "data": {
      "text/html": [
       "<div>\n",
       "<style scoped>\n",
       "    .dataframe tbody tr th:only-of-type {\n",
       "        vertical-align: middle;\n",
       "    }\n",
       "\n",
       "    .dataframe tbody tr th {\n",
       "        vertical-align: top;\n",
       "    }\n",
       "\n",
       "    .dataframe thead th {\n",
       "        text-align: right;\n",
       "    }\n",
       "</style>\n",
       "<table border=\"1\" class=\"dataframe\">\n",
       "  <thead>\n",
       "    <tr style=\"text-align: right;\">\n",
       "      <th></th>\n",
       "      <th>ObservationDate</th>\n",
       "      <th>Confirmed</th>\n",
       "    </tr>\n",
       "  </thead>\n",
       "  <tbody>\n",
       "    <tr>\n",
       "      <th>0</th>\n",
       "      <td>01/22/2020</td>\n",
       "      <td>555.0</td>\n",
       "    </tr>\n",
       "    <tr>\n",
       "      <th>1</th>\n",
       "      <td>01/23/2020</td>\n",
       "      <td>653.0</td>\n",
       "    </tr>\n",
       "    <tr>\n",
       "      <th>2</th>\n",
       "      <td>01/24/2020</td>\n",
       "      <td>941.0</td>\n",
       "    </tr>\n",
       "    <tr>\n",
       "      <th>3</th>\n",
       "      <td>01/25/2020</td>\n",
       "      <td>1438.0</td>\n",
       "    </tr>\n",
       "    <tr>\n",
       "      <th>4</th>\n",
       "      <td>01/26/2020</td>\n",
       "      <td>2118.0</td>\n",
       "    </tr>\n",
       "    <tr>\n",
       "      <th>...</th>\n",
       "      <td>...</td>\n",
       "      <td>...</td>\n",
       "    </tr>\n",
       "    <tr>\n",
       "      <th>315</th>\n",
       "      <td>12/02/2020</td>\n",
       "      <td>64530517.0</td>\n",
       "    </tr>\n",
       "    <tr>\n",
       "      <th>316</th>\n",
       "      <td>12/03/2020</td>\n",
       "      <td>65221040.0</td>\n",
       "    </tr>\n",
       "    <tr>\n",
       "      <th>317</th>\n",
       "      <td>12/04/2020</td>\n",
       "      <td>65899441.0</td>\n",
       "    </tr>\n",
       "    <tr>\n",
       "      <th>318</th>\n",
       "      <td>12/05/2020</td>\n",
       "      <td>66540034.0</td>\n",
       "    </tr>\n",
       "    <tr>\n",
       "      <th>319</th>\n",
       "      <td>12/06/2020</td>\n",
       "      <td>67073728.0</td>\n",
       "    </tr>\n",
       "  </tbody>\n",
       "</table>\n",
       "<p>320 rows × 2 columns</p>\n",
       "</div>"
      ],
      "text/plain": [
       "    ObservationDate   Confirmed\n",
       "0        01/22/2020       555.0\n",
       "1        01/23/2020       653.0\n",
       "2        01/24/2020       941.0\n",
       "3        01/25/2020      1438.0\n",
       "4        01/26/2020      2118.0\n",
       "..              ...         ...\n",
       "315      12/02/2020  64530517.0\n",
       "316      12/03/2020  65221040.0\n",
       "317      12/04/2020  65899441.0\n",
       "318      12/05/2020  66540034.0\n",
       "319      12/06/2020  67073728.0\n",
       "\n",
       "[320 rows x 2 columns]"
      ]
     },
     "execution_count": 6,
     "metadata": {},
     "output_type": "execute_result"
    }
   ],
   "source": [
    "confirmed = train.groupby('ObservationDate').sum()['Confirmed'].reset_index()\n",
    "confirmed"
   ]
  },
  {
   "cell_type": "code",
   "execution_count": 7,
   "metadata": {},
   "outputs": [
    {
     "data": {
      "text/html": [
       "<div>\n",
       "<style scoped>\n",
       "    .dataframe tbody tr th:only-of-type {\n",
       "        vertical-align: middle;\n",
       "    }\n",
       "\n",
       "    .dataframe tbody tr th {\n",
       "        vertical-align: top;\n",
       "    }\n",
       "\n",
       "    .dataframe thead th {\n",
       "        text-align: right;\n",
       "    }\n",
       "</style>\n",
       "<table border=\"1\" class=\"dataframe\">\n",
       "  <thead>\n",
       "    <tr style=\"text-align: right;\">\n",
       "      <th></th>\n",
       "      <th>ObservationDate</th>\n",
       "      <th>Deaths</th>\n",
       "    </tr>\n",
       "  </thead>\n",
       "  <tbody>\n",
       "    <tr>\n",
       "      <th>0</th>\n",
       "      <td>01/22/2020</td>\n",
       "      <td>17.0</td>\n",
       "    </tr>\n",
       "    <tr>\n",
       "      <th>1</th>\n",
       "      <td>01/23/2020</td>\n",
       "      <td>18.0</td>\n",
       "    </tr>\n",
       "    <tr>\n",
       "      <th>2</th>\n",
       "      <td>01/24/2020</td>\n",
       "      <td>26.0</td>\n",
       "    </tr>\n",
       "    <tr>\n",
       "      <th>3</th>\n",
       "      <td>01/25/2020</td>\n",
       "      <td>42.0</td>\n",
       "    </tr>\n",
       "    <tr>\n",
       "      <th>4</th>\n",
       "      <td>01/26/2020</td>\n",
       "      <td>56.0</td>\n",
       "    </tr>\n",
       "    <tr>\n",
       "      <th>...</th>\n",
       "      <td>...</td>\n",
       "      <td>...</td>\n",
       "    </tr>\n",
       "    <tr>\n",
       "      <th>315</th>\n",
       "      <td>12/02/2020</td>\n",
       "      <td>1493742.0</td>\n",
       "    </tr>\n",
       "    <tr>\n",
       "      <th>316</th>\n",
       "      <td>12/03/2020</td>\n",
       "      <td>1506260.0</td>\n",
       "    </tr>\n",
       "    <tr>\n",
       "      <th>317</th>\n",
       "      <td>12/04/2020</td>\n",
       "      <td>1518670.0</td>\n",
       "    </tr>\n",
       "    <tr>\n",
       "      <th>318</th>\n",
       "      <td>12/05/2020</td>\n",
       "      <td>1528868.0</td>\n",
       "    </tr>\n",
       "    <tr>\n",
       "      <th>319</th>\n",
       "      <td>12/06/2020</td>\n",
       "      <td>1536056.0</td>\n",
       "    </tr>\n",
       "  </tbody>\n",
       "</table>\n",
       "<p>320 rows × 2 columns</p>\n",
       "</div>"
      ],
      "text/plain": [
       "    ObservationDate     Deaths\n",
       "0        01/22/2020       17.0\n",
       "1        01/23/2020       18.0\n",
       "2        01/24/2020       26.0\n",
       "3        01/25/2020       42.0\n",
       "4        01/26/2020       56.0\n",
       "..              ...        ...\n",
       "315      12/02/2020  1493742.0\n",
       "316      12/03/2020  1506260.0\n",
       "317      12/04/2020  1518670.0\n",
       "318      12/05/2020  1528868.0\n",
       "319      12/06/2020  1536056.0\n",
       "\n",
       "[320 rows x 2 columns]"
      ]
     },
     "execution_count": 7,
     "metadata": {},
     "output_type": "execute_result"
    }
   ],
   "source": [
    "Deaths = train.groupby('ObservationDate').sum()['Deaths'].reset_index()\n",
    "Deaths"
   ]
  },
  {
   "cell_type": "code",
   "execution_count": 8,
   "metadata": {},
   "outputs": [
    {
     "data": {
      "text/html": [
       "<div>\n",
       "<style scoped>\n",
       "    .dataframe tbody tr th:only-of-type {\n",
       "        vertical-align: middle;\n",
       "    }\n",
       "\n",
       "    .dataframe tbody tr th {\n",
       "        vertical-align: top;\n",
       "    }\n",
       "\n",
       "    .dataframe thead th {\n",
       "        text-align: right;\n",
       "    }\n",
       "</style>\n",
       "<table border=\"1\" class=\"dataframe\">\n",
       "  <thead>\n",
       "    <tr style=\"text-align: right;\">\n",
       "      <th></th>\n",
       "      <th>ObservationDate</th>\n",
       "      <th>Recovered</th>\n",
       "    </tr>\n",
       "  </thead>\n",
       "  <tbody>\n",
       "    <tr>\n",
       "      <th>0</th>\n",
       "      <td>01/22/2020</td>\n",
       "      <td>28.0</td>\n",
       "    </tr>\n",
       "    <tr>\n",
       "      <th>1</th>\n",
       "      <td>01/23/2020</td>\n",
       "      <td>30.0</td>\n",
       "    </tr>\n",
       "    <tr>\n",
       "      <th>2</th>\n",
       "      <td>01/24/2020</td>\n",
       "      <td>36.0</td>\n",
       "    </tr>\n",
       "    <tr>\n",
       "      <th>3</th>\n",
       "      <td>01/25/2020</td>\n",
       "      <td>39.0</td>\n",
       "    </tr>\n",
       "    <tr>\n",
       "      <th>4</th>\n",
       "      <td>01/26/2020</td>\n",
       "      <td>52.0</td>\n",
       "    </tr>\n",
       "    <tr>\n",
       "      <th>...</th>\n",
       "      <td>...</td>\n",
       "      <td>...</td>\n",
       "    </tr>\n",
       "    <tr>\n",
       "      <th>315</th>\n",
       "      <td>12/02/2020</td>\n",
       "      <td>41496318.0</td>\n",
       "    </tr>\n",
       "    <tr>\n",
       "      <th>316</th>\n",
       "      <td>12/03/2020</td>\n",
       "      <td>41932091.0</td>\n",
       "    </tr>\n",
       "    <tr>\n",
       "      <th>317</th>\n",
       "      <td>12/04/2020</td>\n",
       "      <td>42352021.0</td>\n",
       "    </tr>\n",
       "    <tr>\n",
       "      <th>318</th>\n",
       "      <td>12/05/2020</td>\n",
       "      <td>42789879.0</td>\n",
       "    </tr>\n",
       "    <tr>\n",
       "      <th>319</th>\n",
       "      <td>12/06/2020</td>\n",
       "      <td>43103827.0</td>\n",
       "    </tr>\n",
       "  </tbody>\n",
       "</table>\n",
       "<p>320 rows × 2 columns</p>\n",
       "</div>"
      ],
      "text/plain": [
       "    ObservationDate   Recovered\n",
       "0        01/22/2020        28.0\n",
       "1        01/23/2020        30.0\n",
       "2        01/24/2020        36.0\n",
       "3        01/25/2020        39.0\n",
       "4        01/26/2020        52.0\n",
       "..              ...         ...\n",
       "315      12/02/2020  41496318.0\n",
       "316      12/03/2020  41932091.0\n",
       "317      12/04/2020  42352021.0\n",
       "318      12/05/2020  42789879.0\n",
       "319      12/06/2020  43103827.0\n",
       "\n",
       "[320 rows x 2 columns]"
      ]
     },
     "execution_count": 8,
     "metadata": {},
     "output_type": "execute_result"
    }
   ],
   "source": [
    "Recovered = train.groupby('ObservationDate').sum()['Recovered'].reset_index()\n",
    "Recovered"
   ]
  },
  {
   "cell_type": "code",
   "execution_count": 9,
   "metadata": {},
   "outputs": [
    {
     "data": {
      "text/plain": [
       "<AxesSubplot:xlabel='ObservationDate'>"
      ]
     },
     "execution_count": 9,
     "metadata": {},
     "output_type": "execute_result"
    },
    {
     "data": {
      "image/png": "[encoded data removed]",
      "text/plain": [
       "<Figure size 432x288 with 1 Axes>"
      ]
     },
     "metadata": {
      "needs_background": "light"
     },
     "output_type": "display_data"
    }
   ],
   "source": [
    "confirmed.plot(kind = 'bar',x ='ObservationDate',y = 'Confirmed')"
   ]
  },
  {
   "cell_type": "code",
   "execution_count": 10,
   "metadata": {},
   "outputs": [
    {
     "data": {
      "text/plain": [
       "<AxesSubplot:xlabel='ObservationDate', ylabel='Confirmed'>"
      ]
     },
     "execution_count": 10,
     "metadata": {},
     "output_type": "execute_result"
    },
    {
     "data": {
      "image/png": "[encoded data removed]",
      "text/plain": [
       "<Figure size 432x288 with 1 Axes>"
      ]
     },
     "metadata": {
      "needs_background": "light"
     },
     "output_type": "display_data"
    }
   ],
   "source": [
    "sns.barplot(x=confirmed['ObservationDate'],y=confirmed['Confirmed'])"
   ]
  },
  {
   "cell_type": "code",
   "execution_count": 11,
   "metadata": {},
   "outputs": [
    {
     "data": {
      "application/vnd.plotly.v1+json": {
       "config": {
        "linkText": "Export to plot.ly",
        "plotlyServerURL": "https://plot.ly",
        "showLink": true
       },
       "data": [
        {
         "marker": {
          "color": "rgba(255, 153, 51, 0.6)",
          "line": {
           "color": "rgba(255, 153, 51, 1.0)",
           "width": 1
          }
         },
         "name": "Confirmed",
         "orientation": "v",
         "text": "",
         "type": "bar",
         "x": [
          "01/22/2020",
          "01/23/2020",
          "01/24/2020",
          "01/25/2020",
          "01/26/2020",
          "01/27/2020",
          "01/28/2020",
          "01/29/2020",
          "01/30/2020",
          "01/31/2020",
          "02/01/2020",
          "02/02/2020",
          "02/03/2020",
          "02/04/2020",
          "02/05/2020",
          "02/06/2020",
          "02/07/2020",
          "02/08/2020",
          "02/09/2020",
          "02/10/2020",
          "02/11/2020",
          "02/12/2020",
          "02/13/2020",
          "02/14/2020",
          "02/15/2020",
          "02/16/2020",
          "02/17/2020",
          "02/18/2020",
          "02/19/2020",
          "02/20/2020",
          "02/21/2020",
          "02/22/2020",
          "02/23/2020",
          "02/24/2020",
          "02/25/2020",
          "02/26/2020",
          "02/27/2020",
          "02/28/2020",
          "02/29/2020",
          "03/01/2020",
          "03/02/2020",
          "03/03/2020",
          "03/04/2020",
          "03/05/2020",
          "03/06/2020",
          "03/07/2020",
          "03/08/2020",
          "03/09/2020",
          "03/10/2020",
          "03/11/2020",
          "03/12/2020",
          "03/13/2020",
          "03/14/2020",
          "03/15/2020",
          "03/16/2020",
          "03/17/2020",
          "03/18/2020",
          "03/19/2020",
          "03/20/2020",
          "03/21/2020",
          "03/22/2020",
          "03/23/2020",
          "03/24/2020",
          "03/25/2020",
          "03/26/2020",
          "03/27/2020",
          "03/28/2020",
          "03/29/2020",
          "03/30/2020",
          "03/31/2020",
          "04/01/2020",
          "04/02/2020",
          "04/03/2020",
          "04/04/2020",
          "04/05/2020",
          "04/06/2020",
          "04/07/2020",
          "04/08/2020",
          "04/09/2020",
          "04/10/2020",
          "04/11/2020",
          "04/12/2020",
          "04/13/2020",
          "04/14/2020",
          "04/15/2020",
          "04/16/2020",
          "04/17/2020",
          "04/18/2020",
          "04/19/2020",
          "04/20/2020",
          "04/21/2020",
          "04/22/2020",
          "04/23/2020",
          "04/24/2020",
          "04/25/2020",
          "04/26/2020",
          "04/27/2020",
          "04/28/2020",
          "04/29/2020",
          "04/30/2020",
          "05/01/2020",
          "05/02/2020",
          "05/03/2020",
          "05/04/2020",
          "05/05/2020",
          "05/06/2020",
          "05/07/2020",
          "05/08/2020",
          "05/09/2020",
          "05/10/2020",
          "05/11/2020",
          "05/12/2020",
          "05/13/2020",
          "05/14/2020",
          "05/15/2020",
          "05/16/2020",
          "05/17/2020",
          "05/18/2020",
          "05/19/2020",
          "05/20/2020",
          "05/21/2020",
          "05/22/2020",
          "05/23/2020",
          "05/24/2020",
          "05/25/2020",
          "05/26/2020",
          "05/27/2020",
          "05/28/2020",
          "05/29/2020",
          "05/30/2020",
          "05/31/2020",
          "06/01/2020",
          "06/02/2020",
          "06/03/2020",
          "06/04/2020",
          "06/05/2020",
          "06/06/2020",
          "06/07/2020",
          "06/08/2020",
          "06/09/2020",
          "06/10/2020",
          "06/11/2020",
          "06/12/2020",
          "06/13/2020",
          "06/14/2020",
          "06/15/2020",
          "06/16/2020",
          "06/17/2020",
          "06/18/2020",
          "06/19/2020",
          "06/20/2020",
          "06/21/2020",
          "06/22/2020",
          "06/23/2020",
          "06/24/2020",
          "06/25/2020",
          "06/26/2020",
          "06/27/2020",
          "06/28/2020",
          "06/29/2020",
          "06/30/2020",
          "07/01/2020",
          "07/02/2020",
          "07/03/2020",
          "07/04/2020",
          "07/05/2020",
          "07/06/2020",
          "07/07/2020",
          "07/08/2020",
          "07/09/2020",
          "07/10/2020",
          "07/11/2020",
          "07/12/2020",
          "07/13/2020",
          "07/14/2020",
          "07/15/2020",
          "07/16/2020",
          "07/17/2020",
          "07/18/2020",
          "07/19/2020",
          "07/20/2020",
          "07/21/2020",
          "07/22/2020",
          "07/23/2020",
          "07/24/2020",
          "07/25/2020",
          "07/26/2020",
          "07/27/2020",
          "07/28/2020",
          "07/29/2020",
          "07/30/2020",
          "07/31/2020",
          "08/01/2020",
          "08/02/2020",
          "08/03/2020",
          "08/04/2020",
          "08/05/2020",
          "08/06/2020",
          "08/07/2020",
          "08/08/2020",
          "08/09/2020",
          "08/10/2020",
          "08/11/2020",
          "08/12/2020",
          "08/13/2020",
          "08/14/2020",
          "08/15/2020",
          "08/16/2020",
          "08/17/2020",
          "08/18/2020",
          "08/19/2020",
          "08/20/2020",
          "08/21/2020",
          "08/22/2020",
          "08/23/2020",
          "08/24/2020",
          "08/25/2020",
          "08/26/2020",
          "08/27/2020",
          "08/28/2020",
          "08/29/2020",
          "08/30/2020",
          "08/31/2020",
          "09/01/2020",
          "09/02/2020",
          "09/03/2020",
          "09/04/2020",
          "09/05/2020",
          "09/06/2020",
          "09/07/2020",
          "09/08/2020",
          "09/09/2020",
          "09/10/2020",
          "09/11/2020",
          "09/12/2020",
          "09/13/2020",
          "09/14/2020",
          "09/15/2020",
          "09/16/2020",
          "09/17/2020",
          "09/18/2020",
          "09/19/2020",
          "09/20/2020",
          "09/21/2020",
          "09/22/2020",
          "09/23/2020",
          "09/24/2020",
          "09/25/2020",
          "09/26/2020",
          "09/27/2020",
          "09/28/2020",
          "09/29/2020",
          "09/30/2020",
          "10/01/2020",
          "10/02/2020",
          "10/03/2020",
          "10/04/2020",
          "10/05/2020",
          "10/06/2020",
          "10/07/2020",
          "10/08/2020",
          "10/09/2020",
          "10/10/2020",
          "10/11/2020",
          "10/12/2020",
          "10/13/2020",
          "10/14/2020",
          "10/15/2020",
          "10/16/2020",
          "10/17/2020",
          "10/18/2020",
          "10/19/2020",
          "10/20/2020",
          "10/21/2020",
          "10/22/2020",
          "10/23/2020",
          "10/24/2020",
          "10/25/2020",
          "10/26/2020",
          "10/27/2020",
          "10/28/2020",
          "10/29/2020",
          "10/30/2020",
          "10/31/2020",
          "11/01/2020",
          "11/02/2020",
          "11/03/2020",
          "11/04/2020",
          "11/05/2020",
          "11/06/2020",
          "11/07/2020",
          "11/08/2020",
          "11/09/2020",
          "11/10/2020",
          "11/11/2020",
          "11/12/2020",
          "11/13/2020",
          "11/14/2020",
          "11/15/2020",
          "11/16/2020",
          "11/17/2020",
          "11/18/2020",
          "11/19/2020",
          "11/20/2020",
          "11/21/2020",
          "11/22/2020",
          "11/23/2020",
          "11/24/2020",
          "11/25/2020",
          "11/26/2020",
          "11/27/2020",
          "11/28/2020",
          "11/29/2020",
          "11/30/2020",
          "12/01/2020",
          "12/02/2020",
          "12/03/2020",
          "12/04/2020",
          "12/05/2020",
          "12/06/2020"
         ],
         "y": [
          555,
          653,
          941,
          1438,
          2118,
          2927,
          5578,
          6165,
          8235,
          9925,
          12038,
          16787,
          19881,
          23892,
          27636,
          30818,
          34392,
          37121,
          40151,
          42763,
          44803,
          45222,
          60370,
          66887,
          69032,
          71226,
          73260,
          75138,
          75641,
          76199,
          76843,
          78599,
          78985,
          79570,
          80415,
          81397,
          82756,
          84126,
          86012,
          88368,
          90311,
          92848,
          95127,
          97890,
          101803,
          105843,
          109831,
          113584,
          118598,
          125850,
          128329,
          145185,
          156086,
          167411,
          181576,
          197211,
          214984,
          242675,
          272271,
          304686,
          337337,
          378496,
          418113,
          467795,
          529929,
          593755,
          661079,
          720379,
          782777,
          857923,
          933022,
          1013683,
          1096323,
          1197842,
          1272554,
          1345516,
          1426556,
          1511925,
          1595883,
          1692129,
          1771874,
          1847158,
          1917813,
          1976597,
          2056473,
          2152982,
          2240463,
          2318115,
          2401793,
          2472748,
          2549777,
          2624210,
          2709001,
          2810846,
          2897022,
          2971484,
          3041801,
          3116433,
          3194001,
          3256872,
          3343811,
          3427330,
          3506711,
          3583054,
          3662703,
          3755383,
          3845751,
          3938053,
          4023996,
          4101718,
          4177554,
          4262250,
          4347117,
          4442187,
          4542434,
          4634160,
          4713938,
          4802250,
          4897911,
          4996699,
          5102706,
          5211095,
          5310590,
          5407770,
          5495312,
          5589892,
          5692058,
          5809201,
          5924579,
          6059580,
          6167240,
          6265803,
          6386396,
          6508780,
          6633259,
          6770788,
          6897255,
          7010890,
          7119336,
          7242787,
          7361033,
          7515109,
          7633563,
          7767825,
          7901602,
          8034802,
          8174235,
          8350863,
          8489712,
          8669002,
          8792045,
          8955724,
          9099077,
          9264445,
          9431600,
          9610853,
          9802731,
          9979597,
          10147630,
          10302906,
          10476542,
          10693414,
          10871458,
          11075858,
          11267874,
          11450012,
          11620700,
          11830769,
          12043204,
          12269842,
          12501223,
          12719487,
          12912292,
          13105674,
          13325536,
          13557184,
          13806859,
          14057111,
          14294115,
          14508480,
          14708759,
          14948414,
          15229528,
          15512296,
          15794238,
          16047954,
          16253917,
          16488306,
          16692185,
          17030374,
          17311142,
          17602717,
          17853438,
          18085432,
          18288839,
          18547794,
          18821778,
          19108417,
          19391413,
          19650776,
          19877146,
          20104115,
          20358584,
          20647536,
          20923582,
          21227966,
          21478639,
          21692830,
          21903322,
          22159334,
          22434291,
          22702197,
          22973890,
          23228234,
          23446173,
          23672249,
          23915497,
          24202913,
          24478374,
          24762431,
          25024984,
          25251910,
          25514343,
          25779789,
          26062335,
          26336042,
          26641939,
          26903989,
          27136466,
          27365237,
          27603692,
          27897954,
          28196288,
          28517136,
          28793840,
          29030157,
          29226390,
          29595702,
          29898874,
          30213892,
          30539380,
          30819231,
          31061876,
          31361168,
          31645908,
          31908027,
          32272107,
          32607567,
          32882196,
          33126207,
          33399097,
          33685733,
          34012807,
          34325135,
          34630305,
          34932269,
          35195839,
          35521068,
          35851182,
          36199598,
          36561518,
          36921914,
          37251629,
          37522839,
          37847918,
          38176649,
          38557707,
          38965262,
          39376147,
          39717066,
          40004032,
          40452420,
          40841219,
          41284867,
          41757568,
          42262804,
          42672832,
          43065402,
          43557752,
          44028246,
          44544388,
          45083311,
          45648888,
          46134747,
          46576038,
          47026322,
          47505781,
          48190669,
          48784637,
          49427232,
          49938517,
          50504208,
          50972113,
          51532980,
          52178388,
          52825724,
          53474847,
          54068784,
          54542437,
          55070751,
          55679719,
          56303790,
          56954557,
          57620415,
          58206750,
          58691023,
          59212722,
          59801025,
          60434070,
          61015384,
          61687701,
          62286402,
          62773116,
          63279026,
          63883985,
          64530517,
          65221040,
          65899441,
          66540034,
          67073728
         ]
        }
       ],
       "layout": {
        "legend": {
         "bgcolor": "#F5F6F9",
         "font": {
          "color": "#4D5663"
         }
        },
        "paper_bgcolor": "#F5F6F9",
        "plot_bgcolor": "#F5F6F9",
        "template": {
         "data": {
          "bar": [
           {
            "error_x": {
             "color": "#2a3f5f"
            },
            "error_y": {
             "color": "#2a3f5f"
            },
            "marker": {
             "line": {
              "color": "#E5ECF6",
              "width": 0.5
             }
            },
            "type": "bar"
           }
          ],
          "barpolar": [
           {
            "marker": {
             "line": {
              "color": "#E5ECF6",
              "width": 0.5
             }
            },
            "type": "barpolar"
           }
          ],
          "carpet": [
           {
            "aaxis": {
             "endlinecolor": "#2a3f5f",
             "gridcolor": "white",
             "linecolor": "white",
             "minorgridcolor": "white",
             "startlinecolor": "#2a3f5f"
            },
            "baxis": {
             "endlinecolor": "#2a3f5f",
             "gridcolor": "white",
             "linecolor": "white",
             "minorgridcolor": "white",
             "startlinecolor": "#2a3f5f"
            },
            "type": "carpet"
           }
          ],
          "choropleth": [
           {
            "colorbar": {
             "outlinewidth": 0,
             "ticks": ""
            },
            "type": "choropleth"
           }
          ],
          "contour": [
           {
            "colorbar": {
             "outlinewidth": 0,
             "ticks": ""
            },
            "colorscale": [
             [
              0,
              "#0d0887"
             ],
             [
              0.1111111111111111,
              "#46039f"
             ],
             [
              0.2222222222222222,
              "#7201a8"
             ],
             [
              0.3333333333333333,
              "#9c179e"
             ],
             [
              0.4444444444444444,
              "#bd3786"
             ],
             [
              0.5555555555555556,
              "#d8576b"
             ],
             [
              0.6666666666666666,
              "#ed7953"
             ],
             [
              0.7777777777777778,
              "#fb9f3a"
             ],
             [
              0.8888888888888888,
              "#fdca26"
             ],
             [
              1,
              "#f0f921"
             ]
            ],
            "type": "contour"
           }
          ],
          "contourcarpet": [
           {
            "colorbar": {
             "outlinewidth": 0,
             "ticks": ""
            },
            "type": "contourcarpet"
           }
          ],
          "heatmap": [
           {
            "colorbar": {
             "outlinewidth": 0,
             "ticks": ""
            },
            "colorscale": [
             [
              0,
              "#0d0887"
             ],
             [
              0.1111111111111111,
              "#46039f"
             ],
             [
              0.2222222222222222,
              "#7201a8"
             ],
             [
              0.3333333333333333,
              "#9c179e"
             ],
             [
              0.4444444444444444,
              "#bd3786"
             ],
             [
              0.5555555555555556,
              "#d8576b"
             ],
             [
              0.6666666666666666,
              "#ed7953"
             ],
             [
              0.7777777777777778,
              "#fb9f3a"
             ],
             [
              0.8888888888888888,
              "#fdca26"
             ],
             [
              1,
              "#f0f921"
             ]
            ],
            "type": "heatmap"
           }
          ],
          "heatmapgl": [
           {
            "colorbar": {
             "outlinewidth": 0,
             "ticks": ""
            },
            "colorscale": [
             [
              0,
              "#0d0887"
             ],
             [
              0.1111111111111111,
              "#46039f"
             ],
             [
              0.2222222222222222,
              "#7201a8"
             ],
             [
              0.3333333333333333,
              "#9c179e"
             ],
             [
              0.4444444444444444,
              "#bd3786"
             ],
             [
              0.5555555555555556,
              "#d8576b"
             ],
             [
              0.6666666666666666,
              "#ed7953"
             ],
             [
              0.7777777777777778,
              "#fb9f3a"
             ],
             [
              0.8888888888888888,
              "#fdca26"
             ],
             [
              1,
              "#f0f921"
             ]
            ],
            "type": "heatmapgl"
           }
          ],
          "histogram": [
           {
            "marker": {
             "colorbar": {
              "outlinewidth": 0,
              "ticks": ""
             }
            },
            "type": "histogram"
           }
          ],
          "histogram2d": [
           {
            "colorbar": {
             "outlinewidth": 0,
             "ticks": ""
            },
            "colorscale": [
             [
              0,
              "#0d0887"
             ],
             [
              0.1111111111111111,
              "#46039f"
             ],
             [
              0.2222222222222222,
              "#7201a8"
             ],
             [
              0.3333333333333333,
              "#9c179e"
             ],
             [
              0.4444444444444444,
              "#bd3786"
             ],
             [
              0.5555555555555556,
              "#d8576b"
             ],
             [
              0.6666666666666666,
              "#ed7953"
             ],
             [
              0.7777777777777778,
              "#fb9f3a"
             ],
             [
              0.8888888888888888,
              "#fdca26"
             ],
             [
              1,
              "#f0f921"
             ]
            ],
            "type": "histogram2d"
           }
          ],
          "histogram2dcontour": [
           {
            "colorbar": {
             "outlinewidth": 0,
             "ticks": ""
            },
            "colorscale": [
             [
              0,
              "#0d0887"
             ],
             [
              0.1111111111111111,
              "#46039f"
             ],
             [
              0.2222222222222222,
              "#7201a8"
             ],
             [
              0.3333333333333333,
              "#9c179e"
             ],
             [
              0.4444444444444444,
              "#bd3786"
             ],
             [
              0.5555555555555556,
              "#d8576b"
             ],
             [
              0.6666666666666666,
              "#ed7953"
             ],
             [
              0.7777777777777778,
              "#fb9f3a"
             ],
             [
              0.8888888888888888,
              "#fdca26"
             ],
             [
              1,
              "#f0f921"
             ]
            ],
            "type": "histogram2dcontour"
           }
          ],
          "mesh3d": [
           {
            "colorbar": {
             "outlinewidth": 0,
             "ticks": ""
            },
            "type": "mesh3d"
           }
          ],
          "parcoords": [
           {
            "line": {
             "colorbar": {
              "outlinewidth": 0,
              "ticks": ""
             }
            },
            "type": "parcoords"
           }
          ],
          "pie": [
           {
            "automargin": true,
            "type": "pie"
           }
          ],
          "scatter": [
           {
            "marker": {
             "colorbar": {
              "outlinewidth": 0,
              "ticks": ""
             }
            },
            "type": "scatter"
           }
          ],
          "scatter3d": [
           {
            "line": {
             "colorbar": {
              "outlinewidth": 0,
              "ticks": ""
             }
            },
            "marker": {
             "colorbar": {
              "outlinewidth": 0,
              "ticks": ""
             }
            },
            "type": "scatter3d"
           }
          ],
          "scattercarpet": [
           {
            "marker": {
             "colorbar": {
              "outlinewidth": 0,
              "ticks": ""
             }
            },
            "type": "scattercarpet"
           }
          ],
          "scattergeo": [
           {
            "marker": {
             "colorbar": {
              "outlinewidth": 0,
              "ticks": ""
             }
            },
            "type": "scattergeo"
           }
          ],
          "scattergl": [
           {
            "marker": {
             "colorbar": {
              "outlinewidth": 0,
              "ticks": ""
             }
            },
            "type": "scattergl"
           }
          ],
          "scattermapbox": [
           {
            "marker": {
             "colorbar": {
              "outlinewidth": 0,
              "ticks": ""
             }
            },
            "type": "scattermapbox"
           }
          ],
          "scatterpolar": [
           {
            "marker": {
             "colorbar": {
              "outlinewidth": 0,
              "ticks": ""
             }
            },
            "type": "scatterpolar"
           }
          ],
          "scatterpolargl": [
           {
            "marker": {
             "colorbar": {
              "outlinewidth": 0,
              "ticks": ""
             }
            },
            "type": "scatterpolargl"
           }
          ],
          "scatterternary": [
           {
            "marker": {
             "colorbar": {
              "outlinewidth": 0,
              "ticks": ""
             }
            },
            "type": "scatterternary"
           }
          ],
          "surface": [
           {
            "colorbar": {
             "outlinewidth": 0,
             "ticks": ""
            },
            "colorscale": [
             [
              0,
              "#0d0887"
             ],
             [
              0.1111111111111111,
              "#46039f"
             ],
             [
              0.2222222222222222,
              "#7201a8"
             ],
             [
              0.3333333333333333,
              "#9c179e"
             ],
             [
              0.4444444444444444,
              "#bd3786"
             ],
             [
              0.5555555555555556,
              "#d8576b"
             ],
             [
              0.6666666666666666,
              "#ed7953"
             ],
             [
              0.7777777777777778,
              "#fb9f3a"
             ],
             [
              0.8888888888888888,
              "#fdca26"
             ],
             [
              1,
              "#f0f921"
             ]
            ],
            "type": "surface"
           }
          ],
          "table": [
           {
            "cells": {
             "fill": {
              "color": "#EBF0F8"
             },
             "line": {
              "color": "white"
             }
            },
            "header": {
             "fill": {
              "color": "#C8D4E3"
             },
             "line": {
              "color": "white"
             }
            },
            "type": "table"
           }
          ]
         },
         "layout": {
          "annotationdefaults": {
           "arrowcolor": "#2a3f5f",
           "arrowhead": 0,
           "arrowwidth": 1
          },
          "autotypenumbers": "strict",
          "coloraxis": {
           "colorbar": {
            "outlinewidth": 0,
            "ticks": ""
           }
          },
          "colorscale": {
           "diverging": [
            [
             0,
             "#8e0152"
            ],
            [
             0.1,
             "#c51b7d"
            ],
            [
             0.2,
             "#de77ae"
            ],
            [
             0.3,
             "#f1b6da"
            ],
            [
             0.4,
             "#fde0ef"
            ],
            [
             0.5,
             "#f7f7f7"
            ],
            [
             0.6,
             "#e6f5d0"
            ],
            [
             0.7,
             "#b8e186"
            ],
            [
             0.8,
             "#7fbc41"
            ],
            [
             0.9,
             "#4d9221"
            ],
            [
             1,
             "#276419"
            ]
           ],
           "sequential": [
            [
             0,
             "#0d0887"
            ],
            [
             0.1111111111111111,
             "#46039f"
            ],
            [
             0.2222222222222222,
             "#7201a8"
            ],
            [
             0.3333333333333333,
             "#9c179e"
            ],
            [
             0.4444444444444444,
             "#bd3786"
            ],
            [
             0.5555555555555556,
             "#d8576b"
            ],
            [
             0.6666666666666666,
             "#ed7953"
            ],
            [
             0.7777777777777778,
             "#fb9f3a"
            ],
            [
             0.8888888888888888,
             "#fdca26"
            ],
            [
             1,
             "#f0f921"
            ]
           ],
           "sequentialminus": [
            [
             0,
             "#0d0887"
            ],
            [
             0.1111111111111111,
             "#46039f"
            ],
            [
             0.2222222222222222,
             "#7201a8"
            ],
            [
             0.3333333333333333,
             "#9c179e"
            ],
            [
             0.4444444444444444,
             "#bd3786"
            ],
            [
             0.5555555555555556,
             "#d8576b"
            ],
            [
             0.6666666666666666,
             "#ed7953"
            ],
            [
             0.7777777777777778,
             "#fb9f3a"
            ],
            [
             0.8888888888888888,
             "#fdca26"
            ],
            [
             1,
             "#f0f921"
            ]
           ]
          },
          "colorway": [
           "#636efa",
           "#EF553B",
           "#00cc96",
           "#ab63fa",
           "#FFA15A",
           "#19d3f3",
           "#FF6692",
           "#B6E880",
           "#FF97FF",
           "#FECB52"
          ],
          "font": {
           "color": "#2a3f5f"
          },
          "geo": {
           "bgcolor": "white",
           "lakecolor": "white",
           "landcolor": "#E5ECF6",
           "showlakes": true,
           "showland": true,
           "subunitcolor": "white"
          },
          "hoverlabel": {
           "align": "left"
          },
          "hovermode": "closest",
          "mapbox": {
           "style": "light"
          },
          "paper_bgcolor": "white",
          "plot_bgcolor": "#E5ECF6",
          "polar": {
           "angularaxis": {
            "gridcolor": "white",
            "linecolor": "white",
            "ticks": ""
           },
           "bgcolor": "#E5ECF6",
           "radialaxis": {
            "gridcolor": "white",
            "linecolor": "white",
            "ticks": ""
           }
          },
          "scene": {
           "xaxis": {
            "backgroundcolor": "#E5ECF6",
            "gridcolor": "white",
            "gridwidth": 2,
            "linecolor": "white",
            "showbackground": true,
            "ticks": "",
            "zerolinecolor": "white"
           },
           "yaxis": {
            "backgroundcolor": "#E5ECF6",
            "gridcolor": "white",
            "gridwidth": 2,
            "linecolor": "white",
            "showbackground": true,
            "ticks": "",
            "zerolinecolor": "white"
           },
           "zaxis": {
            "backgroundcolor": "#E5ECF6",
            "gridcolor": "white",
            "gridwidth": 2,
            "linecolor": "white",
            "showbackground": true,
            "ticks": "",
            "zerolinecolor": "white"
           }
          },
          "shapedefaults": {
           "line": {
            "color": "#2a3f5f"
           }
          },
          "ternary": {
           "aaxis": {
            "gridcolor": "white",
            "linecolor": "white",
            "ticks": ""
           },
           "baxis": {
            "gridcolor": "white",
            "linecolor": "white",
            "ticks": ""
           },
           "bgcolor": "#E5ECF6",
           "caxis": {
            "gridcolor": "white",
            "linecolor": "white",
            "ticks": ""
           }
          },
          "title": {
           "x": 0.05
          },
          "xaxis": {
           "automargin": true,
           "gridcolor": "white",
           "linecolor": "white",
           "ticks": "",
           "title": {
            "standoff": 15
           },
           "zerolinecolor": "white",
           "zerolinewidth": 2
          },
          "yaxis": {
           "automargin": true,
           "gridcolor": "white",
           "linecolor": "white",
           "ticks": "",
           "title": {
            "standoff": 15
           },
           "zerolinecolor": "white",
           "zerolinewidth": 2
          }
         }
        },
        "title": {
         "font": {
          "color": "#4D5663"
         }
        },
        "xaxis": {
         "gridcolor": "#E1E5ED",
         "showgrid": true,
         "tickfont": {
          "color": "#4D5663"
         },
         "title": {
          "font": {
           "color": "#4D5663"
          },
          "text": ""
         },
         "zerolinecolor": "#E1E5ED"
        },
        "yaxis": {
         "gridcolor": "#E1E5ED",
         "showgrid": true,
         "tickfont": {
          "color": "#4D5663"
         },
         "title": {
          "font": {
           "color": "#4D5663"
          },
          "text": ""
         },
         "zerolinecolor": "#E1E5ED"
        }
       }
      },
      "text/html": [
       "<div>                            <div id=\"6a20d7e3-963a-4781-a356-738c7161d6a1\" class=\"plotly-graph-div\" style=\"height:525px; width:100%;\"></div>            <script type=\"text/javascript\">                require([\"plotly\"], function(Plotly) {                    window.PLOTLYENV=window.PLOTLYENV || {};\n",
       "                    window.PLOTLYENV.BASE_URL='https://plot.ly';                                    if (document.getElementById(\"6a20d7e3-963a-4781-a356-738c7161d6a1\")) {                    Plotly.newPlot(                        \"6a20d7e3-963a-4781-a356-738c7161d6a1\",                        [{\"marker\": {\"color\": \"rgba(255, 153, 51, 0.6)\", \"line\": {\"color\": \"rgba(255, 153, 51, 1.0)\", \"width\": 1}}, \"name\": \"Confirmed\", \"orientation\": \"v\", \"text\": \"\", \"type\": \"bar\", \"x\": [\"01/22/2020\", \"01/23/2020\", \"01/24/2020\", \"01/25/2020\", \"01/26/2020\", \"01/27/2020\", \"01/28/2020\", \"01/29/2020\", \"01/30/2020\", \"01/31/2020\", \"02/01/2020\", \"02/02/2020\", \"02/03/2020\", \"02/04/2020\", \"02/05/2020\", \"02/06/2020\", \"02/07/2020\", \"02/08/2020\", \"02/09/2020\", \"02/10/2020\", \"02/11/2020\", \"02/12/2020\", \"02/13/2020\", \"02/14/2020\", \"02/15/2020\", \"02/16/2020\", \"02/17/2020\", \"02/18/2020\", \"02/19/2020\", \"02/20/2020\", \"02/21/2020\", \"02/22/2020\", \"02/23/2020\", \"02/24/2020\", \"02/25/2020\", \"02/26/2020\", \"02/27/2020\", \"02/28/2020\", \"02/29/2020\", \"03/01/2020\", \"03/02/2020\", \"03/03/2020\", \"03/04/2020\", \"03/05/2020\", \"03/06/2020\", \"03/07/2020\", \"03/08/2020\", \"03/09/2020\", \"03/10/2020\", \"03/11/2020\", \"03/12/2020\", \"03/13/2020\", \"03/14/2020\", \"03/15/2020\", \"03/16/2020\", \"03/17/2020\", \"03/18/2020\", \"03/19/2020\", \"03/20/2020\", \"03/21/2020\", \"03/22/2020\", \"03/23/2020\", \"03/24/2020\", \"03/25/2020\", \"03/26/2020\", \"03/27/2020\", \"03/28/2020\", \"03/29/2020\", \"03/30/2020\", \"03/31/2020\", \"04/01/2020\", \"04/02/2020\", \"04/03/2020\", \"04/04/2020\", \"04/05/2020\", \"04/06/2020\", \"04/07/2020\", \"04/08/2020\", \"04/09/2020\", \"04/10/2020\", \"04/11/2020\", \"04/12/2020\", \"04/13/2020\", \"04/14/2020\", \"04/15/2020\", \"04/16/2020\", \"04/17/2020\", \"04/18/2020\", \"04/19/2020\", \"04/20/2020\", \"04/21/2020\", \"04/22/2020\", \"04/23/2020\", \"04/24/2020\", \"04/25/2020\", \"04/26/2020\", \"04/27/2020\", \"04/28/2020\", \"04/29/2020\", \"04/30/2020\", \"05/01/2020\", \"05/02/2020\", \"05/03/2020\", \"05/04/2020\", \"05/05/2020\", \"05/06/2020\", \"05/07/2020\", \"05/08/2020\", \"05/09/2020\", \"05/10/2020\", \"05/11/2020\", \"05/12/2020\", \"05/13/2020\", \"05/14/2020\", \"05/15/2020\", \"05/16/2020\", \"05/17/2020\", \"05/18/2020\", \"05/19/2020\", \"05/20/2020\", \"05/21/2020\", \"05/22/2020\", \"05/23/2020\", \"05/24/2020\", \"05/25/2020\", \"05/26/2020\", \"05/27/2020\", \"05/28/2020\", \"05/29/2020\", \"05/30/2020\", \"05/31/2020\", \"06/01/2020\", \"06/02/2020\", \"06/03/2020\", \"06/04/2020\", \"06/05/2020\", \"06/06/2020\", \"06/07/2020\", \"06/08/2020\", \"06/09/2020\", \"06/10/2020\", \"06/11/2020\", \"06/12/2020\", \"06/13/2020\", \"06/14/2020\", \"06/15/2020\", \"06/16/2020\", \"06/17/2020\", \"06/18/2020\", \"06/19/2020\", \"06/20/2020\", \"06/21/2020\", \"06/22/2020\", \"06/23/2020\", \"06/24/2020\", \"06/25/2020\", \"06/26/2020\", \"06/27/2020\", \"06/28/2020\", \"06/29/2020\", \"06/30/2020\", \"07/01/2020\", \"07/02/2020\", \"07/03/2020\", \"07/04/2020\", \"07/05/2020\", \"07/06/2020\", \"07/07/2020\", \"07/08/2020\", \"07/09/2020\", \"07/10/2020\", \"07/11/2020\", \"07/12/2020\", \"07/13/2020\", \"07/14/2020\", \"07/15/2020\", \"07/16/2020\", \"07/17/2020\", \"07/18/2020\", \"07/19/2020\", \"07/20/2020\", \"07/21/2020\", \"07/22/2020\", \"07/23/2020\", \"07/24/2020\", \"07/25/2020\", \"07/26/2020\", \"07/27/2020\", \"07/28/2020\", \"07/29/2020\", \"07/30/2020\", \"07/31/2020\", \"08/01/2020\", \"08/02/2020\", \"08/03/2020\", \"08/04/2020\", \"08/05/2020\", \"08/06/2020\", \"08/07/2020\", \"08/08/2020\", \"08/09/2020\", \"08/10/2020\", \"08/11/2020\", \"08/12/2020\", \"08/13/2020\", \"08/14/2020\", \"08/15/2020\", \"08/16/2020\", \"08/17/2020\", \"08/18/2020\", \"08/19/2020\", \"08/20/2020\", \"08/21/2020\", \"08/22/2020\", \"08/23/2020\", \"08/24/2020\", \"08/25/2020\", \"08/26/2020\", \"08/27/2020\", \"08/28/2020\", \"08/29/2020\", \"08/30/2020\", \"08/31/2020\", \"09/01/2020\", \"09/02/2020\", \"09/03/2020\", \"09/04/2020\", \"09/05/2020\", \"09/06/2020\", \"09/07/2020\", \"09/08/2020\", \"09/09/2020\", \"09/10/2020\", \"09/11/2020\", \"09/12/2020\", \"09/13/2020\", \"09/14/2020\", \"09/15/2020\", \"09/16/2020\", \"09/17/2020\", \"09/18/2020\", \"09/19/2020\", \"09/20/2020\", \"09/21/2020\", \"09/22/2020\", \"09/23/2020\", \"09/24/2020\", \"09/25/2020\", \"09/26/2020\", \"09/27/2020\", \"09/28/2020\", \"09/29/2020\", \"09/30/2020\", \"10/01/2020\", \"10/02/2020\", \"10/03/2020\", \"10/04/2020\", \"10/05/2020\", \"10/06/2020\", \"10/07/2020\", \"10/08/2020\", \"10/09/2020\", \"10/10/2020\", \"10/11/2020\", \"10/12/2020\", \"10/13/2020\", \"10/14/2020\", \"10/15/2020\", \"10/16/2020\", \"10/17/2020\", \"10/18/2020\", \"10/19/2020\", \"10/20/2020\", \"10/21/2020\", \"10/22/2020\", \"10/23/2020\", \"10/24/2020\", \"10/25/2020\", \"10/26/2020\", \"10/27/2020\", \"10/28/2020\", \"10/29/2020\", \"10/30/2020\", \"10/31/2020\", \"11/01/2020\", \"11/02/2020\", \"11/03/2020\", \"11/04/2020\", \"11/05/2020\", \"11/06/2020\", \"11/07/2020\", \"11/08/2020\", \"11/09/2020\", \"11/10/2020\", \"11/11/2020\", \"11/12/2020\", \"11/13/2020\", \"11/14/2020\", \"11/15/2020\", \"11/16/2020\", \"11/17/2020\", \"11/18/2020\", \"11/19/2020\", \"11/20/2020\", \"11/21/2020\", \"11/22/2020\", \"11/23/2020\", \"11/24/2020\", \"11/25/2020\", \"11/26/2020\", \"11/27/2020\", \"11/28/2020\", \"11/29/2020\", \"11/30/2020\", \"12/01/2020\", \"12/02/2020\", \"12/03/2020\", \"12/04/2020\", \"12/05/2020\", \"12/06/2020\"], \"y\": [555.0, 653.0, 941.0, 1438.0, 2118.0, 2927.0, 5578.0, 6165.0, 8235.0, 9925.0, 12038.0, 16787.0, 19881.0, 23892.0, 27636.0, 30818.0, 34392.0, 37121.0, 40151.0, 42763.0, 44803.0, 45222.0, 60370.0, 66887.0, 69032.0, 71226.0, 73260.0, 75138.0, 75641.0, 76199.0, 76843.0, 78599.0, 78985.0, 79570.0, 80415.0, 81397.0, 82756.0, 84126.0, 86012.0, 88368.0, 90311.0, 92848.0, 95127.0, 97890.0, 101803.0, 105843.0, 109831.0, 113584.0, 118598.0, 125850.0, 128329.0, 145185.0, 156086.0, 167411.0, 181576.0, 197211.0, 214984.0, 242675.0, 272271.0, 304686.0, 337337.0, 378496.0, 418113.0, 467795.0, 529929.0, 593755.0, 661079.0, 720379.0, 782777.0, 857923.0, 933022.0, 1013683.0, 1096323.0, 1197842.0, 1272554.0, 1345516.0, 1426556.0, 1511925.0, 1595883.0, 1692129.0, 1771874.0, 1847158.0, 1917813.0, 1976597.0, 2056473.0, 2152982.0, 2240463.0, 2318115.0, 2401793.0, 2472748.0, 2549777.0, 2624210.0, 2709001.0, 2810846.0, 2897022.0, 2971484.0, 3041801.0, 3116433.0, 3194001.0, 3256872.0, 3343811.0, 3427330.0, 3506711.0, 3583054.0, 3662703.0, 3755383.0, 3845751.0, 3938053.0, 4023996.0, 4101718.0, 4177554.0, 4262250.0, 4347117.0, 4442187.0, 4542434.0, 4634160.0, 4713938.0, 4802250.0, 4897911.0, 4996699.0, 5102706.0, 5211095.0, 5310590.0, 5407770.0, 5495312.0, 5589892.0, 5692058.0, 5809201.0, 5924579.0, 6059580.0, 6167240.0, 6265803.0, 6386396.0, 6508780.0, 6633259.0, 6770788.0, 6897255.0, 7010890.0, 7119336.0, 7242787.0, 7361033.0, 7515109.0, 7633563.0, 7767825.0, 7901602.0, 8034802.0, 8174235.0, 8350863.0, 8489712.0, 8669002.0, 8792045.0, 8955724.0, 9099077.0, 9264445.0, 9431600.0, 9610853.0, 9802731.0, 9979597.0, 10147630.0, 10302906.0, 10476542.0, 10693414.0, 10871458.0, 11075858.0, 11267874.0, 11450012.0, 11620700.0, 11830769.0, 12043204.0, 12269842.0, 12501223.0, 12719487.0, 12912292.0, 13105674.0, 13325536.0, 13557184.0, 13806859.0, 14057111.0, 14294115.0, 14508480.0, 14708759.0, 14948414.0, 15229528.0, 15512296.0, 15794238.0, 16047954.0, 16253917.0, 16488306.0, 16692185.0, 17030374.0, 17311142.0, 17602717.0, 17853438.0, 18085432.0, 18288839.0, 18547794.0, 18821778.0, 19108417.0, 19391413.0, 19650776.0, 19877146.0, 20104115.0, 20358584.0, 20647536.0, 20923582.0, 21227966.0, 21478639.0, 21692830.0, 21903322.0, 22159334.0, 22434291.0, 22702197.0, 22973890.0, 23228234.0, 23446173.0, 23672249.0, 23915497.0, 24202913.0, 24478374.0, 24762431.0, 25024984.0, 25251910.0, 25514343.0, 25779789.0, 26062335.0, 26336042.0, 26641939.0, 26903989.0, 27136466.0, 27365237.0, 27603692.0, 27897954.0, 28196288.0, 28517136.0, 28793840.0, 29030157.0, 29226390.0, 29595702.0, 29898874.0, 30213892.0, 30539380.0, 30819231.0, 31061876.0, 31361168.0, 31645908.0, 31908027.0, 32272107.0, 32607567.0, 32882196.0, 33126207.0, 33399097.0, 33685733.0, 34012807.0, 34325135.0, 34630305.0, 34932269.0, 35195839.0, 35521068.0, 35851182.0, 36199598.0, 36561518.0, 36921914.0, 37251629.0, 37522839.0, 37847918.0, 38176649.0, 38557707.0, 38965262.0, 39376147.0, 39717066.0, 40004032.0, 40452420.0, 40841219.0, 41284867.0, 41757568.0, 42262804.0, 42672832.0, 43065402.0, 43557752.0, 44028246.0, 44544388.0, 45083311.0, 45648888.0, 46134747.0, 46576038.0, 47026322.0, 47505781.0, 48190669.0, 48784637.0, 49427232.0, 49938517.0, 50504208.0, 50972113.0, 51532980.0, 52178388.0, 52825724.0, 53474847.0, 54068784.0, 54542437.0, 55070751.0, 55679719.0, 56303790.0, 56954557.0, 57620415.0, 58206750.0, 58691023.0, 59212722.0, 59801025.0, 60434070.0, 61015384.0, 61687701.0, 62286402.0, 62773116.0, 63279026.0, 63883985.0, 64530517.0, 65221040.0, 65899441.0, 66540034.0, 67073728.0]}],                        {\"legend\": {\"bgcolor\": \"#F5F6F9\", \"font\": {\"color\": \"#4D5663\"}}, \"paper_bgcolor\": \"#F5F6F9\", \"plot_bgcolor\": \"#F5F6F9\", \"template\": {\"data\": {\"bar\": [{\"error_x\": {\"color\": \"#2a3f5f\"}, \"error_y\": {\"color\": \"#2a3f5f\"}, \"marker\": {\"line\": {\"color\": \"#E5ECF6\", \"width\": 0.5}}, \"type\": \"bar\"}], \"barpolar\": [{\"marker\": {\"line\": {\"color\": \"#E5ECF6\", \"width\": 0.5}}, \"type\": \"barpolar\"}], \"carpet\": [{\"aaxis\": {\"endlinecolor\": \"#2a3f5f\", \"gridcolor\": \"white\", \"linecolor\": \"white\", \"minorgridcolor\": \"white\", \"startlinecolor\": \"#2a3f5f\"}, \"baxis\": {\"endlinecolor\": \"#2a3f5f\", \"gridcolor\": \"white\", \"linecolor\": \"white\", \"minorgridcolor\": \"white\", \"startlinecolor\": \"#2a3f5f\"}, \"type\": \"carpet\"}], \"choropleth\": [{\"colorbar\": {\"outlinewidth\": 0, \"ticks\": \"\"}, \"type\": \"choropleth\"}], \"contour\": [{\"colorbar\": {\"outlinewidth\": 0, \"ticks\": \"\"}, \"colorscale\": [[0.0, \"#0d0887\"], [0.1111111111111111, \"#46039f\"], [0.2222222222222222, \"#7201a8\"], [0.3333333333333333, \"#9c179e\"], [0.4444444444444444, \"#bd3786\"], [0.5555555555555556, \"#d8576b\"], [0.6666666666666666, \"#ed7953\"], [0.7777777777777778, \"#fb9f3a\"], [0.8888888888888888, \"#fdca26\"], [1.0, \"#f0f921\"]], \"type\": \"contour\"}], \"contourcarpet\": [{\"colorbar\": {\"outlinewidth\": 0, \"ticks\": \"\"}, \"type\": \"contourcarpet\"}], \"heatmap\": [{\"colorbar\": {\"outlinewidth\": 0, \"ticks\": \"\"}, \"colorscale\": [[0.0, \"#0d0887\"], [0.1111111111111111, \"#46039f\"], [0.2222222222222222, \"#7201a8\"], [0.3333333333333333, \"#9c179e\"], [0.4444444444444444, \"#bd3786\"], [0.5555555555555556, \"#d8576b\"], [0.6666666666666666, \"#ed7953\"], [0.7777777777777778, \"#fb9f3a\"], [0.8888888888888888, \"#fdca26\"], [1.0, \"#f0f921\"]], \"type\": \"heatmap\"}], \"heatmapgl\": [{\"colorbar\": {\"outlinewidth\": 0, \"ticks\": \"\"}, \"colorscale\": [[0.0, \"#0d0887\"], [0.1111111111111111, \"#46039f\"], [0.2222222222222222, \"#7201a8\"], [0.3333333333333333, \"#9c179e\"], [0.4444444444444444, \"#bd3786\"], [0.5555555555555556, \"#d8576b\"], [0.6666666666666666, \"#ed7953\"], [0.7777777777777778, \"#fb9f3a\"], [0.8888888888888888, \"#fdca26\"], [1.0, \"#f0f921\"]], \"type\": \"heatmapgl\"}], \"histogram\": [{\"marker\": {\"colorbar\": {\"outlinewidth\": 0, \"ticks\": \"\"}}, \"type\": \"histogram\"}], \"histogram2d\": [{\"colorbar\": {\"outlinewidth\": 0, \"ticks\": \"\"}, \"colorscale\": [[0.0, \"#0d0887\"], [0.1111111111111111, \"#46039f\"], [0.2222222222222222, \"#7201a8\"], [0.3333333333333333, \"#9c179e\"], [0.4444444444444444, \"#bd3786\"], [0.5555555555555556, \"#d8576b\"], [0.6666666666666666, \"#ed7953\"], [0.7777777777777778, \"#fb9f3a\"], [0.8888888888888888, \"#fdca26\"], [1.0, \"#f0f921\"]], \"type\": \"histogram2d\"}], \"histogram2dcontour\": [{\"colorbar\": {\"outlinewidth\": 0, \"ticks\": \"\"}, \"colorscale\": [[0.0, \"#0d0887\"], [0.1111111111111111, \"#46039f\"], [0.2222222222222222, \"#7201a8\"], [0.3333333333333333, \"#9c179e\"], [0.4444444444444444, \"#bd3786\"], [0.5555555555555556, \"#d8576b\"], [0.6666666666666666, \"#ed7953\"], [0.7777777777777778, \"#fb9f3a\"], [0.8888888888888888, \"#fdca26\"], [1.0, \"#f0f921\"]], \"type\": \"histogram2dcontour\"}], \"mesh3d\": [{\"colorbar\": {\"outlinewidth\": 0, \"ticks\": \"\"}, \"type\": \"mesh3d\"}], \"parcoords\": [{\"line\": {\"colorbar\": {\"outlinewidth\": 0, \"ticks\": \"\"}}, \"type\": \"parcoords\"}], \"pie\": [{\"automargin\": true, \"type\": \"pie\"}], \"scatter\": [{\"marker\": {\"colorbar\": {\"outlinewidth\": 0, \"ticks\": \"\"}}, \"type\": \"scatter\"}], \"scatter3d\": [{\"line\": {\"colorbar\": {\"outlinewidth\": 0, \"ticks\": \"\"}}, \"marker\": {\"colorbar\": {\"outlinewidth\": 0, \"ticks\": \"\"}}, \"type\": \"scatter3d\"}], \"scattercarpet\": [{\"marker\": {\"colorbar\": {\"outlinewidth\": 0, \"ticks\": \"\"}}, \"type\": \"scattercarpet\"}], \"scattergeo\": [{\"marker\": {\"colorbar\": {\"outlinewidth\": 0, \"ticks\": \"\"}}, \"type\": \"scattergeo\"}], \"scattergl\": [{\"marker\": {\"colorbar\": {\"outlinewidth\": 0, \"ticks\": \"\"}}, \"type\": \"scattergl\"}], \"scattermapbox\": [{\"marker\": {\"colorbar\": {\"outlinewidth\": 0, \"ticks\": \"\"}}, \"type\": \"scattermapbox\"}], \"scatterpolar\": [{\"marker\": {\"colorbar\": {\"outlinewidth\": 0, \"ticks\": \"\"}}, \"type\": \"scatterpolar\"}], \"scatterpolargl\": [{\"marker\": {\"colorbar\": {\"outlinewidth\": 0, \"ticks\": \"\"}}, \"type\": \"scatterpolargl\"}], \"scatterternary\": [{\"marker\": {\"colorbar\": {\"outlinewidth\": 0, \"ticks\": \"\"}}, \"type\": \"scatterternary\"}], \"surface\": [{\"colorbar\": {\"outlinewidth\": 0, \"ticks\": \"\"}, \"colorscale\": [[0.0, \"#0d0887\"], [0.1111111111111111, \"#46039f\"], [0.2222222222222222, \"#7201a8\"], [0.3333333333333333, \"#9c179e\"], [0.4444444444444444, \"#bd3786\"], [0.5555555555555556, \"#d8576b\"], [0.6666666666666666, \"#ed7953\"], [0.7777777777777778, \"#fb9f3a\"], [0.8888888888888888, \"#fdca26\"], [1.0, \"#f0f921\"]], \"type\": \"surface\"}], \"table\": [{\"cells\": {\"fill\": {\"color\": \"#EBF0F8\"}, \"line\": {\"color\": \"white\"}}, \"header\": {\"fill\": {\"color\": \"#C8D4E3\"}, \"line\": {\"color\": \"white\"}}, \"type\": \"table\"}]}, \"layout\": {\"annotationdefaults\": {\"arrowcolor\": \"#2a3f5f\", \"arrowhead\": 0, \"arrowwidth\": 1}, \"autotypenumbers\": \"strict\", \"coloraxis\": {\"colorbar\": {\"outlinewidth\": 0, \"ticks\": \"\"}}, \"colorscale\": {\"diverging\": [[0, \"#8e0152\"], [0.1, \"#c51b7d\"], [0.2, \"#de77ae\"], [0.3, \"#f1b6da\"], [0.4, \"#fde0ef\"], [0.5, \"#f7f7f7\"], [0.6, \"#e6f5d0\"], [0.7, \"#b8e186\"], [0.8, \"#7fbc41\"], [0.9, \"#4d9221\"], [1, \"#276419\"]], \"sequential\": [[0.0, \"#0d0887\"], [0.1111111111111111, \"#46039f\"], [0.2222222222222222, \"#7201a8\"], [0.3333333333333333, \"#9c179e\"], [0.4444444444444444, \"#bd3786\"], [0.5555555555555556, \"#d8576b\"], [0.6666666666666666, \"#ed7953\"], [0.7777777777777778, \"#fb9f3a\"], [0.8888888888888888, \"#fdca26\"], [1.0, \"#f0f921\"]], \"sequentialminus\": [[0.0, \"#0d0887\"], [0.1111111111111111, \"#46039f\"], [0.2222222222222222, \"#7201a8\"], [0.3333333333333333, \"#9c179e\"], [0.4444444444444444, \"#bd3786\"], [0.5555555555555556, \"#d8576b\"], [0.6666666666666666, \"#ed7953\"], [0.7777777777777778, \"#fb9f3a\"], [0.8888888888888888, \"#fdca26\"], [1.0, \"#f0f921\"]]}, \"colorway\": [\"#636efa\", \"#EF553B\", \"#00cc96\", \"#ab63fa\", \"#FFA15A\", \"#19d3f3\", \"#FF6692\", \"#B6E880\", \"#FF97FF\", \"#FECB52\"], \"font\": {\"color\": \"#2a3f5f\"}, \"geo\": {\"bgcolor\": \"white\", \"lakecolor\": \"white\", \"landcolor\": \"#E5ECF6\", \"showlakes\": true, \"showland\": true, \"subunitcolor\": \"white\"}, \"hoverlabel\": {\"align\": \"left\"}, \"hovermode\": \"closest\", \"mapbox\": {\"style\": \"light\"}, \"paper_bgcolor\": \"white\", \"plot_bgcolor\": \"#E5ECF6\", \"polar\": {\"angularaxis\": {\"gridcolor\": \"white\", \"linecolor\": \"white\", \"ticks\": \"\"}, \"bgcolor\": \"#E5ECF6\", \"radialaxis\": {\"gridcolor\": \"white\", \"linecolor\": \"white\", \"ticks\": \"\"}}, \"scene\": {\"xaxis\": {\"backgroundcolor\": \"#E5ECF6\", \"gridcolor\": \"white\", \"gridwidth\": 2, \"linecolor\": \"white\", \"showbackground\": true, \"ticks\": \"\", \"zerolinecolor\": \"white\"}, \"yaxis\": {\"backgroundcolor\": \"#E5ECF6\", \"gridcolor\": \"white\", \"gridwidth\": 2, \"linecolor\": \"white\", \"showbackground\": true, \"ticks\": \"\", \"zerolinecolor\": \"white\"}, \"zaxis\": {\"backgroundcolor\": \"#E5ECF6\", \"gridcolor\": \"white\", \"gridwidth\": 2, \"linecolor\": \"white\", \"showbackground\": true, \"ticks\": \"\", \"zerolinecolor\": \"white\"}}, \"shapedefaults\": {\"line\": {\"color\": \"#2a3f5f\"}}, \"ternary\": {\"aaxis\": {\"gridcolor\": \"white\", \"linecolor\": \"white\", \"ticks\": \"\"}, \"baxis\": {\"gridcolor\": \"white\", \"linecolor\": \"white\", \"ticks\": \"\"}, \"bgcolor\": \"#E5ECF6\", \"caxis\": {\"gridcolor\": \"white\", \"linecolor\": \"white\", \"ticks\": \"\"}}, \"title\": {\"x\": 0.05}, \"xaxis\": {\"automargin\": true, \"gridcolor\": \"white\", \"linecolor\": \"white\", \"ticks\": \"\", \"title\": {\"standoff\": 15}, \"zerolinecolor\": \"white\", \"zerolinewidth\": 2}, \"yaxis\": {\"automargin\": true, \"gridcolor\": \"white\", \"linecolor\": \"white\", \"ticks\": \"\", \"title\": {\"standoff\": 15}, \"zerolinecolor\": \"white\", \"zerolinewidth\": 2}}}, \"title\": {\"font\": {\"color\": \"#4D5663\"}}, \"xaxis\": {\"gridcolor\": \"#E1E5ED\", \"showgrid\": true, \"tickfont\": {\"color\": \"#4D5663\"}, \"title\": {\"font\": {\"color\": \"#4D5663\"}, \"text\": \"\"}, \"zerolinecolor\": \"#E1E5ED\"}, \"yaxis\": {\"gridcolor\": \"#E1E5ED\", \"showgrid\": true, \"tickfont\": {\"color\": \"#4D5663\"}, \"title\": {\"font\": {\"color\": \"#4D5663\"}, \"text\": \"\"}, \"zerolinecolor\": \"#E1E5ED\"}},                        {\"showLink\": true, \"linkText\": \"Export to plot.ly\", \"plotlyServerURL\": \"https://plot.ly\", \"responsive\": true}                    ).then(function(){\n",
       "                            \n",
       "var gd = document.getElementById('6a20d7e3-963a-4781-a356-738c7161d6a1');\n",
       "var x = new MutationObserver(function (mutations, observer) {{\n",
       "        var display = window.getComputedStyle(gd).display;\n",
       "        if (!display || display === 'none') {{\n",
       "            console.log([gd, 'removed!']);\n",
       "            Plotly.purge(gd);\n",
       "            observer.disconnect();\n",
       "        }}\n",
       "}});\n",
       "\n",
       "// Listen for the removal of the full notebook cells\n",
       "var notebookContainer = gd.closest('#notebook-container');\n",
       "if (notebookContainer) {{\n",
       "    x.observe(notebookContainer, {childList: true});\n",
       "}}\n",
       "\n",
       "// Listen for the clearing of the current output cell\n",
       "var outputEl = gd.closest('.output');\n",
       "if (outputEl) {{\n",
       "    x.observe(outputEl, {childList: true});\n",
       "}}\n",
       "\n",
       "                        })                };                });            </script>        </div>"
      ]
     },
     "metadata": {},
     "output_type": "display_data"
    }
   ],
   "source": [
    "confirmed.iplot(kind = 'bar',x ='ObservationDate',y = 'Confirmed')"
   ]
  },
  {
   "cell_type": "code",
   "execution_count": 12,
   "metadata": {},
   "outputs": [
    {
     "data": {
      "application/vnd.plotly.v1+json": {
       "config": {
        "linkText": "Export to plot.ly",
        "plotlyServerURL": "https://plot.ly",
        "showLink": true
       },
       "data": [
        {
         "marker": {
          "color": "rgba(255, 153, 51, 0.6)",
          "line": {
           "color": "rgba(255, 153, 51, 1.0)",
           "width": 1
          }
         },
         "name": "Deaths",
         "orientation": "v",
         "text": "",
         "type": "bar",
         "x": [
          "01/22/2020",
          "01/23/2020",
          "01/24/2020",
          "01/25/2020",
          "01/26/2020",
          "01/27/2020",
          "01/28/2020",
          "01/29/2020",
          "01/30/2020",
          "01/31/2020",
          "02/01/2020",
          "02/02/2020",
          "02/03/2020",
          "02/04/2020",
          "02/05/2020",
          "02/06/2020",
          "02/07/2020",
          "02/08/2020",
          "02/09/2020",
          "02/10/2020",
          "02/11/2020",
          "02/12/2020",
          "02/13/2020",
          "02/14/2020",
          "02/15/2020",
          "02/16/2020",
          "02/17/2020",
          "02/18/2020",
          "02/19/2020",
          "02/20/2020",
          "02/21/2020",
          "02/22/2020",
          "02/23/2020",
          "02/24/2020",
          "02/25/2020",
          "02/26/2020",
          "02/27/2020",
          "02/28/2020",
          "02/29/2020",
          "03/01/2020",
          "03/02/2020",
          "03/03/2020",
          "03/04/2020",
          "03/05/2020",
          "03/06/2020",
          "03/07/2020",
          "03/08/2020",
          "03/09/2020",
          "03/10/2020",
          "03/11/2020",
          "03/12/2020",
          "03/13/2020",
          "03/14/2020",
          "03/15/2020",
          "03/16/2020",
          "03/17/2020",
          "03/18/2020",
          "03/19/2020",
          "03/20/2020",
          "03/21/2020",
          "03/22/2020",
          "03/23/2020",
          "03/24/2020",
          "03/25/2020",
          "03/26/2020",
          "03/27/2020",
          "03/28/2020",
          "03/29/2020",
          "03/30/2020",
          "03/31/2020",
          "04/01/2020",
          "04/02/2020",
          "04/03/2020",
          "04/04/2020",
          "04/05/2020",
          "04/06/2020",
          "04/07/2020",
          "04/08/2020",
          "04/09/2020",
          "04/10/2020",
          "04/11/2020",
          "04/12/2020",
          "04/13/2020",
          "04/14/2020",
          "04/15/2020",
          "04/16/2020",
          "04/17/2020",
          "04/18/2020",
          "04/19/2020",
          "04/20/2020",
          "04/21/2020",
          "04/22/2020",
          "04/23/2020",
          "04/24/2020",
          "04/25/2020",
          "04/26/2020",
          "04/27/2020",
          "04/28/2020",
          "04/29/2020",
          "04/30/2020",
          "05/01/2020",
          "05/02/2020",
          "05/03/2020",
          "05/04/2020",
          "05/05/2020",
          "05/06/2020",
          "05/07/2020",
          "05/08/2020",
          "05/09/2020",
          "05/10/2020",
          "05/11/2020",
          "05/12/2020",
          "05/13/2020",
          "05/14/2020",
          "05/15/2020",
          "05/16/2020",
          "05/17/2020",
          "05/18/2020",
          "05/19/2020",
          "05/20/2020",
          "05/21/2020",
          "05/22/2020",
          "05/23/2020",
          "05/24/2020",
          "05/25/2020",
          "05/26/2020",
          "05/27/2020",
          "05/28/2020",
          "05/29/2020",
          "05/30/2020",
          "05/31/2020",
          "06/01/2020",
          "06/02/2020",
          "06/03/2020",
          "06/04/2020",
          "06/05/2020",
          "06/06/2020",
          "06/07/2020",
          "06/08/2020",
          "06/09/2020",
          "06/10/2020",
          "06/11/2020",
          "06/12/2020",
          "06/13/2020",
          "06/14/2020",
          "06/15/2020",
          "06/16/2020",
          "06/17/2020",
          "06/18/2020",
          "06/19/2020",
          "06/20/2020",
          "06/21/2020",
          "06/22/2020",
          "06/23/2020",
          "06/24/2020",
          "06/25/2020",
          "06/26/2020",
          "06/27/2020",
          "06/28/2020",
          "06/29/2020",
          "06/30/2020",
          "07/01/2020",
          "07/02/2020",
          "07/03/2020",
          "07/04/2020",
          "07/05/2020",
          "07/06/2020",
          "07/07/2020",
          "07/08/2020",
          "07/09/2020",
          "07/10/2020",
          "07/11/2020",
          "07/12/2020",
          "07/13/2020",
          "07/14/2020",
          "07/15/2020",
          "07/16/2020",
          "07/17/2020",
          "07/18/2020",
          "07/19/2020",
          "07/20/2020",
          "07/21/2020",
          "07/22/2020",
          "07/23/2020",
          "07/24/2020",
          "07/25/2020",
          "07/26/2020",
          "07/27/2020",
          "07/28/2020",
          "07/29/2020",
          "07/30/2020",
          "07/31/2020",
          "08/01/2020",
          "08/02/2020",
          "08/03/2020",
          "08/04/2020",
          "08/05/2020",
          "08/06/2020",
          "08/07/2020",
          "08/08/2020",
          "08/09/2020",
          "08/10/2020",
          "08/11/2020",
          "08/12/2020",
          "08/13/2020",
          "08/14/2020",
          "08/15/2020",
          "08/16/2020",
          "08/17/2020",
          "08/18/2020",
          "08/19/2020",
          "08/20/2020",
          "08/21/2020",
          "08/22/2020",
          "08/23/2020",
          "08/24/2020",
          "08/25/2020",
          "08/26/2020",
          "08/27/2020",
          "08/28/2020",
          "08/29/2020",
          "08/30/2020",
          "08/31/2020",
          "09/01/2020",
          "09/02/2020",
          "09/03/2020",
          "09/04/2020",
          "09/05/2020",
          "09/06/2020",
          "09/07/2020",
          "09/08/2020",
          "09/09/2020",
          "09/10/2020",
          "09/11/2020",
          "09/12/2020",
          "09/13/2020",
          "09/14/2020",
          "09/15/2020",
          "09/16/2020",
          "09/17/2020",
          "09/18/2020",
          "09/19/2020",
          "09/20/2020",
          "09/21/2020",
          "09/22/2020",
          "09/23/2020",
          "09/24/2020",
          "09/25/2020",
          "09/26/2020",
          "09/27/2020",
          "09/28/2020",
          "09/29/2020",
          "09/30/2020",
          "10/01/2020",
          "10/02/2020",
          "10/03/2020",
          "10/04/2020",
          "10/05/2020",
          "10/06/2020",
          "10/07/2020",
          "10/08/2020",
          "10/09/2020",
          "10/10/2020",
          "10/11/2020",
          "10/12/2020",
          "10/13/2020",
          "10/14/2020",
          "10/15/2020",
          "10/16/2020",
          "10/17/2020",
          "10/18/2020",
          "10/19/2020",
          "10/20/2020",
          "10/21/2020",
          "10/22/2020",
          "10/23/2020",
          "10/24/2020",
          "10/25/2020",
          "10/26/2020",
          "10/27/2020",
          "10/28/2020",
          "10/29/2020",
          "10/30/2020",
          "10/31/2020",
          "11/01/2020",
          "11/02/2020",
          "11/03/2020",
          "11/04/2020",
          "11/05/2020",
          "11/06/2020",
          "11/07/2020",
          "11/08/2020",
          "11/09/2020",
          "11/10/2020",
          "11/11/2020",
          "11/12/2020",
          "11/13/2020",
          "11/14/2020",
          "11/15/2020",
          "11/16/2020",
          "11/17/2020",
          "11/18/2020",
          "11/19/2020",
          "11/20/2020",
          "11/21/2020",
          "11/22/2020",
          "11/23/2020",
          "11/24/2020",
          "11/25/2020",
          "11/26/2020",
          "11/27/2020",
          "11/28/2020",
          "11/29/2020",
          "11/30/2020",
          "12/01/2020",
          "12/02/2020",
          "12/03/2020",
          "12/04/2020",
          "12/05/2020",
          "12/06/2020"
         ],
         "y": [
          17,
          18,
          26,
          42,
          56,
          82,
          131,
          133,
          171,
          213,
          259,
          362,
          426,
          492,
          564,
          634,
          719,
          806,
          906,
          1013,
          1113,
          1118,
          1371,
          1523,
          1666,
          1770,
          1868,
          2007,
          2122,
          2247,
          2251,
          2458,
          2469,
          2629,
          2708,
          2770,
          2814,
          2872,
          2941,
          2996,
          3085,
          3160,
          3254,
          3348,
          3460,
          3558,
          3803,
          3996,
          4262,
          4615,
          4720,
          5404,
          5819,
          6440,
          7126,
          7905,
          8733,
          9867,
          11297,
          12973,
          14623,
          16497,
          18616,
          21181,
          23971,
          27197,
          30653,
          33927,
          37584,
          42110,
          46815,
          52984,
          58792,
          64612,
          69385,
          74575,
          81879,
          88351,
          95452,
          102538,
          108503,
          114105,
          119484,
          125995,
          134195,
          143806,
          153828,
          159513,
          165046,
          169989,
          176589,
          183070,
          190860,
          197158,
          202851,
          206551,
          211172,
          217158,
          227644,
          233391,
          238654,
          243811,
          247474,
          251541,
          257241,
          263833,
          269569,
          274901,
          279315,
          282712,
          286332,
          291967,
          297199,
          302421,
          307668,
          311785,
          315189,
          318484,
          323288,
          328119,
          332928,
          338164,
          342102,
          345065,
          346237,
          350458,
          355637,
          360314,
          364873,
          369132,
          372040,
          375551,
          380391,
          385955,
          391144,
          396131,
          400010,
          402753,
          406552,
          411444,
          416210,
          421466,
          425403,
          429746,
          433078,
          436910,
          443697,
          448969,
          453994,
          460227,
          464474,
          468373,
          472175,
          477589,
          482761,
          489322,
          494190,
          498735,
          501912,
          505522,
          511269,
          516229,
          521312,
          526426,
          530772,
          534285,
          538084,
          544187,
          549496,
          554949,
          560235,
          565167,
          569155,
          573059,
          578690,
          584155,
          589952,
          596560,
          602184,
          606215,
          609943,
          616499,
          623495,
          633455,
          639704,
          645302,
          648698,
          654150,
          659716,
          667111,
          673313,
          679636,
          685196,
          689508,
          694139,
          700886,
          707932,
          715061,
          721454,
          726918,
          731482,
          736636,
          742869,
          749850,
          755836,
          765968,
          771351,
          775556,
          774354,
          781241,
          787963,
          793997,
          799509,
          804689,
          808947,
          813418,
          819696,
          825976,
          831876,
          837412,
          842666,
          846698,
          850849,
          857303,
          863393,
          869112,
          874762,
          879707,
          883755,
          892875,
          897774,
          904133,
          909927,
          915813,
          920698,
          924351,
          927738,
          935317,
          941130,
          946599,
          952299,
          957536,
          961232,
          965363,
          971372,
          976954,
          983648,
          989548,
          994832,
          998446,
          1002359,
          1008439,
          1014880,
          1023423,
          1028568,
          1033913,
          1037683,
          1044674,
          1050444,
          1056279,
          1062478,
          1068631,
          1073438,
          1077346,
          1081266,
          1086714,
          1092754,
          1098848,
          1104977,
          1110447,
          1113812,
          1118777,
          1125347,
          1131991,
          1137853,
          1144828,
          1150458,
          1154550,
          1160136,
          1167508,
          1174665,
          1181694,
          1189518,
          1196072,
          1201015,
          1206731,
          1214851,
          1226353,
          1234389,
          1244029,
          1251591,
          1257331,
          1264439,
          1274465,
          1284908,
          1294857,
          1304410,
          1313402,
          1319662,
          1327501,
          1338609,
          1349936,
          1360917,
          1372755,
          1381539,
          1388599,
          1396913,
          1409691,
          1421748,
          1432489,
          1443110,
          1452852,
          1459771,
          1468458,
          1481306,
          1493742,
          1506260,
          1518670,
          1528868,
          1536056
         ]
        }
       ],
       "layout": {
        "legend": {
         "bgcolor": "#F5F6F9",
         "font": {
          "color": "#4D5663"
         }
        },
        "paper_bgcolor": "#F5F6F9",
        "plot_bgcolor": "#F5F6F9",
        "template": {
         "data": {
          "bar": [
           {
            "error_x": {
             "color": "#2a3f5f"
            },
            "error_y": {
             "color": "#2a3f5f"
            },
            "marker": {
             "line": {
              "color": "#E5ECF6",
              "width": 0.5
             }
            },
            "type": "bar"
           }
          ],
          "barpolar": [
           {
            "marker": {
             "line": {
              "color": "#E5ECF6",
              "width": 0.5
             }
            },
            "type": "barpolar"
           }
          ],
          "carpet": [
           {
            "aaxis": {
             "endlinecolor": "#2a3f5f",
             "gridcolor": "white",
             "linecolor": "white",
             "minorgridcolor": "white",
             "startlinecolor": "#2a3f5f"
            },
            "baxis": {
             "endlinecolor": "#2a3f5f",
             "gridcolor": "white",
             "linecolor": "white",
             "minorgridcolor": "white",
             "startlinecolor": "#2a3f5f"
            },
            "type": "carpet"
           }
          ],
          "choropleth": [
           {
            "colorbar": {
             "outlinewidth": 0,
             "ticks": ""
            },
            "type": "choropleth"
           }
          ],
          "contour": [
           {
            "colorbar": {
             "outlinewidth": 0,
             "ticks": ""
            },
            "colorscale": [
             [
              0,
              "#0d0887"
             ],
             [
              0.1111111111111111,
              "#46039f"
             ],
             [
              0.2222222222222222,
              "#7201a8"
             ],
             [
              0.3333333333333333,
              "#9c179e"
             ],
             [
              0.4444444444444444,
              "#bd3786"
             ],
             [
              0.5555555555555556,
              "#d8576b"
             ],
             [
              0.6666666666666666,
              "#ed7953"
             ],
             [
              0.7777777777777778,
              "#fb9f3a"
             ],
             [
              0.8888888888888888,
              "#fdca26"
             ],
             [
              1,
              "#f0f921"
             ]
            ],
            "type": "contour"
           }
          ],
          "contourcarpet": [
           {
            "colorbar": {
             "outlinewidth": 0,
             "ticks": ""
            },
            "type": "contourcarpet"
           }
          ],
          "heatmap": [
           {
            "colorbar": {
             "outlinewidth": 0,
             "ticks": ""
            },
            "colorscale": [
             [
              0,
              "#0d0887"
             ],
             [
              0.1111111111111111,
              "#46039f"
             ],
             [
              0.2222222222222222,
              "#7201a8"
             ],
             [
              0.3333333333333333,
              "#9c179e"
             ],
             [
              0.4444444444444444,
              "#bd3786"
             ],
             [
              0.5555555555555556,
              "#d8576b"
             ],
             [
              0.6666666666666666,
              "#ed7953"
             ],
             [
              0.7777777777777778,
              "#fb9f3a"
             ],
             [
              0.8888888888888888,
              "#fdca26"
             ],
             [
              1,
              "#f0f921"
             ]
            ],
            "type": "heatmap"
           }
          ],
          "heatmapgl": [
           {
            "colorbar": {
             "outlinewidth": 0,
             "ticks": ""
            },
            "colorscale": [
             [
              0,
              "#0d0887"
             ],
             [
              0.1111111111111111,
              "#46039f"
             ],
             [
              0.2222222222222222,
              "#7201a8"
             ],
             [
              0.3333333333333333,
              "#9c179e"
             ],
             [
              0.4444444444444444,
              "#bd3786"
             ],
             [
              0.5555555555555556,
              "#d8576b"
             ],
             [
              0.6666666666666666,
              "#ed7953"
             ],
             [
              0.7777777777777778,
              "#fb9f3a"
             ],
             [
              0.8888888888888888,
              "#fdca26"
             ],
             [
              1,
              "#f0f921"
             ]
            ],
            "type": "heatmapgl"
           }
          ],
          "histogram": [
           {
            "marker": {
             "colorbar": {
              "outlinewidth": 0,
              "ticks": ""
             }
            },
            "type": "histogram"
           }
          ],
          "histogram2d": [
           {
            "colorbar": {
             "outlinewidth": 0,
             "ticks": ""
            },
            "colorscale": [
             [
              0,
              "#0d0887"
             ],
             [
              0.1111111111111111,
              "#46039f"
             ],
             [
              0.2222222222222222,
              "#7201a8"
             ],
             [
              0.3333333333333333,
              "#9c179e"
             ],
             [
              0.4444444444444444,
              "#bd3786"
             ],
             [
              0.5555555555555556,
              "#d8576b"
             ],
             [
              0.6666666666666666,
              "#ed7953"
             ],
             [
              0.7777777777777778,
              "#fb9f3a"
             ],
             [
              0.8888888888888888,
              "#fdca26"
             ],
             [
              1,
              "#f0f921"
             ]
            ],
            "type": "histogram2d"
           }
          ],
          "histogram2dcontour": [
           {
            "colorbar": {
             "outlinewidth": 0,
             "ticks": ""
            },
            "colorscale": [
             [
              0,
              "#0d0887"
             ],
             [
              0.1111111111111111,
              "#46039f"
             ],
             [
              0.2222222222222222,
              "#7201a8"
             ],
             [
              0.3333333333333333,
              "#9c179e"
             ],
             [
              0.4444444444444444,
              "#bd3786"
             ],
             [
              0.5555555555555556,
              "#d8576b"
             ],
             [
              0.6666666666666666,
              "#ed7953"
             ],
             [
              0.7777777777777778,
              "#fb9f3a"
             ],
             [
              0.8888888888888888,
              "#fdca26"
             ],
             [
              1,
              "#f0f921"
             ]
            ],
            "type": "histogram2dcontour"
           }
          ],
          "mesh3d": [
           {
            "colorbar": {
             "outlinewidth": 0,
             "ticks": ""
            },
            "type": "mesh3d"
           }
          ],
          "parcoords": [
           {
            "line": {
             "colorbar": {
              "outlinewidth": 0,
              "ticks": ""
             }
            },
            "type": "parcoords"
           }
          ],
          "pie": [
           {
            "automargin": true,
            "type": "pie"
           }
          ],
          "scatter": [
           {
            "marker": {
             "colorbar": {
              "outlinewidth": 0,
              "ticks": ""
             }
            },
            "type": "scatter"
           }
          ],
          "scatter3d": [
           {
            "line": {
             "colorbar": {
              "outlinewidth": 0,
              "ticks": ""
             }
            },
            "marker": {
             "colorbar": {
              "outlinewidth": 0,
              "ticks": ""
             }
            },
            "type": "scatter3d"
           }
          ],
          "scattercarpet": [
           {
            "marker": {
             "colorbar": {
              "outlinewidth": 0,
              "ticks": ""
             }
            },
            "type": "scattercarpet"
           }
          ],
          "scattergeo": [
           {
            "marker": {
             "colorbar": {
              "outlinewidth": 0,
              "ticks": ""
             }
            },
            "type": "scattergeo"
           }
          ],
          "scattergl": [
           {
            "marker": {
             "colorbar": {
              "outlinewidth": 0,
              "ticks": ""
             }
            },
            "type": "scattergl"
           }
          ],
          "scattermapbox": [
           {
            "marker": {
             "colorbar": {
              "outlinewidth": 0,
              "ticks": ""
             }
            },
            "type": "scattermapbox"
           }
          ],
          "scatterpolar": [
           {
            "marker": {
             "colorbar": {
              "outlinewidth": 0,
              "ticks": ""
             }
            },
            "type": "scatterpolar"
           }
          ],
          "scatterpolargl": [
           {
            "marker": {
             "colorbar": {
              "outlinewidth": 0,
              "ticks": ""
             }
            },
            "type": "scatterpolargl"
           }
          ],
          "scatterternary": [
           {
            "marker": {
             "colorbar": {
              "outlinewidth": 0,
              "ticks": ""
             }
            },
            "type": "scatterternary"
           }
          ],
          "surface": [
           {
            "colorbar": {
             "outlinewidth": 0,
             "ticks": ""
            },
            "colorscale": [
             [
              0,
              "#0d0887"
             ],
             [
              0.1111111111111111,
              "#46039f"
             ],
             [
              0.2222222222222222,
              "#7201a8"
             ],
             [
              0.3333333333333333,
              "#9c179e"
             ],
             [
              0.4444444444444444,
              "#bd3786"
             ],
             [
              0.5555555555555556,
              "#d8576b"
             ],
             [
              0.6666666666666666,
              "#ed7953"
             ],
             [
              0.7777777777777778,
              "#fb9f3a"
             ],
             [
              0.8888888888888888,
              "#fdca26"
             ],
             [
              1,
              "#f0f921"
             ]
            ],
            "type": "surface"
           }
          ],
          "table": [
           {
            "cells": {
             "fill": {
              "color": "#EBF0F8"
             },
             "line": {
              "color": "white"
             }
            },
            "header": {
             "fill": {
              "color": "#C8D4E3"
             },
             "line": {
              "color": "white"
             }
            },
            "type": "table"
           }
          ]
         },
         "layout": {
          "annotationdefaults": {
           "arrowcolor": "#2a3f5f",
           "arrowhead": 0,
           "arrowwidth": 1
          },
          "autotypenumbers": "strict",
          "coloraxis": {
           "colorbar": {
            "outlinewidth": 0,
            "ticks": ""
           }
          },
          "colorscale": {
           "diverging": [
            [
             0,
             "#8e0152"
            ],
            [
             0.1,
             "#c51b7d"
            ],
            [
             0.2,
             "#de77ae"
            ],
            [
             0.3,
             "#f1b6da"
            ],
            [
             0.4,
             "#fde0ef"
            ],
            [
             0.5,
             "#f7f7f7"
            ],
            [
             0.6,
             "#e6f5d0"
            ],
            [
             0.7,
             "#b8e186"
            ],
            [
             0.8,
             "#7fbc41"
            ],
            [
             0.9,
             "#4d9221"
            ],
            [
             1,
             "#276419"
            ]
           ],
           "sequential": [
            [
             0,
             "#0d0887"
            ],
            [
             0.1111111111111111,
             "#46039f"
            ],
            [
             0.2222222222222222,
             "#7201a8"
            ],
            [
             0.3333333333333333,
             "#9c179e"
            ],
            [
             0.4444444444444444,
             "#bd3786"
            ],
            [
             0.5555555555555556,
             "#d8576b"
            ],
            [
             0.6666666666666666,
             "#ed7953"
            ],
            [
             0.7777777777777778,
             "#fb9f3a"
            ],
            [
             0.8888888888888888,
             "#fdca26"
            ],
            [
             1,
             "#f0f921"
            ]
           ],
           "sequentialminus": [
            [
             0,
             "#0d0887"
            ],
            [
             0.1111111111111111,
             "#46039f"
            ],
            [
             0.2222222222222222,
             "#7201a8"
            ],
            [
             0.3333333333333333,
             "#9c179e"
            ],
            [
             0.4444444444444444,
             "#bd3786"
            ],
            [
             0.5555555555555556,
             "#d8576b"
            ],
            [
             0.6666666666666666,
             "#ed7953"
            ],
            [
             0.7777777777777778,
             "#fb9f3a"
            ],
            [
             0.8888888888888888,
             "#fdca26"
            ],
            [
             1,
             "#f0f921"
            ]
           ]
          },
          "colorway": [
           "#636efa",
           "#EF553B",
           "#00cc96",
           "#ab63fa",
           "#FFA15A",
           "#19d3f3",
           "#FF6692",
           "#B6E880",
           "#FF97FF",
           "#FECB52"
          ],
          "font": {
           "color": "#2a3f5f"
          },
          "geo": {
           "bgcolor": "white",
           "lakecolor": "white",
           "landcolor": "#E5ECF6",
           "showlakes": true,
           "showland": true,
           "subunitcolor": "white"
          },
          "hoverlabel": {
           "align": "left"
          },
          "hovermode": "closest",
          "mapbox": {
           "style": "light"
          },
          "paper_bgcolor": "white",
          "plot_bgcolor": "#E5ECF6",
          "polar": {
           "angularaxis": {
            "gridcolor": "white",
            "linecolor": "white",
            "ticks": ""
           },
           "bgcolor": "#E5ECF6",
           "radialaxis": {
            "gridcolor": "white",
            "linecolor": "white",
            "ticks": ""
           }
          },
          "scene": {
           "xaxis": {
            "backgroundcolor": "#E5ECF6",
            "gridcolor": "white",
            "gridwidth": 2,
            "linecolor": "white",
            "showbackground": true,
            "ticks": "",
            "zerolinecolor": "white"
           },
           "yaxis": {
            "backgroundcolor": "#E5ECF6",
            "gridcolor": "white",
            "gridwidth": 2,
            "linecolor": "white",
            "showbackground": true,
            "ticks": "",
            "zerolinecolor": "white"
           },
           "zaxis": {
            "backgroundcolor": "#E5ECF6",
            "gridcolor": "white",
            "gridwidth": 2,
            "linecolor": "white",
            "showbackground": true,
            "ticks": "",
            "zerolinecolor": "white"
           }
          },
          "shapedefaults": {
           "line": {
            "color": "#2a3f5f"
           }
          },
          "ternary": {
           "aaxis": {
            "gridcolor": "white",
            "linecolor": "white",
            "ticks": ""
           },
           "baxis": {
            "gridcolor": "white",
            "linecolor": "white",
            "ticks": ""
           },
           "bgcolor": "#E5ECF6",
           "caxis": {
            "gridcolor": "white",
            "linecolor": "white",
            "ticks": ""
           }
          },
          "title": {
           "x": 0.05
          },
          "xaxis": {
           "automargin": true,
           "gridcolor": "white",
           "linecolor": "white",
           "ticks": "",
           "title": {
            "standoff": 15
           },
           "zerolinecolor": "white",
           "zerolinewidth": 2
          },
          "yaxis": {
           "automargin": true,
           "gridcolor": "white",
           "linecolor": "white",
           "ticks": "",
           "title": {
            "standoff": 15
           },
           "zerolinecolor": "white",
           "zerolinewidth": 2
          }
         }
        },
        "title": {
         "font": {
          "color": "#4D5663"
         }
        },
        "xaxis": {
         "gridcolor": "#E1E5ED",
         "showgrid": true,
         "tickfont": {
          "color": "#4D5663"
         },
         "title": {
          "font": {
           "color": "#4D5663"
          },
          "text": ""
         },
         "zerolinecolor": "#E1E5ED"
        },
        "yaxis": {
         "gridcolor": "#E1E5ED",
         "showgrid": true,
         "tickfont": {
          "color": "#4D5663"
         },
         "title": {
          "font": {
           "color": "#4D5663"
          },
          "text": ""
         },
         "zerolinecolor": "#E1E5ED"
        }
       }
      },
      "text/html": [
       "<div>                            <div id=\"4a8d10ec-fa56-4295-b2bb-96c2c9046fb8\" class=\"plotly-graph-div\" style=\"height:525px; width:100%;\"></div>            <script type=\"text/javascript\">                require([\"plotly\"], function(Plotly) {                    window.PLOTLYENV=window.PLOTLYENV || {};\n",
       "                    window.PLOTLYENV.BASE_URL='https://plot.ly';                                    if (document.getElementById(\"4a8d10ec-fa56-4295-b2bb-96c2c9046fb8\")) {                    Plotly.newPlot(                        \"4a8d10ec-fa56-4295-b2bb-96c2c9046fb8\",                        [{\"marker\": {\"color\": \"rgba(255, 153, 51, 0.6)\", \"line\": {\"color\": \"rgba(255, 153, 51, 1.0)\", \"width\": 1}}, \"name\": \"Deaths\", \"orientation\": \"v\", \"text\": \"\", \"type\": \"bar\", \"x\": [\"01/22/2020\", \"01/23/2020\", \"01/24/2020\", \"01/25/2020\", \"01/26/2020\", \"01/27/2020\", \"01/28/2020\", \"01/29/2020\", \"01/30/2020\", \"01/31/2020\", \"02/01/2020\", \"02/02/2020\", \"02/03/2020\", \"02/04/2020\", \"02/05/2020\", \"02/06/2020\", \"02/07/2020\", \"02/08/2020\", \"02/09/2020\", \"02/10/2020\", \"02/11/2020\", \"02/12/2020\", \"02/13/2020\", \"02/14/2020\", \"02/15/2020\", \"02/16/2020\", \"02/17/2020\", \"02/18/2020\", \"02/19/2020\", \"02/20/2020\", \"02/21/2020\", \"02/22/2020\", \"02/23/2020\", \"02/24/2020\", \"02/25/2020\", \"02/26/2020\", \"02/27/2020\", \"02/28/2020\", \"02/29/2020\", \"03/01/2020\", \"03/02/2020\", \"03/03/2020\", \"03/04/2020\", \"03/05/2020\", \"03/06/2020\", \"03/07/2020\", \"03/08/2020\", \"03/09/2020\", \"03/10/2020\", \"03/11/2020\", \"03/12/2020\", \"03/13/2020\", \"03/14/2020\", \"03/15/2020\", \"03/16/2020\", \"03/17/2020\", \"03/18/2020\", \"03/19/2020\", \"03/20/2020\", \"03/21/2020\", \"03/22/2020\", \"03/23/2020\", \"03/24/2020\", \"03/25/2020\", \"03/26/2020\", \"03/27/2020\", \"03/28/2020\", \"03/29/2020\", \"03/30/2020\", \"03/31/2020\", \"04/01/2020\", \"04/02/2020\", \"04/03/2020\", \"04/04/2020\", \"04/05/2020\", \"04/06/2020\", \"04/07/2020\", \"04/08/2020\", \"04/09/2020\", \"04/10/2020\", \"04/11/2020\", \"04/12/2020\", \"04/13/2020\", \"04/14/2020\", \"04/15/2020\", \"04/16/2020\", \"04/17/2020\", \"04/18/2020\", \"04/19/2020\", \"04/20/2020\", \"04/21/2020\", \"04/22/2020\", \"04/23/2020\", \"04/24/2020\", \"04/25/2020\", \"04/26/2020\", \"04/27/2020\", \"04/28/2020\", \"04/29/2020\", \"04/30/2020\", \"05/01/2020\", \"05/02/2020\", \"05/03/2020\", \"05/04/2020\", \"05/05/2020\", \"05/06/2020\", \"05/07/2020\", \"05/08/2020\", \"05/09/2020\", \"05/10/2020\", \"05/11/2020\", \"05/12/2020\", \"05/13/2020\", \"05/14/2020\", \"05/15/2020\", \"05/16/2020\", \"05/17/2020\", \"05/18/2020\", \"05/19/2020\", \"05/20/2020\", \"05/21/2020\", \"05/22/2020\", \"05/23/2020\", \"05/24/2020\", \"05/25/2020\", \"05/26/2020\", \"05/27/2020\", \"05/28/2020\", \"05/29/2020\", \"05/30/2020\", \"05/31/2020\", \"06/01/2020\", \"06/02/2020\", \"06/03/2020\", \"06/04/2020\", \"06/05/2020\", \"06/06/2020\", \"06/07/2020\", \"06/08/2020\", \"06/09/2020\", \"06/10/2020\", \"06/11/2020\", \"06/12/2020\", \"06/13/2020\", \"06/14/2020\", \"06/15/2020\", \"06/16/2020\", \"06/17/2020\", \"06/18/2020\", \"06/19/2020\", \"06/20/2020\", \"06/21/2020\", \"06/22/2020\", \"06/23/2020\", \"06/24/2020\", \"06/25/2020\", \"06/26/2020\", \"06/27/2020\", \"06/28/2020\", \"06/29/2020\", \"06/30/2020\", \"07/01/2020\", \"07/02/2020\", \"07/03/2020\", \"07/04/2020\", \"07/05/2020\", \"07/06/2020\", \"07/07/2020\", \"07/08/2020\", \"07/09/2020\", \"07/10/2020\", \"07/11/2020\", \"07/12/2020\", \"07/13/2020\", \"07/14/2020\", \"07/15/2020\", \"07/16/2020\", \"07/17/2020\", \"07/18/2020\", \"07/19/2020\", \"07/20/2020\", \"07/21/2020\", \"07/22/2020\", \"07/23/2020\", \"07/24/2020\", \"07/25/2020\", \"07/26/2020\", \"07/27/2020\", \"07/28/2020\", \"07/29/2020\", \"07/30/2020\", \"07/31/2020\", \"08/01/2020\", \"08/02/2020\", \"08/03/2020\", \"08/04/2020\", \"08/05/2020\", \"08/06/2020\", \"08/07/2020\", \"08/08/2020\", \"08/09/2020\", \"08/10/2020\", \"08/11/2020\", \"08/12/2020\", \"08/13/2020\", \"08/14/2020\", \"08/15/2020\", \"08/16/2020\", \"08/17/2020\", \"08/18/2020\", \"08/19/2020\", \"08/20/2020\", \"08/21/2020\", \"08/22/2020\", \"08/23/2020\", \"08/24/2020\", \"08/25/2020\", \"08/26/2020\", \"08/27/2020\", \"08/28/2020\", \"08/29/2020\", \"08/30/2020\", \"08/31/2020\", \"09/01/2020\", \"09/02/2020\", \"09/03/2020\", \"09/04/2020\", \"09/05/2020\", \"09/06/2020\", \"09/07/2020\", \"09/08/2020\", \"09/09/2020\", \"09/10/2020\", \"09/11/2020\", \"09/12/2020\", \"09/13/2020\", \"09/14/2020\", \"09/15/2020\", \"09/16/2020\", \"09/17/2020\", \"09/18/2020\", \"09/19/2020\", \"09/20/2020\", \"09/21/2020\", \"09/22/2020\", \"09/23/2020\", \"09/24/2020\", \"09/25/2020\", \"09/26/2020\", \"09/27/2020\", \"09/28/2020\", \"09/29/2020\", \"09/30/2020\", \"10/01/2020\", \"10/02/2020\", \"10/03/2020\", \"10/04/2020\", \"10/05/2020\", \"10/06/2020\", \"10/07/2020\", \"10/08/2020\", \"10/09/2020\", \"10/10/2020\", \"10/11/2020\", \"10/12/2020\", \"10/13/2020\", \"10/14/2020\", \"10/15/2020\", \"10/16/2020\", \"10/17/2020\", \"10/18/2020\", \"10/19/2020\", \"10/20/2020\", \"10/21/2020\", \"10/22/2020\", \"10/23/2020\", \"10/24/2020\", \"10/25/2020\", \"10/26/2020\", \"10/27/2020\", \"10/28/2020\", \"10/29/2020\", \"10/30/2020\", \"10/31/2020\", \"11/01/2020\", \"11/02/2020\", \"11/03/2020\", \"11/04/2020\", \"11/05/2020\", \"11/06/2020\", \"11/07/2020\", \"11/08/2020\", \"11/09/2020\", \"11/10/2020\", \"11/11/2020\", \"11/12/2020\", \"11/13/2020\", \"11/14/2020\", \"11/15/2020\", \"11/16/2020\", \"11/17/2020\", \"11/18/2020\", \"11/19/2020\", \"11/20/2020\", \"11/21/2020\", \"11/22/2020\", \"11/23/2020\", \"11/24/2020\", \"11/25/2020\", \"11/26/2020\", \"11/27/2020\", \"11/28/2020\", \"11/29/2020\", \"11/30/2020\", \"12/01/2020\", \"12/02/2020\", \"12/03/2020\", \"12/04/2020\", \"12/05/2020\", \"12/06/2020\"], \"y\": [17.0, 18.0, 26.0, 42.0, 56.0, 82.0, 131.0, 133.0, 171.0, 213.0, 259.0, 362.0, 426.0, 492.0, 564.0, 634.0, 719.0, 806.0, 906.0, 1013.0, 1113.0, 1118.0, 1371.0, 1523.0, 1666.0, 1770.0, 1868.0, 2007.0, 2122.0, 2247.0, 2251.0, 2458.0, 2469.0, 2629.0, 2708.0, 2770.0, 2814.0, 2872.0, 2941.0, 2996.0, 3085.0, 3160.0, 3254.0, 3348.0, 3460.0, 3558.0, 3803.0, 3996.0, 4262.0, 4615.0, 4720.0, 5404.0, 5819.0, 6440.0, 7126.0, 7905.0, 8733.0, 9867.0, 11297.0, 12973.0, 14623.0, 16497.0, 18616.0, 21181.0, 23971.0, 27197.0, 30653.0, 33927.0, 37584.0, 42110.0, 46815.0, 52984.0, 58792.0, 64612.0, 69385.0, 74575.0, 81879.0, 88351.0, 95452.0, 102538.0, 108503.0, 114105.0, 119484.0, 125995.0, 134195.0, 143806.0, 153828.0, 159513.0, 165046.0, 169989.0, 176589.0, 183070.0, 190860.0, 197158.0, 202851.0, 206551.0, 211172.0, 217158.0, 227644.0, 233391.0, 238654.0, 243811.0, 247474.0, 251541.0, 257241.0, 263833.0, 269569.0, 274901.0, 279315.0, 282712.0, 286332.0, 291967.0, 297199.0, 302421.0, 307668.0, 311785.0, 315189.0, 318484.0, 323288.0, 328119.0, 332928.0, 338164.0, 342102.0, 345065.0, 346237.0, 350458.0, 355637.0, 360314.0, 364873.0, 369132.0, 372040.0, 375551.0, 380391.0, 385955.0, 391144.0, 396131.0, 400010.0, 402753.0, 406552.0, 411444.0, 416210.0, 421466.0, 425403.0, 429746.0, 433078.0, 436910.0, 443697.0, 448969.0, 453994.0, 460227.0, 464474.0, 468373.0, 472175.0, 477589.0, 482761.0, 489322.0, 494190.0, 498735.0, 501912.0, 505522.0, 511269.0, 516229.0, 521312.0, 526426.0, 530772.0, 534285.0, 538084.0, 544187.0, 549496.0, 554949.0, 560235.0, 565167.0, 569155.0, 573059.0, 578690.0, 584155.0, 589952.0, 596560.0, 602184.0, 606215.0, 609943.0, 616499.0, 623495.0, 633455.0, 639704.0, 645302.0, 648698.0, 654150.0, 659716.0, 667111.0, 673313.0, 679636.0, 685196.0, 689508.0, 694139.0, 700886.0, 707932.0, 715061.0, 721454.0, 726918.0, 731482.0, 736636.0, 742869.0, 749850.0, 755836.0, 765968.0, 771351.0, 775556.0, 774354.0, 781241.0, 787963.0, 793997.0, 799509.0, 804689.0, 808947.0, 813418.0, 819696.0, 825976.0, 831876.0, 837412.0, 842666.0, 846698.0, 850849.0, 857303.0, 863393.0, 869112.0, 874762.0, 879707.0, 883755.0, 892875.0, 897774.0, 904133.0, 909927.0, 915813.0, 920698.0, 924351.0, 927738.0, 935317.0, 941130.0, 946599.0, 952299.0, 957536.0, 961232.0, 965363.0, 971372.0, 976954.0, 983648.0, 989548.0, 994832.0, 998446.0, 1002359.0, 1008439.0, 1014880.0, 1023423.0, 1028568.0, 1033913.0, 1037683.0, 1044674.0, 1050444.0, 1056279.0, 1062478.0, 1068631.0, 1073438.0, 1077346.0, 1081266.0, 1086714.0, 1092754.0, 1098848.0, 1104977.0, 1110447.0, 1113812.0, 1118777.0, 1125347.0, 1131991.0, 1137853.0, 1144828.0, 1150458.0, 1154550.0, 1160136.0, 1167508.0, 1174665.0, 1181694.0, 1189518.0, 1196072.0, 1201015.0, 1206731.0, 1214851.0, 1226353.0, 1234389.0, 1244029.0, 1251591.0, 1257331.0, 1264439.0, 1274465.0, 1284908.0, 1294857.0, 1304410.0, 1313402.0, 1319662.0, 1327501.0, 1338609.0, 1349936.0, 1360917.0, 1372755.0, 1381539.0, 1388599.0, 1396913.0, 1409691.0, 1421748.0, 1432489.0, 1443110.0, 1452852.0, 1459771.0, 1468458.0, 1481306.0, 1493742.0, 1506260.0, 1518670.0, 1528868.0, 1536056.0]}],                        {\"legend\": {\"bgcolor\": \"#F5F6F9\", \"font\": {\"color\": \"#4D5663\"}}, \"paper_bgcolor\": \"#F5F6F9\", \"plot_bgcolor\": \"#F5F6F9\", \"template\": {\"data\": {\"bar\": [{\"error_x\": {\"color\": \"#2a3f5f\"}, \"error_y\": {\"color\": \"#2a3f5f\"}, \"marker\": {\"line\": {\"color\": \"#E5ECF6\", \"width\": 0.5}}, \"type\": \"bar\"}], \"barpolar\": [{\"marker\": {\"line\": {\"color\": \"#E5ECF6\", \"width\": 0.5}}, \"type\": \"barpolar\"}], \"carpet\": [{\"aaxis\": {\"endlinecolor\": \"#2a3f5f\", \"gridcolor\": \"white\", \"linecolor\": \"white\", \"minorgridcolor\": \"white\", \"startlinecolor\": \"#2a3f5f\"}, \"baxis\": {\"endlinecolor\": \"#2a3f5f\", \"gridcolor\": \"white\", \"linecolor\": \"white\", \"minorgridcolor\": \"white\", \"startlinecolor\": \"#2a3f5f\"}, \"type\": \"carpet\"}], \"choropleth\": [{\"colorbar\": {\"outlinewidth\": 0, \"ticks\": \"\"}, \"type\": \"choropleth\"}], \"contour\": [{\"colorbar\": {\"outlinewidth\": 0, \"ticks\": \"\"}, \"colorscale\": [[0.0, \"#0d0887\"], [0.1111111111111111, \"#46039f\"], [0.2222222222222222, \"#7201a8\"], [0.3333333333333333, \"#9c179e\"], [0.4444444444444444, \"#bd3786\"], [0.5555555555555556, \"#d8576b\"], [0.6666666666666666, \"#ed7953\"], [0.7777777777777778, \"#fb9f3a\"], [0.8888888888888888, \"#fdca26\"], [1.0, \"#f0f921\"]], \"type\": \"contour\"}], \"contourcarpet\": [{\"colorbar\": {\"outlinewidth\": 0, \"ticks\": \"\"}, \"type\": \"contourcarpet\"}], \"heatmap\": [{\"colorbar\": {\"outlinewidth\": 0, \"ticks\": \"\"}, \"colorscale\": [[0.0, \"#0d0887\"], [0.1111111111111111, \"#46039f\"], [0.2222222222222222, \"#7201a8\"], [0.3333333333333333, \"#9c179e\"], [0.4444444444444444, \"#bd3786\"], [0.5555555555555556, \"#d8576b\"], [0.6666666666666666, \"#ed7953\"], [0.7777777777777778, \"#fb9f3a\"], [0.8888888888888888, \"#fdca26\"], [1.0, \"#f0f921\"]], \"type\": \"heatmap\"}], \"heatmapgl\": [{\"colorbar\": {\"outlinewidth\": 0, \"ticks\": \"\"}, \"colorscale\": [[0.0, \"#0d0887\"], [0.1111111111111111, \"#46039f\"], [0.2222222222222222, \"#7201a8\"], [0.3333333333333333, \"#9c179e\"], [0.4444444444444444, \"#bd3786\"], [0.5555555555555556, \"#d8576b\"], [0.6666666666666666, \"#ed7953\"], [0.7777777777777778, \"#fb9f3a\"], [0.8888888888888888, \"#fdca26\"], [1.0, \"#f0f921\"]], \"type\": \"heatmapgl\"}], \"histogram\": [{\"marker\": {\"colorbar\": {\"outlinewidth\": 0, \"ticks\": \"\"}}, \"type\": \"histogram\"}], \"histogram2d\": [{\"colorbar\": {\"outlinewidth\": 0, \"ticks\": \"\"}, \"colorscale\": [[0.0, \"#0d0887\"], [0.1111111111111111, \"#46039f\"], [0.2222222222222222, \"#7201a8\"], [0.3333333333333333, \"#9c179e\"], [0.4444444444444444, \"#bd3786\"], [0.5555555555555556, \"#d8576b\"], [0.6666666666666666, \"#ed7953\"], [0.7777777777777778, \"#fb9f3a\"], [0.8888888888888888, \"#fdca26\"], [1.0, \"#f0f921\"]], \"type\": \"histogram2d\"}], \"histogram2dcontour\": [{\"colorbar\": {\"outlinewidth\": 0, \"ticks\": \"\"}, \"colorscale\": [[0.0, \"#0d0887\"], [0.1111111111111111, \"#46039f\"], [0.2222222222222222, \"#7201a8\"], [0.3333333333333333, \"#9c179e\"], [0.4444444444444444, \"#bd3786\"], [0.5555555555555556, \"#d8576b\"], [0.6666666666666666, \"#ed7953\"], [0.7777777777777778, \"#fb9f3a\"], [0.8888888888888888, \"#fdca26\"], [1.0, \"#f0f921\"]], \"type\": \"histogram2dcontour\"}], \"mesh3d\": [{\"colorbar\": {\"outlinewidth\": 0, \"ticks\": \"\"}, \"type\": \"mesh3d\"}], \"parcoords\": [{\"line\": {\"colorbar\": {\"outlinewidth\": 0, \"ticks\": \"\"}}, \"type\": \"parcoords\"}], \"pie\": [{\"automargin\": true, \"type\": \"pie\"}], \"scatter\": [{\"marker\": {\"colorbar\": {\"outlinewidth\": 0, \"ticks\": \"\"}}, \"type\": \"scatter\"}], \"scatter3d\": [{\"line\": {\"colorbar\": {\"outlinewidth\": 0, \"ticks\": \"\"}}, \"marker\": {\"colorbar\": {\"outlinewidth\": 0, \"ticks\": \"\"}}, \"type\": \"scatter3d\"}], \"scattercarpet\": [{\"marker\": {\"colorbar\": {\"outlinewidth\": 0, \"ticks\": \"\"}}, \"type\": \"scattercarpet\"}], \"scattergeo\": [{\"marker\": {\"colorbar\": {\"outlinewidth\": 0, \"ticks\": \"\"}}, \"type\": \"scattergeo\"}], \"scattergl\": [{\"marker\": {\"colorbar\": {\"outlinewidth\": 0, \"ticks\": \"\"}}, \"type\": \"scattergl\"}], \"scattermapbox\": [{\"marker\": {\"colorbar\": {\"outlinewidth\": 0, \"ticks\": \"\"}}, \"type\": \"scattermapbox\"}], \"scatterpolar\": [{\"marker\": {\"colorbar\": {\"outlinewidth\": 0, \"ticks\": \"\"}}, \"type\": \"scatterpolar\"}], \"scatterpolargl\": [{\"marker\": {\"colorbar\": {\"outlinewidth\": 0, \"ticks\": \"\"}}, \"type\": \"scatterpolargl\"}], \"scatterternary\": [{\"marker\": {\"colorbar\": {\"outlinewidth\": 0, \"ticks\": \"\"}}, \"type\": \"scatterternary\"}], \"surface\": [{\"colorbar\": {\"outlinewidth\": 0, \"ticks\": \"\"}, \"colorscale\": [[0.0, \"#0d0887\"], [0.1111111111111111, \"#46039f\"], [0.2222222222222222, \"#7201a8\"], [0.3333333333333333, \"#9c179e\"], [0.4444444444444444, \"#bd3786\"], [0.5555555555555556, \"#d8576b\"], [0.6666666666666666, \"#ed7953\"], [0.7777777777777778, \"#fb9f3a\"], [0.8888888888888888, \"#fdca26\"], [1.0, \"#f0f921\"]], \"type\": \"surface\"}], \"table\": [{\"cells\": {\"fill\": {\"color\": \"#EBF0F8\"}, \"line\": {\"color\": \"white\"}}, \"header\": {\"fill\": {\"color\": \"#C8D4E3\"}, \"line\": {\"color\": \"white\"}}, \"type\": \"table\"}]}, \"layout\": {\"annotationdefaults\": {\"arrowcolor\": \"#2a3f5f\", \"arrowhead\": 0, \"arrowwidth\": 1}, \"autotypenumbers\": \"strict\", \"coloraxis\": {\"colorbar\": {\"outlinewidth\": 0, \"ticks\": \"\"}}, \"colorscale\": {\"diverging\": [[0, \"#8e0152\"], [0.1, \"#c51b7d\"], [0.2, \"#de77ae\"], [0.3, \"#f1b6da\"], [0.4, \"#fde0ef\"], [0.5, \"#f7f7f7\"], [0.6, \"#e6f5d0\"], [0.7, \"#b8e186\"], [0.8, \"#7fbc41\"], [0.9, \"#4d9221\"], [1, \"#276419\"]], \"sequential\": [[0.0, \"#0d0887\"], [0.1111111111111111, \"#46039f\"], [0.2222222222222222, \"#7201a8\"], [0.3333333333333333, \"#9c179e\"], [0.4444444444444444, \"#bd3786\"], [0.5555555555555556, \"#d8576b\"], [0.6666666666666666, \"#ed7953\"], [0.7777777777777778, \"#fb9f3a\"], [0.8888888888888888, \"#fdca26\"], [1.0, \"#f0f921\"]], \"sequentialminus\": [[0.0, \"#0d0887\"], [0.1111111111111111, \"#46039f\"], [0.2222222222222222, \"#7201a8\"], [0.3333333333333333, \"#9c179e\"], [0.4444444444444444, \"#bd3786\"], [0.5555555555555556, \"#d8576b\"], [0.6666666666666666, \"#ed7953\"], [0.7777777777777778, \"#fb9f3a\"], [0.8888888888888888, \"#fdca26\"], [1.0, \"#f0f921\"]]}, \"colorway\": [\"#636efa\", \"#EF553B\", \"#00cc96\", \"#ab63fa\", \"#FFA15A\", \"#19d3f3\", \"#FF6692\", \"#B6E880\", \"#FF97FF\", \"#FECB52\"], \"font\": {\"color\": \"#2a3f5f\"}, \"geo\": {\"bgcolor\": \"white\", \"lakecolor\": \"white\", \"landcolor\": \"#E5ECF6\", \"showlakes\": true, \"showland\": true, \"subunitcolor\": \"white\"}, \"hoverlabel\": {\"align\": \"left\"}, \"hovermode\": \"closest\", \"mapbox\": {\"style\": \"light\"}, \"paper_bgcolor\": \"white\", \"plot_bgcolor\": \"#E5ECF6\", \"polar\": {\"angularaxis\": {\"gridcolor\": \"white\", \"linecolor\": \"white\", \"ticks\": \"\"}, \"bgcolor\": \"#E5ECF6\", \"radialaxis\": {\"gridcolor\": \"white\", \"linecolor\": \"white\", \"ticks\": \"\"}}, \"scene\": {\"xaxis\": {\"backgroundcolor\": \"#E5ECF6\", \"gridcolor\": \"white\", \"gridwidth\": 2, \"linecolor\": \"white\", \"showbackground\": true, \"ticks\": \"\", \"zerolinecolor\": \"white\"}, \"yaxis\": {\"backgroundcolor\": \"#E5ECF6\", \"gridcolor\": \"white\", \"gridwidth\": 2, \"linecolor\": \"white\", \"showbackground\": true, \"ticks\": \"\", \"zerolinecolor\": \"white\"}, \"zaxis\": {\"backgroundcolor\": \"#E5ECF6\", \"gridcolor\": \"white\", \"gridwidth\": 2, \"linecolor\": \"white\", \"showbackground\": true, \"ticks\": \"\", \"zerolinecolor\": \"white\"}}, \"shapedefaults\": {\"line\": {\"color\": \"#2a3f5f\"}}, \"ternary\": {\"aaxis\": {\"gridcolor\": \"white\", \"linecolor\": \"white\", \"ticks\": \"\"}, \"baxis\": {\"gridcolor\": \"white\", \"linecolor\": \"white\", \"ticks\": \"\"}, \"bgcolor\": \"#E5ECF6\", \"caxis\": {\"gridcolor\": \"white\", \"linecolor\": \"white\", \"ticks\": \"\"}}, \"title\": {\"x\": 0.05}, \"xaxis\": {\"automargin\": true, \"gridcolor\": \"white\", \"linecolor\": \"white\", \"ticks\": \"\", \"title\": {\"standoff\": 15}, \"zerolinecolor\": \"white\", \"zerolinewidth\": 2}, \"yaxis\": {\"automargin\": true, \"gridcolor\": \"white\", \"linecolor\": \"white\", \"ticks\": \"\", \"title\": {\"standoff\": 15}, \"zerolinecolor\": \"white\", \"zerolinewidth\": 2}}}, \"title\": {\"font\": {\"color\": \"#4D5663\"}}, \"xaxis\": {\"gridcolor\": \"#E1E5ED\", \"showgrid\": true, \"tickfont\": {\"color\": \"#4D5663\"}, \"title\": {\"font\": {\"color\": \"#4D5663\"}, \"text\": \"\"}, \"zerolinecolor\": \"#E1E5ED\"}, \"yaxis\": {\"gridcolor\": \"#E1E5ED\", \"showgrid\": true, \"tickfont\": {\"color\": \"#4D5663\"}, \"title\": {\"font\": {\"color\": \"#4D5663\"}, \"text\": \"\"}, \"zerolinecolor\": \"#E1E5ED\"}},                        {\"showLink\": true, \"linkText\": \"Export to plot.ly\", \"plotlyServerURL\": \"https://plot.ly\", \"responsive\": true}                    ).then(function(){\n",
       "                            \n",
       "var gd = document.getElementById('4a8d10ec-fa56-4295-b2bb-96c2c9046fb8');\n",
       "var x = new MutationObserver(function (mutations, observer) {{\n",
       "        var display = window.getComputedStyle(gd).display;\n",
       "        if (!display || display === 'none') {{\n",
       "            console.log([gd, 'removed!']);\n",
       "            Plotly.purge(gd);\n",
       "            observer.disconnect();\n",
       "        }}\n",
       "}});\n",
       "\n",
       "// Listen for the removal of the full notebook cells\n",
       "var notebookContainer = gd.closest('#notebook-container');\n",
       "if (notebookContainer) {{\n",
       "    x.observe(notebookContainer, {childList: true});\n",
       "}}\n",
       "\n",
       "// Listen for the clearing of the current output cell\n",
       "var outputEl = gd.closest('.output');\n",
       "if (outputEl) {{\n",
       "    x.observe(outputEl, {childList: true});\n",
       "}}\n",
       "\n",
       "                        })                };                });            </script>        </div>"
      ]
     },
     "metadata": {},
     "output_type": "display_data"
    }
   ],
   "source": [
    "Deaths.iplot(kind ='bar',x='ObservationDate',y='Deaths')"
   ]
  },
  {
   "cell_type": "code",
   "execution_count": 13,
   "metadata": {},
   "outputs": [
    {
     "data": {
      "application/vnd.plotly.v1+json": {
       "config": {
        "linkText": "Export to plot.ly",
        "plotlyServerURL": "https://plot.ly",
        "showLink": true
       },
       "data": [
        {
         "marker": {
          "color": "rgba(255, 153, 51, 0.6)",
          "line": {
           "color": "rgba(255, 153, 51, 1.0)",
           "width": 1
          }
         },
         "name": "Recovered",
         "orientation": "v",
         "text": "",
         "type": "bar",
         "x": [
          "01/22/2020",
          "01/23/2020",
          "01/24/2020",
          "01/25/2020",
          "01/26/2020",
          "01/27/2020",
          "01/28/2020",
          "01/29/2020",
          "01/30/2020",
          "01/31/2020",
          "02/01/2020",
          "02/02/2020",
          "02/03/2020",
          "02/04/2020",
          "02/05/2020",
          "02/06/2020",
          "02/07/2020",
          "02/08/2020",
          "02/09/2020",
          "02/10/2020",
          "02/11/2020",
          "02/12/2020",
          "02/13/2020",
          "02/14/2020",
          "02/15/2020",
          "02/16/2020",
          "02/17/2020",
          "02/18/2020",
          "02/19/2020",
          "02/20/2020",
          "02/21/2020",
          "02/22/2020",
          "02/23/2020",
          "02/24/2020",
          "02/25/2020",
          "02/26/2020",
          "02/27/2020",
          "02/28/2020",
          "02/29/2020",
          "03/01/2020",
          "03/02/2020",
          "03/03/2020",
          "03/04/2020",
          "03/05/2020",
          "03/06/2020",
          "03/07/2020",
          "03/08/2020",
          "03/09/2020",
          "03/10/2020",
          "03/11/2020",
          "03/12/2020",
          "03/13/2020",
          "03/14/2020",
          "03/15/2020",
          "03/16/2020",
          "03/17/2020",
          "03/18/2020",
          "03/19/2020",
          "03/20/2020",
          "03/21/2020",
          "03/22/2020",
          "03/23/2020",
          "03/24/2020",
          "03/25/2020",
          "03/26/2020",
          "03/27/2020",
          "03/28/2020",
          "03/29/2020",
          "03/30/2020",
          "03/31/2020",
          "04/01/2020",
          "04/02/2020",
          "04/03/2020",
          "04/04/2020",
          "04/05/2020",
          "04/06/2020",
          "04/07/2020",
          "04/08/2020",
          "04/09/2020",
          "04/10/2020",
          "04/11/2020",
          "04/12/2020",
          "04/13/2020",
          "04/14/2020",
          "04/15/2020",
          "04/16/2020",
          "04/17/2020",
          "04/18/2020",
          "04/19/2020",
          "04/20/2020",
          "04/21/2020",
          "04/22/2020",
          "04/23/2020",
          "04/24/2020",
          "04/25/2020",
          "04/26/2020",
          "04/27/2020",
          "04/28/2020",
          "04/29/2020",
          "04/30/2020",
          "05/01/2020",
          "05/02/2020",
          "05/03/2020",
          "05/04/2020",
          "05/05/2020",
          "05/06/2020",
          "05/07/2020",
          "05/08/2020",
          "05/09/2020",
          "05/10/2020",
          "05/11/2020",
          "05/12/2020",
          "05/13/2020",
          "05/14/2020",
          "05/15/2020",
          "05/16/2020",
          "05/17/2020",
          "05/18/2020",
          "05/19/2020",
          "05/20/2020",
          "05/21/2020",
          "05/22/2020",
          "05/23/2020",
          "05/24/2020",
          "05/25/2020",
          "05/26/2020",
          "05/27/2020",
          "05/28/2020",
          "05/29/2020",
          "05/30/2020",
          "05/31/2020",
          "06/01/2020",
          "06/02/2020",
          "06/03/2020",
          "06/04/2020",
          "06/05/2020",
          "06/06/2020",
          "06/07/2020",
          "06/08/2020",
          "06/09/2020",
          "06/10/2020",
          "06/11/2020",
          "06/12/2020",
          "06/13/2020",
          "06/14/2020",
          "06/15/2020",
          "06/16/2020",
          "06/17/2020",
          "06/18/2020",
          "06/19/2020",
          "06/20/2020",
          "06/21/2020",
          "06/22/2020",
          "06/23/2020",
          "06/24/2020",
          "06/25/2020",
          "06/26/2020",
          "06/27/2020",
          "06/28/2020",
          "06/29/2020",
          "06/30/2020",
          "07/01/2020",
          "07/02/2020",
          "07/03/2020",
          "07/04/2020",
          "07/05/2020",
          "07/06/2020",
          "07/07/2020",
          "07/08/2020",
          "07/09/2020",
          "07/10/2020",
          "07/11/2020",
          "07/12/2020",
          "07/13/2020",
          "07/14/2020",
          "07/15/2020",
          "07/16/2020",
          "07/17/2020",
          "07/18/2020",
          "07/19/2020",
          "07/20/2020",
          "07/21/2020",
          "07/22/2020",
          "07/23/2020",
          "07/24/2020",
          "07/25/2020",
          "07/26/2020",
          "07/27/2020",
          "07/28/2020",
          "07/29/2020",
          "07/30/2020",
          "07/31/2020",
          "08/01/2020",
          "08/02/2020",
          "08/03/2020",
          "08/04/2020",
          "08/05/2020",
          "08/06/2020",
          "08/07/2020",
          "08/08/2020",
          "08/09/2020",
          "08/10/2020",
          "08/11/2020",
          "08/12/2020",
          "08/13/2020",
          "08/14/2020",
          "08/15/2020",
          "08/16/2020",
          "08/17/2020",
          "08/18/2020",
          "08/19/2020",
          "08/20/2020",
          "08/21/2020",
          "08/22/2020",
          "08/23/2020",
          "08/24/2020",
          "08/25/2020",
          "08/26/2020",
          "08/27/2020",
          "08/28/2020",
          "08/29/2020",
          "08/30/2020",
          "08/31/2020",
          "09/01/2020",
          "09/02/2020",
          "09/03/2020",
          "09/04/2020",
          "09/05/2020",
          "09/06/2020",
          "09/07/2020",
          "09/08/2020",
          "09/09/2020",
          "09/10/2020",
          "09/11/2020",
          "09/12/2020",
          "09/13/2020",
          "09/14/2020",
          "09/15/2020",
          "09/16/2020",
          "09/17/2020",
          "09/18/2020",
          "09/19/2020",
          "09/20/2020",
          "09/21/2020",
          "09/22/2020",
          "09/23/2020",
          "09/24/2020",
          "09/25/2020",
          "09/26/2020",
          "09/27/2020",
          "09/28/2020",
          "09/29/2020",
          "09/30/2020",
          "10/01/2020",
          "10/02/2020",
          "10/03/2020",
          "10/04/2020",
          "10/05/2020",
          "10/06/2020",
          "10/07/2020",
          "10/08/2020",
          "10/09/2020",
          "10/10/2020",
          "10/11/2020",
          "10/12/2020",
          "10/13/2020",
          "10/14/2020",
          "10/15/2020",
          "10/16/2020",
          "10/17/2020",
          "10/18/2020",
          "10/19/2020",
          "10/20/2020",
          "10/21/2020",
          "10/22/2020",
          "10/23/2020",
          "10/24/2020",
          "10/25/2020",
          "10/26/2020",
          "10/27/2020",
          "10/28/2020",
          "10/29/2020",
          "10/30/2020",
          "10/31/2020",
          "11/01/2020",
          "11/02/2020",
          "11/03/2020",
          "11/04/2020",
          "11/05/2020",
          "11/06/2020",
          "11/07/2020",
          "11/08/2020",
          "11/09/2020",
          "11/10/2020",
          "11/11/2020",
          "11/12/2020",
          "11/13/2020",
          "11/14/2020",
          "11/15/2020",
          "11/16/2020",
          "11/17/2020",
          "11/18/2020",
          "11/19/2020",
          "11/20/2020",
          "11/21/2020",
          "11/22/2020",
          "11/23/2020",
          "11/24/2020",
          "11/25/2020",
          "11/26/2020",
          "11/27/2020",
          "11/28/2020",
          "11/29/2020",
          "11/30/2020",
          "12/01/2020",
          "12/02/2020",
          "12/03/2020",
          "12/04/2020",
          "12/05/2020",
          "12/06/2020"
         ],
         "y": [
          28,
          30,
          36,
          39,
          52,
          61,
          107,
          126,
          143,
          222,
          284,
          472,
          623,
          852,
          1124,
          1487,
          2011,
          2616,
          3244,
          3946,
          4683,
          5150,
          6295,
          8058,
          9395,
          10865,
          12583,
          14352,
          16121,
          18177,
          18890,
          22886,
          23394,
          25227,
          27905,
          30384,
          33276,
          36710,
          39781,
          42715,
          45601,
          48228,
          51170,
          53796,
          55864,
          58357,
          60693,
          62510,
          64400,
          66999,
          68320,
          70248,
          72621,
          76031,
          78085,
          80832,
          83308,
          84962,
          87402,
          91654,
          97225,
          100943,
          107677,
          113743,
          122125,
          130899,
          139404,
          149049,
          164546,
          178014,
          193425,
          210522,
          226060,
          246442,
          260355,
          276869,
          300343,
          329051,
          354270,
          376373,
          402380,
          422004,
          449028,
          474617,
          511279,
          542463,
          568767,
          592683,
          624377,
          646376,
          680415,
          709993,
          738741,
          793708,
          816905,
          866089,
          894402,
          929030,
          972957,
          1015116,
          1053564,
          1093130,
          1125432,
          1162893,
          1198928,
          1245619,
          1284971,
          1322139,
          1375650,
          1409199,
          1456306,
          1493526,
          1548713,
          1588020,
          1637273,
          1693222,
          1734083,
          1786968,
          1839045,
          1897575,
          1948795,
          2056653,
          2112071,
          2168531,
          2231683,
          2286851,
          2349932,
          2415813,
          2493327,
          2564490,
          2641192,
          2695896,
          2729408,
          2804850,
          2869844,
          3013042,
          3085754,
          3140846,
          3293369,
          3375623,
          3454812,
          3540685,
          3613284,
          3698281,
          3769723,
          3857404,
          3955254,
          4074080,
          4155235,
          4245892,
          4378403,
          4447184,
          4526432,
          4630472,
          4746195,
          4839017,
          4944924,
          5051149,
          5140263,
          5235190,
          5352666,
          5577066,
          5753447,
          5863274,
          6058920,
          6178397,
          6302095,
          6447124,
          6605139,
          6739811,
          6879260,
          7005028,
          7116834,
          7257222,
          7399371,
          7559185,
          7711579,
          7895054,
          8045825,
          8133841,
          8290741,
          8467504,
          8646262,
          8823657,
          9051960,
          9271771,
          9409701,
          9586452,
          9721624,
          9959512,
          10173026,
          10372630,
          10556528,
          10695244,
          10917690,
          11138917,
          11360609,
          11549417,
          11741463,
          11941716,
          12120463,
          12284653,
          12589720,
          12831231,
          12994271,
          13277502,
          13446113,
          13679063,
          13890074,
          14117693,
          14335692,
          14543485,
          14711982,
          14911052,
          15138028,
          15337438,
          15568925,
          15794562,
          16003063,
          16202647,
          16414032,
          16624237,
          16825017,
          17080254,
          17298341,
          17519696,
          17724129,
          17924656,
          18145972,
          18332443,
          18532089,
          18784801,
          19001427,
          19225083,
          19448014,
          19635848,
          19785022,
          20089006,
          20318488,
          20538676,
          20789816,
          21026795,
          21263843,
          21509287,
          21727180,
          21990595,
          22246238,
          22485455,
          22747605,
          22961461,
          23183979,
          23424021,
          23672220,
          23885526,
          24066070,
          24321682,
          24543813,
          24781248,
          25012368,
          25267561,
          25487134,
          25694001,
          25889427,
          26112051,
          26312319,
          26501532,
          26713838,
          26920705,
          27123696,
          27322014,
          27523423,
          27725831,
          27934000,
          28145461,
          28372247,
          28579075,
          28790641,
          28988679,
          29226935,
          29816657,
          30079306,
          30325963,
          29718151,
          30847561,
          31105316,
          31385640,
          31637095,
          31916327,
          32219873,
          32508235,
          32807327,
          33060205,
          33316925,
          33573929,
          33954291,
          34179721,
          34481766,
          34759840,
          34989537,
          35378248,
          35812940,
          36176087,
          36549174,
          36904549,
          37243768,
          37516165,
          37926212,
          38297744,
          38734721,
          39099944,
          39476664,
          39831868,
          40157966,
          40559353,
          41034934,
          41496318,
          41932091,
          42352021,
          42789879,
          43103827
         ]
        }
       ],
       "layout": {
        "legend": {
         "bgcolor": "#F5F6F9",
         "font": {
          "color": "#4D5663"
         }
        },
        "paper_bgcolor": "#F5F6F9",
        "plot_bgcolor": "#F5F6F9",
        "template": {
         "data": {
          "bar": [
           {
            "error_x": {
             "color": "#2a3f5f"
            },
            "error_y": {
             "color": "#2a3f5f"
            },
            "marker": {
             "line": {
              "color": "#E5ECF6",
              "width": 0.5
             }
            },
            "type": "bar"
           }
          ],
          "barpolar": [
           {
            "marker": {
             "line": {
              "color": "#E5ECF6",
              "width": 0.5
             }
            },
            "type": "barpolar"
           }
          ],
          "carpet": [
           {
            "aaxis": {
             "endlinecolor": "#2a3f5f",
             "gridcolor": "white",
             "linecolor": "white",
             "minorgridcolor": "white",
             "startlinecolor": "#2a3f5f"
            },
            "baxis": {
             "endlinecolor": "#2a3f5f",
             "gridcolor": "white",
             "linecolor": "white",
             "minorgridcolor": "white",
             "startlinecolor": "#2a3f5f"
            },
            "type": "carpet"
           }
          ],
          "choropleth": [
           {
            "colorbar": {
             "outlinewidth": 0,
             "ticks": ""
            },
            "type": "choropleth"
           }
          ],
          "contour": [
           {
            "colorbar": {
             "outlinewidth": 0,
             "ticks": ""
            },
            "colorscale": [
             [
              0,
              "#0d0887"
             ],
             [
              0.1111111111111111,
              "#46039f"
             ],
             [
              0.2222222222222222,
              "#7201a8"
             ],
             [
              0.3333333333333333,
              "#9c179e"
             ],
             [
              0.4444444444444444,
              "#bd3786"
             ],
             [
              0.5555555555555556,
              "#d8576b"
             ],
             [
              0.6666666666666666,
              "#ed7953"
             ],
             [
              0.7777777777777778,
              "#fb9f3a"
             ],
             [
              0.8888888888888888,
              "#fdca26"
             ],
             [
              1,
              "#f0f921"
             ]
            ],
            "type": "contour"
           }
          ],
          "contourcarpet": [
           {
            "colorbar": {
             "outlinewidth": 0,
             "ticks": ""
            },
            "type": "contourcarpet"
           }
          ],
          "heatmap": [
           {
            "colorbar": {
             "outlinewidth": 0,
             "ticks": ""
            },
            "colorscale": [
             [
              0,
              "#0d0887"
             ],
             [
              0.1111111111111111,
              "#46039f"
             ],
             [
              0.2222222222222222,
              "#7201a8"
             ],
             [
              0.3333333333333333,
              "#9c179e"
             ],
             [
              0.4444444444444444,
              "#bd3786"
             ],
             [
              0.5555555555555556,
              "#d8576b"
             ],
             [
              0.6666666666666666,
              "#ed7953"
             ],
             [
              0.7777777777777778,
              "#fb9f3a"
             ],
             [
              0.8888888888888888,
              "#fdca26"
             ],
             [
              1,
              "#f0f921"
             ]
            ],
            "type": "heatmap"
           }
          ],
          "heatmapgl": [
           {
            "colorbar": {
             "outlinewidth": 0,
             "ticks": ""
            },
            "colorscale": [
             [
              0,
              "#0d0887"
             ],
             [
              0.1111111111111111,
              "#46039f"
             ],
             [
              0.2222222222222222,
              "#7201a8"
             ],
             [
              0.3333333333333333,
              "#9c179e"
             ],
             [
              0.4444444444444444,
              "#bd3786"
             ],
             [
              0.5555555555555556,
              "#d8576b"
             ],
             [
              0.6666666666666666,
              "#ed7953"
             ],
             [
              0.7777777777777778,
              "#fb9f3a"
             ],
             [
              0.8888888888888888,
              "#fdca26"
             ],
             [
              1,
              "#f0f921"
             ]
            ],
            "type": "heatmapgl"
           }
          ],
          "histogram": [
           {
            "marker": {
             "colorbar": {
              "outlinewidth": 0,
              "ticks": ""
             }
            },
            "type": "histogram"
           }
          ],
          "histogram2d": [
           {
            "colorbar": {
             "outlinewidth": 0,
             "ticks": ""
            },
            "colorscale": [
             [
              0,
              "#0d0887"
             ],
             [
              0.1111111111111111,
              "#46039f"
             ],
             [
              0.2222222222222222,
              "#7201a8"
             ],
             [
              0.3333333333333333,
              "#9c179e"
             ],
             [
              0.4444444444444444,
              "#bd3786"
             ],
             [
              0.5555555555555556,
              "#d8576b"
             ],
             [
              0.6666666666666666,
              "#ed7953"
             ],
             [
              0.7777777777777778,
              "#fb9f3a"
             ],
             [
              0.8888888888888888,
              "#fdca26"
             ],
             [
              1,
              "#f0f921"
             ]
            ],
            "type": "histogram2d"
           }
          ],
          "histogram2dcontour": [
           {
            "colorbar": {
             "outlinewidth": 0,
             "ticks": ""
            },
            "colorscale": [
             [
              0,
              "#0d0887"
             ],
             [
              0.1111111111111111,
              "#46039f"
             ],
             [
              0.2222222222222222,
              "#7201a8"
             ],
             [
              0.3333333333333333,
              "#9c179e"
             ],
             [
              0.4444444444444444,
              "#bd3786"
             ],
             [
              0.5555555555555556,
              "#d8576b"
             ],
             [
              0.6666666666666666,
              "#ed7953"
             ],
             [
              0.7777777777777778,
              "#fb9f3a"
             ],
             [
              0.8888888888888888,
              "#fdca26"
             ],
             [
              1,
              "#f0f921"
             ]
            ],
            "type": "histogram2dcontour"
           }
          ],
          "mesh3d": [
           {
            "colorbar": {
             "outlinewidth": 0,
             "ticks": ""
            },
            "type": "mesh3d"
           }
          ],
          "parcoords": [
           {
            "line": {
             "colorbar": {
              "outlinewidth": 0,
              "ticks": ""
             }
            },
            "type": "parcoords"
           }
          ],
          "pie": [
           {
            "automargin": true,
            "type": "pie"
           }
          ],
          "scatter": [
           {
            "marker": {
             "colorbar": {
              "outlinewidth": 0,
              "ticks": ""
             }
            },
            "type": "scatter"
           }
          ],
          "scatter3d": [
           {
            "line": {
             "colorbar": {
              "outlinewidth": 0,
              "ticks": ""
             }
            },
            "marker": {
             "colorbar": {
              "outlinewidth": 0,
              "ticks": ""
             }
            },
            "type": "scatter3d"
           }
          ],
          "scattercarpet": [
           {
            "marker": {
             "colorbar": {
              "outlinewidth": 0,
              "ticks": ""
             }
            },
            "type": "scattercarpet"
           }
          ],
          "scattergeo": [
           {
            "marker": {
             "colorbar": {
              "outlinewidth": 0,
              "ticks": ""
             }
            },
            "type": "scattergeo"
           }
          ],
          "scattergl": [
           {
            "marker": {
             "colorbar": {
              "outlinewidth": 0,
              "ticks": ""
             }
            },
            "type": "scattergl"
           }
          ],
          "scattermapbox": [
           {
            "marker": {
             "colorbar": {
              "outlinewidth": 0,
              "ticks": ""
             }
            },
            "type": "scattermapbox"
           }
          ],
          "scatterpolar": [
           {
            "marker": {
             "colorbar": {
              "outlinewidth": 0,
              "ticks": ""
             }
            },
            "type": "scatterpolar"
           }
          ],
          "scatterpolargl": [
           {
            "marker": {
             "colorbar": {
              "outlinewidth": 0,
              "ticks": ""
             }
            },
            "type": "scatterpolargl"
           }
          ],
          "scatterternary": [
           {
            "marker": {
             "colorbar": {
              "outlinewidth": 0,
              "ticks": ""
             }
            },
            "type": "scatterternary"
           }
          ],
          "surface": [
           {
            "colorbar": {
             "outlinewidth": 0,
             "ticks": ""
            },
            "colorscale": [
             [
              0,
              "#0d0887"
             ],
             [
              0.1111111111111111,
              "#46039f"
             ],
             [
              0.2222222222222222,
              "#7201a8"
             ],
             [
              0.3333333333333333,
              "#9c179e"
             ],
             [
              0.4444444444444444,
              "#bd3786"
             ],
             [
              0.5555555555555556,
              "#d8576b"
             ],
             [
              0.6666666666666666,
              "#ed7953"
             ],
             [
              0.7777777777777778,
              "#fb9f3a"
             ],
             [
              0.8888888888888888,
              "#fdca26"
             ],
             [
              1,
              "#f0f921"
             ]
            ],
            "type": "surface"
           }
          ],
          "table": [
           {
            "cells": {
             "fill": {
              "color": "#EBF0F8"
             },
             "line": {
              "color": "white"
             }
            },
            "header": {
             "fill": {
              "color": "#C8D4E3"
             },
             "line": {
              "color": "white"
             }
            },
            "type": "table"
           }
          ]
         },
         "layout": {
          "annotationdefaults": {
           "arrowcolor": "#2a3f5f",
           "arrowhead": 0,
           "arrowwidth": 1
          },
          "autotypenumbers": "strict",
          "coloraxis": {
           "colorbar": {
            "outlinewidth": 0,
            "ticks": ""
           }
          },
          "colorscale": {
           "diverging": [
            [
             0,
             "#8e0152"
            ],
            [
             0.1,
             "#c51b7d"
            ],
            [
             0.2,
             "#de77ae"
            ],
            [
             0.3,
             "#f1b6da"
            ],
            [
             0.4,
             "#fde0ef"
            ],
            [
             0.5,
             "#f7f7f7"
            ],
            [
             0.6,
             "#e6f5d0"
            ],
            [
             0.7,
             "#b8e186"
            ],
            [
             0.8,
             "#7fbc41"
            ],
            [
             0.9,
             "#4d9221"
            ],
            [
             1,
             "#276419"
            ]
           ],
           "sequential": [
            [
             0,
             "#0d0887"
            ],
            [
             0.1111111111111111,
             "#46039f"
            ],
            [
             0.2222222222222222,
             "#7201a8"
            ],
            [
             0.3333333333333333,
             "#9c179e"
            ],
            [
             0.4444444444444444,
             "#bd3786"
            ],
            [
             0.5555555555555556,
             "#d8576b"
            ],
            [
             0.6666666666666666,
             "#ed7953"
            ],
            [
             0.7777777777777778,
             "#fb9f3a"
            ],
            [
             0.8888888888888888,
             "#fdca26"
            ],
            [
             1,
             "#f0f921"
            ]
           ],
           "sequentialminus": [
            [
             0,
             "#0d0887"
            ],
            [
             0.1111111111111111,
             "#46039f"
            ],
            [
             0.2222222222222222,
             "#7201a8"
            ],
            [
             0.3333333333333333,
             "#9c179e"
            ],
            [
             0.4444444444444444,
             "#bd3786"
            ],
            [
             0.5555555555555556,
             "#d8576b"
            ],
            [
             0.6666666666666666,
             "#ed7953"
            ],
            [
             0.7777777777777778,
             "#fb9f3a"
            ],
            [
             0.8888888888888888,
             "#fdca26"
            ],
            [
             1,
             "#f0f921"
            ]
           ]
          },
          "colorway": [
           "#636efa",
           "#EF553B",
           "#00cc96",
           "#ab63fa",
           "#FFA15A",
           "#19d3f3",
           "#FF6692",
           "#B6E880",
           "#FF97FF",
           "#FECB52"
          ],
          "font": {
           "color": "#2a3f5f"
          },
          "geo": {
           "bgcolor": "white",
           "lakecolor": "white",
           "landcolor": "#E5ECF6",
           "showlakes": true,
           "showland": true,
           "subunitcolor": "white"
          },
          "hoverlabel": {
           "align": "left"
          },
          "hovermode": "closest",
          "mapbox": {
           "style": "light"
          },
          "paper_bgcolor": "white",
          "plot_bgcolor": "#E5ECF6",
          "polar": {
           "angularaxis": {
            "gridcolor": "white",
            "linecolor": "white",
            "ticks": ""
           },
           "bgcolor": "#E5ECF6",
           "radialaxis": {
            "gridcolor": "white",
            "linecolor": "white",
            "ticks": ""
           }
          },
          "scene": {
           "xaxis": {
            "backgroundcolor": "#E5ECF6",
            "gridcolor": "white",
            "gridwidth": 2,
            "linecolor": "white",
            "showbackground": true,
            "ticks": "",
            "zerolinecolor": "white"
           },
           "yaxis": {
            "backgroundcolor": "#E5ECF6",
            "gridcolor": "white",
            "gridwidth": 2,
            "linecolor": "white",
            "showbackground": true,
            "ticks": "",
            "zerolinecolor": "white"
           },
           "zaxis": {
            "backgroundcolor": "#E5ECF6",
            "gridcolor": "white",
            "gridwidth": 2,
            "linecolor": "white",
            "showbackground": true,
            "ticks": "",
            "zerolinecolor": "white"
           }
          },
          "shapedefaults": {
           "line": {
            "color": "#2a3f5f"
           }
          },
          "ternary": {
           "aaxis": {
            "gridcolor": "white",
            "linecolor": "white",
            "ticks": ""
           },
           "baxis": {
            "gridcolor": "white",
            "linecolor": "white",
            "ticks": ""
           },
           "bgcolor": "#E5ECF6",
           "caxis": {
            "gridcolor": "white",
            "linecolor": "white",
            "ticks": ""
           }
          },
          "title": {
           "x": 0.05
          },
          "xaxis": {
           "automargin": true,
           "gridcolor": "white",
           "linecolor": "white",
           "ticks": "",
           "title": {
            "standoff": 15
           },
           "zerolinecolor": "white",
           "zerolinewidth": 2
          },
          "yaxis": {
           "automargin": true,
           "gridcolor": "white",
           "linecolor": "white",
           "ticks": "",
           "title": {
            "standoff": 15
           },
           "zerolinecolor": "white",
           "zerolinewidth": 2
          }
         }
        },
        "title": {
         "font": {
          "color": "#4D5663"
         }
        },
        "xaxis": {
         "gridcolor": "#E1E5ED",
         "showgrid": true,
         "tickfont": {
          "color": "#4D5663"
         },
         "title": {
          "font": {
           "color": "#4D5663"
          },
          "text": ""
         },
         "zerolinecolor": "#E1E5ED"
        },
        "yaxis": {
         "gridcolor": "#E1E5ED",
         "showgrid": true,
         "tickfont": {
          "color": "#4D5663"
         },
         "title": {
          "font": {
           "color": "#4D5663"
          },
          "text": ""
         },
         "zerolinecolor": "#E1E5ED"
        }
       }
      },
      "text/html": [
       "<div>                            <div id=\"79aaf54b-92e0-4fb0-afa2-dcad521c2081\" class=\"plotly-graph-div\" style=\"height:525px; width:100%;\"></div>            <script type=\"text/javascript\">                require([\"plotly\"], function(Plotly) {                    window.PLOTLYENV=window.PLOTLYENV || {};\n",
       "                    window.PLOTLYENV.BASE_URL='https://plot.ly';                                    if (document.getElementById(\"79aaf54b-92e0-4fb0-afa2-dcad521c2081\")) {                    Plotly.newPlot(                        \"79aaf54b-92e0-4fb0-afa2-dcad521c2081\",                        [{\"marker\": {\"color\": \"rgba(255, 153, 51, 0.6)\", \"line\": {\"color\": \"rgba(255, 153, 51, 1.0)\", \"width\": 1}}, \"name\": \"Recovered\", \"orientation\": \"v\", \"text\": \"\", \"type\": \"bar\", \"x\": [\"01/22/2020\", \"01/23/2020\", \"01/24/2020\", \"01/25/2020\", \"01/26/2020\", \"01/27/2020\", \"01/28/2020\", \"01/29/2020\", \"01/30/2020\", \"01/31/2020\", \"02/01/2020\", \"02/02/2020\", \"02/03/2020\", \"02/04/2020\", \"02/05/2020\", \"02/06/2020\", \"02/07/2020\", \"02/08/2020\", \"02/09/2020\", \"02/10/2020\", \"02/11/2020\", \"02/12/2020\", \"02/13/2020\", \"02/14/2020\", \"02/15/2020\", \"02/16/2020\", \"02/17/2020\", \"02/18/2020\", \"02/19/2020\", \"02/20/2020\", \"02/21/2020\", \"02/22/2020\", \"02/23/2020\", \"02/24/2020\", \"02/25/2020\", \"02/26/2020\", \"02/27/2020\", \"02/28/2020\", \"02/29/2020\", \"03/01/2020\", \"03/02/2020\", \"03/03/2020\", \"03/04/2020\", \"03/05/2020\", \"03/06/2020\", \"03/07/2020\", \"03/08/2020\", \"03/09/2020\", \"03/10/2020\", \"03/11/2020\", \"03/12/2020\", \"03/13/2020\", \"03/14/2020\", \"03/15/2020\", \"03/16/2020\", \"03/17/2020\", \"03/18/2020\", \"03/19/2020\", \"03/20/2020\", \"03/21/2020\", \"03/22/2020\", \"03/23/2020\", \"03/24/2020\", \"03/25/2020\", \"03/26/2020\", \"03/27/2020\", \"03/28/2020\", \"03/29/2020\", \"03/30/2020\", \"03/31/2020\", \"04/01/2020\", \"04/02/2020\", \"04/03/2020\", \"04/04/2020\", \"04/05/2020\", \"04/06/2020\", \"04/07/2020\", \"04/08/2020\", \"04/09/2020\", \"04/10/2020\", \"04/11/2020\", \"04/12/2020\", \"04/13/2020\", \"04/14/2020\", \"04/15/2020\", \"04/16/2020\", \"04/17/2020\", \"04/18/2020\", \"04/19/2020\", \"04/20/2020\", \"04/21/2020\", \"04/22/2020\", \"04/23/2020\", \"04/24/2020\", \"04/25/2020\", \"04/26/2020\", \"04/27/2020\", \"04/28/2020\", \"04/29/2020\", \"04/30/2020\", \"05/01/2020\", \"05/02/2020\", \"05/03/2020\", \"05/04/2020\", \"05/05/2020\", \"05/06/2020\", \"05/07/2020\", \"05/08/2020\", \"05/09/2020\", \"05/10/2020\", \"05/11/2020\", \"05/12/2020\", \"05/13/2020\", \"05/14/2020\", \"05/15/2020\", \"05/16/2020\", \"05/17/2020\", \"05/18/2020\", \"05/19/2020\", \"05/20/2020\", \"05/21/2020\", \"05/22/2020\", \"05/23/2020\", \"05/24/2020\", \"05/25/2020\", \"05/26/2020\", \"05/27/2020\", \"05/28/2020\", \"05/29/2020\", \"05/30/2020\", \"05/31/2020\", \"06/01/2020\", \"06/02/2020\", \"06/03/2020\", \"06/04/2020\", \"06/05/2020\", \"06/06/2020\", \"06/07/2020\", \"06/08/2020\", \"06/09/2020\", \"06/10/2020\", \"06/11/2020\", \"06/12/2020\", \"06/13/2020\", \"06/14/2020\", \"06/15/2020\", \"06/16/2020\", \"06/17/2020\", \"06/18/2020\", \"06/19/2020\", \"06/20/2020\", \"06/21/2020\", \"06/22/2020\", \"06/23/2020\", \"06/24/2020\", \"06/25/2020\", \"06/26/2020\", \"06/27/2020\", \"06/28/2020\", \"06/29/2020\", \"06/30/2020\", \"07/01/2020\", \"07/02/2020\", \"07/03/2020\", \"07/04/2020\", \"07/05/2020\", \"07/06/2020\", \"07/07/2020\", \"07/08/2020\", \"07/09/2020\", \"07/10/2020\", \"07/11/2020\", \"07/12/2020\", \"07/13/2020\", \"07/14/2020\", \"07/15/2020\", \"07/16/2020\", \"07/17/2020\", \"07/18/2020\", \"07/19/2020\", \"07/20/2020\", \"07/21/2020\", \"07/22/2020\", \"07/23/2020\", \"07/24/2020\", \"07/25/2020\", \"07/26/2020\", \"07/27/2020\", \"07/28/2020\", \"07/29/2020\", \"07/30/2020\", \"07/31/2020\", \"08/01/2020\", \"08/02/2020\", \"08/03/2020\", \"08/04/2020\", \"08/05/2020\", \"08/06/2020\", \"08/07/2020\", \"08/08/2020\", \"08/09/2020\", \"08/10/2020\", \"08/11/2020\", \"08/12/2020\", \"08/13/2020\", \"08/14/2020\", \"08/15/2020\", \"08/16/2020\", \"08/17/2020\", \"08/18/2020\", \"08/19/2020\", \"08/20/2020\", \"08/21/2020\", \"08/22/2020\", \"08/23/2020\", \"08/24/2020\", \"08/25/2020\", \"08/26/2020\", \"08/27/2020\", \"08/28/2020\", \"08/29/2020\", \"08/30/2020\", \"08/31/2020\", \"09/01/2020\", \"09/02/2020\", \"09/03/2020\", \"09/04/2020\", \"09/05/2020\", \"09/06/2020\", \"09/07/2020\", \"09/08/2020\", \"09/09/2020\", \"09/10/2020\", \"09/11/2020\", \"09/12/2020\", \"09/13/2020\", \"09/14/2020\", \"09/15/2020\", \"09/16/2020\", \"09/17/2020\", \"09/18/2020\", \"09/19/2020\", \"09/20/2020\", \"09/21/2020\", \"09/22/2020\", \"09/23/2020\", \"09/24/2020\", \"09/25/2020\", \"09/26/2020\", \"09/27/2020\", \"09/28/2020\", \"09/29/2020\", \"09/30/2020\", \"10/01/2020\", \"10/02/2020\", \"10/03/2020\", \"10/04/2020\", \"10/05/2020\", \"10/06/2020\", \"10/07/2020\", \"10/08/2020\", \"10/09/2020\", \"10/10/2020\", \"10/11/2020\", \"10/12/2020\", \"10/13/2020\", \"10/14/2020\", \"10/15/2020\", \"10/16/2020\", \"10/17/2020\", \"10/18/2020\", \"10/19/2020\", \"10/20/2020\", \"10/21/2020\", \"10/22/2020\", \"10/23/2020\", \"10/24/2020\", \"10/25/2020\", \"10/26/2020\", \"10/27/2020\", \"10/28/2020\", \"10/29/2020\", \"10/30/2020\", \"10/31/2020\", \"11/01/2020\", \"11/02/2020\", \"11/03/2020\", \"11/04/2020\", \"11/05/2020\", \"11/06/2020\", \"11/07/2020\", \"11/08/2020\", \"11/09/2020\", \"11/10/2020\", \"11/11/2020\", \"11/12/2020\", \"11/13/2020\", \"11/14/2020\", \"11/15/2020\", \"11/16/2020\", \"11/17/2020\", \"11/18/2020\", \"11/19/2020\", \"11/20/2020\", \"11/21/2020\", \"11/22/2020\", \"11/23/2020\", \"11/24/2020\", \"11/25/2020\", \"11/26/2020\", \"11/27/2020\", \"11/28/2020\", \"11/29/2020\", \"11/30/2020\", \"12/01/2020\", \"12/02/2020\", \"12/03/2020\", \"12/04/2020\", \"12/05/2020\", \"12/06/2020\"], \"y\": [28.0, 30.0, 36.0, 39.0, 52.0, 61.0, 107.0, 126.0, 143.0, 222.0, 284.0, 472.0, 623.0, 852.0, 1124.0, 1487.0, 2011.0, 2616.0, 3244.0, 3946.0, 4683.0, 5150.0, 6295.0, 8058.0, 9395.0, 10865.0, 12583.0, 14352.0, 16121.0, 18177.0, 18890.0, 22886.0, 23394.0, 25227.0, 27905.0, 30384.0, 33276.0, 36710.0, 39781.0, 42715.0, 45601.0, 48228.0, 51170.0, 53796.0, 55864.0, 58357.0, 60693.0, 62510.0, 64400.0, 66999.0, 68320.0, 70248.0, 72621.0, 76031.0, 78085.0, 80832.0, 83308.0, 84962.0, 87402.0, 91654.0, 97225.0, 100943.0, 107677.0, 113743.0, 122125.0, 130899.0, 139404.0, 149049.0, 164546.0, 178014.0, 193425.0, 210522.0, 226060.0, 246442.0, 260355.0, 276869.0, 300343.0, 329051.0, 354270.0, 376373.0, 402380.0, 422004.0, 449028.0, 474617.0, 511279.0, 542463.0, 568767.0, 592683.0, 624377.0, 646376.0, 680415.0, 709993.0, 738741.0, 793708.0, 816905.0, 866089.0, 894402.0, 929030.0, 972957.0, 1015116.0, 1053564.0, 1093130.0, 1125432.0, 1162893.0, 1198928.0, 1245619.0, 1284971.0, 1322139.0, 1375650.0, 1409199.0, 1456306.0, 1493526.0, 1548713.0, 1588020.0, 1637273.0, 1693222.0, 1734083.0, 1786968.0, 1839045.0, 1897575.0, 1948795.0, 2056653.0, 2112071.0, 2168531.0, 2231683.0, 2286851.0, 2349932.0, 2415813.0, 2493327.0, 2564490.0, 2641192.0, 2695896.0, 2729408.0, 2804850.0, 2869844.0, 3013042.0, 3085754.0, 3140846.0, 3293369.0, 3375623.0, 3454812.0, 3540685.0, 3613284.0, 3698281.0, 3769723.0, 3857404.0, 3955254.0, 4074080.0, 4155235.0, 4245892.0, 4378403.0, 4447184.0, 4526432.0, 4630472.0, 4746195.0, 4839017.0, 4944924.0, 5051149.0, 5140263.0, 5235190.0, 5352666.0, 5577066.0, 5753447.0, 5863274.0, 6058920.0, 6178397.0, 6302095.0, 6447124.0, 6605139.0, 6739811.0, 6879260.0, 7005028.0, 7116834.0, 7257222.0, 7399371.0, 7559185.0, 7711579.0, 7895054.0, 8045825.0, 8133841.0, 8290741.0, 8467504.0, 8646262.0, 8823657.0, 9051960.0, 9271771.0, 9409701.0, 9586452.0, 9721624.0, 9959512.0, 10173026.0, 10372630.0, 10556528.0, 10695244.0, 10917690.0, 11138917.0, 11360609.0, 11549417.0, 11741463.0, 11941716.0, 12120463.0, 12284653.0, 12589720.0, 12831231.0, 12994271.0, 13277502.0, 13446113.0, 13679063.0, 13890074.0, 14117693.0, 14335692.0, 14543485.0, 14711982.0, 14911052.0, 15138028.0, 15337438.0, 15568925.0, 15794562.0, 16003063.0, 16202647.0, 16414032.0, 16624237.0, 16825017.0, 17080254.0, 17298341.0, 17519696.0, 17724129.0, 17924656.0, 18145972.0, 18332443.0, 18532089.0, 18784801.0, 19001427.0, 19225083.0, 19448014.0, 19635848.0, 19785022.0, 20089006.0, 20318488.0, 20538676.0, 20789816.0, 21026795.0, 21263843.0, 21509287.0, 21727180.0, 21990595.0, 22246238.0, 22485455.0, 22747605.0, 22961461.0, 23183979.0, 23424021.0, 23672220.0, 23885526.0, 24066070.0, 24321682.0, 24543813.0, 24781248.0, 25012368.0, 25267561.0, 25487134.0, 25694001.0, 25889427.0, 26112051.0, 26312319.0, 26501532.0, 26713838.0, 26920705.0, 27123696.0, 27322014.0, 27523423.0, 27725831.0, 27934000.0, 28145461.0, 28372247.0, 28579075.0, 28790641.0, 28988679.0, 29226935.0, 29816657.0, 30079306.0, 30325963.0, 29718151.0, 30847561.0, 31105316.0, 31385640.0, 31637095.0, 31916327.0, 32219873.0, 32508235.0, 32807327.0, 33060205.0, 33316925.0, 33573929.0, 33954291.0, 34179721.0, 34481766.0, 34759840.0, 34989537.0, 35378248.0, 35812940.0, 36176087.0, 36549174.0, 36904549.0, 37243768.0, 37516165.0, 37926212.0, 38297744.0, 38734721.0, 39099944.0, 39476664.0, 39831868.0, 40157966.0, 40559353.0, 41034934.0, 41496318.0, 41932091.0, 42352021.0, 42789879.0, 43103827.0]}],                        {\"legend\": {\"bgcolor\": \"#F5F6F9\", \"font\": {\"color\": \"#4D5663\"}}, \"paper_bgcolor\": \"#F5F6F9\", \"plot_bgcolor\": \"#F5F6F9\", \"template\": {\"data\": {\"bar\": [{\"error_x\": {\"color\": \"#2a3f5f\"}, \"error_y\": {\"color\": \"#2a3f5f\"}, \"marker\": {\"line\": {\"color\": \"#E5ECF6\", \"width\": 0.5}}, \"type\": \"bar\"}], \"barpolar\": [{\"marker\": {\"line\": {\"color\": \"#E5ECF6\", \"width\": 0.5}}, \"type\": \"barpolar\"}], \"carpet\": [{\"aaxis\": {\"endlinecolor\": \"#2a3f5f\", \"gridcolor\": \"white\", \"linecolor\": \"white\", \"minorgridcolor\": \"white\", \"startlinecolor\": \"#2a3f5f\"}, \"baxis\": {\"endlinecolor\": \"#2a3f5f\", \"gridcolor\": \"white\", \"linecolor\": \"white\", \"minorgridcolor\": \"white\", \"startlinecolor\": \"#2a3f5f\"}, \"type\": \"carpet\"}], \"choropleth\": [{\"colorbar\": {\"outlinewidth\": 0, \"ticks\": \"\"}, \"type\": \"choropleth\"}], \"contour\": [{\"colorbar\": {\"outlinewidth\": 0, \"ticks\": \"\"}, \"colorscale\": [[0.0, \"#0d0887\"], [0.1111111111111111, \"#46039f\"], [0.2222222222222222, \"#7201a8\"], [0.3333333333333333, \"#9c179e\"], [0.4444444444444444, \"#bd3786\"], [0.5555555555555556, \"#d8576b\"], [0.6666666666666666, \"#ed7953\"], [0.7777777777777778, \"#fb9f3a\"], [0.8888888888888888, \"#fdca26\"], [1.0, \"#f0f921\"]], \"type\": \"contour\"}], \"contourcarpet\": [{\"colorbar\": {\"outlinewidth\": 0, \"ticks\": \"\"}, \"type\": \"contourcarpet\"}], \"heatmap\": [{\"colorbar\": {\"outlinewidth\": 0, \"ticks\": \"\"}, \"colorscale\": [[0.0, \"#0d0887\"], [0.1111111111111111, \"#46039f\"], [0.2222222222222222, \"#7201a8\"], [0.3333333333333333, \"#9c179e\"], [0.4444444444444444, \"#bd3786\"], [0.5555555555555556, \"#d8576b\"], [0.6666666666666666, \"#ed7953\"], [0.7777777777777778, \"#fb9f3a\"], [0.8888888888888888, \"#fdca26\"], [1.0, \"#f0f921\"]], \"type\": \"heatmap\"}], \"heatmapgl\": [{\"colorbar\": {\"outlinewidth\": 0, \"ticks\": \"\"}, \"colorscale\": [[0.0, \"#0d0887\"], [0.1111111111111111, \"#46039f\"], [0.2222222222222222, \"#7201a8\"], [0.3333333333333333, \"#9c179e\"], [0.4444444444444444, \"#bd3786\"], [0.5555555555555556, \"#d8576b\"], [0.6666666666666666, \"#ed7953\"], [0.7777777777777778, \"#fb9f3a\"], [0.8888888888888888, \"#fdca26\"], [1.0, \"#f0f921\"]], \"type\": \"heatmapgl\"}], \"histogram\": [{\"marker\": {\"colorbar\": {\"outlinewidth\": 0, \"ticks\": \"\"}}, \"type\": \"histogram\"}], \"histogram2d\": [{\"colorbar\": {\"outlinewidth\": 0, \"ticks\": \"\"}, \"colorscale\": [[0.0, \"#0d0887\"], [0.1111111111111111, \"#46039f\"], [0.2222222222222222, \"#7201a8\"], [0.3333333333333333, \"#9c179e\"], [0.4444444444444444, \"#bd3786\"], [0.5555555555555556, \"#d8576b\"], [0.6666666666666666, \"#ed7953\"], [0.7777777777777778, \"#fb9f3a\"], [0.8888888888888888, \"#fdca26\"], [1.0, \"#f0f921\"]], \"type\": \"histogram2d\"}], \"histogram2dcontour\": [{\"colorbar\": {\"outlinewidth\": 0, \"ticks\": \"\"}, \"colorscale\": [[0.0, \"#0d0887\"], [0.1111111111111111, \"#46039f\"], [0.2222222222222222, \"#7201a8\"], [0.3333333333333333, \"#9c179e\"], [0.4444444444444444, \"#bd3786\"], [0.5555555555555556, \"#d8576b\"], [0.6666666666666666, \"#ed7953\"], [0.7777777777777778, \"#fb9f3a\"], [0.8888888888888888, \"#fdca26\"], [1.0, \"#f0f921\"]], \"type\": \"histogram2dcontour\"}], \"mesh3d\": [{\"colorbar\": {\"outlinewidth\": 0, \"ticks\": \"\"}, \"type\": \"mesh3d\"}], \"parcoords\": [{\"line\": {\"colorbar\": {\"outlinewidth\": 0, \"ticks\": \"\"}}, \"type\": \"parcoords\"}], \"pie\": [{\"automargin\": true, \"type\": \"pie\"}], \"scatter\": [{\"marker\": {\"colorbar\": {\"outlinewidth\": 0, \"ticks\": \"\"}}, \"type\": \"scatter\"}], \"scatter3d\": [{\"line\": {\"colorbar\": {\"outlinewidth\": 0, \"ticks\": \"\"}}, \"marker\": {\"colorbar\": {\"outlinewidth\": 0, \"ticks\": \"\"}}, \"type\": \"scatter3d\"}], \"scattercarpet\": [{\"marker\": {\"colorbar\": {\"outlinewidth\": 0, \"ticks\": \"\"}}, \"type\": \"scattercarpet\"}], \"scattergeo\": [{\"marker\": {\"colorbar\": {\"outlinewidth\": 0, \"ticks\": \"\"}}, \"type\": \"scattergeo\"}], \"scattergl\": [{\"marker\": {\"colorbar\": {\"outlinewidth\": 0, \"ticks\": \"\"}}, \"type\": \"scattergl\"}], \"scattermapbox\": [{\"marker\": {\"colorbar\": {\"outlinewidth\": 0, \"ticks\": \"\"}}, \"type\": \"scattermapbox\"}], \"scatterpolar\": [{\"marker\": {\"colorbar\": {\"outlinewidth\": 0, \"ticks\": \"\"}}, \"type\": \"scatterpolar\"}], \"scatterpolargl\": [{\"marker\": {\"colorbar\": {\"outlinewidth\": 0, \"ticks\": \"\"}}, \"type\": \"scatterpolargl\"}], \"scatterternary\": [{\"marker\": {\"colorbar\": {\"outlinewidth\": 0, \"ticks\": \"\"}}, \"type\": \"scatterternary\"}], \"surface\": [{\"colorbar\": {\"outlinewidth\": 0, \"ticks\": \"\"}, \"colorscale\": [[0.0, \"#0d0887\"], [0.1111111111111111, \"#46039f\"], [0.2222222222222222, \"#7201a8\"], [0.3333333333333333, \"#9c179e\"], [0.4444444444444444, \"#bd3786\"], [0.5555555555555556, \"#d8576b\"], [0.6666666666666666, \"#ed7953\"], [0.7777777777777778, \"#fb9f3a\"], [0.8888888888888888, \"#fdca26\"], [1.0, \"#f0f921\"]], \"type\": \"surface\"}], \"table\": [{\"cells\": {\"fill\": {\"color\": \"#EBF0F8\"}, \"line\": {\"color\": \"white\"}}, \"header\": {\"fill\": {\"color\": \"#C8D4E3\"}, \"line\": {\"color\": \"white\"}}, \"type\": \"table\"}]}, \"layout\": {\"annotationdefaults\": {\"arrowcolor\": \"#2a3f5f\", \"arrowhead\": 0, \"arrowwidth\": 1}, \"autotypenumbers\": \"strict\", \"coloraxis\": {\"colorbar\": {\"outlinewidth\": 0, \"ticks\": \"\"}}, \"colorscale\": {\"diverging\": [[0, \"#8e0152\"], [0.1, \"#c51b7d\"], [0.2, \"#de77ae\"], [0.3, \"#f1b6da\"], [0.4, \"#fde0ef\"], [0.5, \"#f7f7f7\"], [0.6, \"#e6f5d0\"], [0.7, \"#b8e186\"], [0.8, \"#7fbc41\"], [0.9, \"#4d9221\"], [1, \"#276419\"]], \"sequential\": [[0.0, \"#0d0887\"], [0.1111111111111111, \"#46039f\"], [0.2222222222222222, \"#7201a8\"], [0.3333333333333333, \"#9c179e\"], [0.4444444444444444, \"#bd3786\"], [0.5555555555555556, \"#d8576b\"], [0.6666666666666666, \"#ed7953\"], [0.7777777777777778, \"#fb9f3a\"], [0.8888888888888888, \"#fdca26\"], [1.0, \"#f0f921\"]], \"sequentialminus\": [[0.0, \"#0d0887\"], [0.1111111111111111, \"#46039f\"], [0.2222222222222222, \"#7201a8\"], [0.3333333333333333, \"#9c179e\"], [0.4444444444444444, \"#bd3786\"], [0.5555555555555556, \"#d8576b\"], [0.6666666666666666, \"#ed7953\"], [0.7777777777777778, \"#fb9f3a\"], [0.8888888888888888, \"#fdca26\"], [1.0, \"#f0f921\"]]}, \"colorway\": [\"#636efa\", \"#EF553B\", \"#00cc96\", \"#ab63fa\", \"#FFA15A\", \"#19d3f3\", \"#FF6692\", \"#B6E880\", \"#FF97FF\", \"#FECB52\"], \"font\": {\"color\": \"#2a3f5f\"}, \"geo\": {\"bgcolor\": \"white\", \"lakecolor\": \"white\", \"landcolor\": \"#E5ECF6\", \"showlakes\": true, \"showland\": true, \"subunitcolor\": \"white\"}, \"hoverlabel\": {\"align\": \"left\"}, \"hovermode\": \"closest\", \"mapbox\": {\"style\": \"light\"}, \"paper_bgcolor\": \"white\", \"plot_bgcolor\": \"#E5ECF6\", \"polar\": {\"angularaxis\": {\"gridcolor\": \"white\", \"linecolor\": \"white\", \"ticks\": \"\"}, \"bgcolor\": \"#E5ECF6\", \"radialaxis\": {\"gridcolor\": \"white\", \"linecolor\": \"white\", \"ticks\": \"\"}}, \"scene\": {\"xaxis\": {\"backgroundcolor\": \"#E5ECF6\", \"gridcolor\": \"white\", \"gridwidth\": 2, \"linecolor\": \"white\", \"showbackground\": true, \"ticks\": \"\", \"zerolinecolor\": \"white\"}, \"yaxis\": {\"backgroundcolor\": \"#E5ECF6\", \"gridcolor\": \"white\", \"gridwidth\": 2, \"linecolor\": \"white\", \"showbackground\": true, \"ticks\": \"\", \"zerolinecolor\": \"white\"}, \"zaxis\": {\"backgroundcolor\": \"#E5ECF6\", \"gridcolor\": \"white\", \"gridwidth\": 2, \"linecolor\": \"white\", \"showbackground\": true, \"ticks\": \"\", \"zerolinecolor\": \"white\"}}, \"shapedefaults\": {\"line\": {\"color\": \"#2a3f5f\"}}, \"ternary\": {\"aaxis\": {\"gridcolor\": \"white\", \"linecolor\": \"white\", \"ticks\": \"\"}, \"baxis\": {\"gridcolor\": \"white\", \"linecolor\": \"white\", \"ticks\": \"\"}, \"bgcolor\": \"#E5ECF6\", \"caxis\": {\"gridcolor\": \"white\", \"linecolor\": \"white\", \"ticks\": \"\"}}, \"title\": {\"x\": 0.05}, \"xaxis\": {\"automargin\": true, \"gridcolor\": \"white\", \"linecolor\": \"white\", \"ticks\": \"\", \"title\": {\"standoff\": 15}, \"zerolinecolor\": \"white\", \"zerolinewidth\": 2}, \"yaxis\": {\"automargin\": true, \"gridcolor\": \"white\", \"linecolor\": \"white\", \"ticks\": \"\", \"title\": {\"standoff\": 15}, \"zerolinecolor\": \"white\", \"zerolinewidth\": 2}}}, \"title\": {\"font\": {\"color\": \"#4D5663\"}}, \"xaxis\": {\"gridcolor\": \"#E1E5ED\", \"showgrid\": true, \"tickfont\": {\"color\": \"#4D5663\"}, \"title\": {\"font\": {\"color\": \"#4D5663\"}, \"text\": \"\"}, \"zerolinecolor\": \"#E1E5ED\"}, \"yaxis\": {\"gridcolor\": \"#E1E5ED\", \"showgrid\": true, \"tickfont\": {\"color\": \"#4D5663\"}, \"title\": {\"font\": {\"color\": \"#4D5663\"}, \"text\": \"\"}, \"zerolinecolor\": \"#E1E5ED\"}},                        {\"showLink\": true, \"linkText\": \"Export to plot.ly\", \"plotlyServerURL\": \"https://plot.ly\", \"responsive\": true}                    ).then(function(){\n",
       "                            \n",
       "var gd = document.getElementById('79aaf54b-92e0-4fb0-afa2-dcad521c2081');\n",
       "var x = new MutationObserver(function (mutations, observer) {{\n",
       "        var display = window.getComputedStyle(gd).display;\n",
       "        if (!display || display === 'none') {{\n",
       "            console.log([gd, 'removed!']);\n",
       "            Plotly.purge(gd);\n",
       "            observer.disconnect();\n",
       "        }}\n",
       "}});\n",
       "\n",
       "// Listen for the removal of the full notebook cells\n",
       "var notebookContainer = gd.closest('#notebook-container');\n",
       "if (notebookContainer) {{\n",
       "    x.observe(notebookContainer, {childList: true});\n",
       "}}\n",
       "\n",
       "// Listen for the clearing of the current output cell\n",
       "var outputEl = gd.closest('.output');\n",
       "if (outputEl) {{\n",
       "    x.observe(outputEl, {childList: true});\n",
       "}}\n",
       "\n",
       "                        })                };                });            </script>        </div>"
      ]
     },
     "metadata": {},
     "output_type": "display_data"
    }
   ],
   "source": [
    "Recovered.iplot(kind ='bar',x='ObservationDate',y='Recovered')"
   ]
  },
  {
   "cell_type": "code",
   "execution_count": 14,
   "metadata": {},
   "outputs": [],
   "source": [
    "confirmed.columns = ['ds','y']"
   ]
  },
  {
   "cell_type": "code",
   "execution_count": 15,
   "metadata": {},
   "outputs": [
    {
     "data": {
      "text/html": [
       "<div>\n",
       "<style scoped>\n",
       "    .dataframe tbody tr th:only-of-type {\n",
       "        vertical-align: middle;\n",
       "    }\n",
       "\n",
       "    .dataframe tbody tr th {\n",
       "        vertical-align: top;\n",
       "    }\n",
       "\n",
       "    .dataframe thead th {\n",
       "        text-align: right;\n",
       "    }\n",
       "</style>\n",
       "<table border=\"1\" class=\"dataframe\">\n",
       "  <thead>\n",
       "    <tr style=\"text-align: right;\">\n",
       "      <th></th>\n",
       "      <th>ds</th>\n",
       "      <th>y</th>\n",
       "    </tr>\n",
       "  </thead>\n",
       "  <tbody>\n",
       "    <tr>\n",
       "      <th>0</th>\n",
       "      <td>2020-01-22</td>\n",
       "      <td>555.0</td>\n",
       "    </tr>\n",
       "    <tr>\n",
       "      <th>1</th>\n",
       "      <td>2020-01-23</td>\n",
       "      <td>653.0</td>\n",
       "    </tr>\n",
       "    <tr>\n",
       "      <th>2</th>\n",
       "      <td>2020-01-24</td>\n",
       "      <td>941.0</td>\n",
       "    </tr>\n",
       "    <tr>\n",
       "      <th>3</th>\n",
       "      <td>2020-01-25</td>\n",
       "      <td>1438.0</td>\n",
       "    </tr>\n",
       "    <tr>\n",
       "      <th>4</th>\n",
       "      <td>2020-01-26</td>\n",
       "      <td>2118.0</td>\n",
       "    </tr>\n",
       "    <tr>\n",
       "      <th>...</th>\n",
       "      <td>...</td>\n",
       "      <td>...</td>\n",
       "    </tr>\n",
       "    <tr>\n",
       "      <th>315</th>\n",
       "      <td>2020-12-02</td>\n",
       "      <td>64530517.0</td>\n",
       "    </tr>\n",
       "    <tr>\n",
       "      <th>316</th>\n",
       "      <td>2020-12-03</td>\n",
       "      <td>65221040.0</td>\n",
       "    </tr>\n",
       "    <tr>\n",
       "      <th>317</th>\n",
       "      <td>2020-12-04</td>\n",
       "      <td>65899441.0</td>\n",
       "    </tr>\n",
       "    <tr>\n",
       "      <th>318</th>\n",
       "      <td>2020-12-05</td>\n",
       "      <td>66540034.0</td>\n",
       "    </tr>\n",
       "    <tr>\n",
       "      <th>319</th>\n",
       "      <td>2020-12-06</td>\n",
       "      <td>67073728.0</td>\n",
       "    </tr>\n",
       "  </tbody>\n",
       "</table>\n",
       "<p>320 rows × 2 columns</p>\n",
       "</div>"
      ],
      "text/plain": [
       "            ds           y\n",
       "0   2020-01-22       555.0\n",
       "1   2020-01-23       653.0\n",
       "2   2020-01-24       941.0\n",
       "3   2020-01-25      1438.0\n",
       "4   2020-01-26      2118.0\n",
       "..         ...         ...\n",
       "315 2020-12-02  64530517.0\n",
       "316 2020-12-03  65221040.0\n",
       "317 2020-12-04  65899441.0\n",
       "318 2020-12-05  66540034.0\n",
       "319 2020-12-06  67073728.0\n",
       "\n",
       "[320 rows x 2 columns]"
      ]
     },
     "execution_count": 15,
     "metadata": {},
     "output_type": "execute_result"
    }
   ],
   "source": [
    "confirmed['ds']= pd.to_datetime(confirmed['ds'])\n",
    "confirmed"
   ]
  },
  {
   "cell_type": "code",
   "execution_count": 16,
   "metadata": {},
   "outputs": [
    {
     "name": "stderr",
     "output_type": "stream",
     "text": [
      "INFO:fbprophet:Disabling yearly seasonality. Run prophet with yearly_seasonality=True to override this.\n",
      "INFO:fbprophet:Disabling daily seasonality. Run prophet with daily_seasonality=True to override this.\n"
     ]
    },
    {
     "data": {
      "text/plain": [
       "<fbprophet.forecaster.Prophet at 0x260a65ff588>"
      ]
     },
     "execution_count": 16,
     "metadata": {},
     "output_type": "execute_result"
    }
   ],
   "source": [
    "model = Prophet() \n",
    "model.fit(confirmed)"
   ]
  },
  {
   "cell_type": "code",
   "execution_count": 17,
   "metadata": {},
   "outputs": [],
   "source": [
    "future = model.make_future_dataframe(periods=120)"
   ]
  },
  {
   "cell_type": "code",
   "execution_count": 18,
   "metadata": {},
   "outputs": [
    {
     "data": {
      "text/html": [
       "<div>\n",
       "<style scoped>\n",
       "    .dataframe tbody tr th:only-of-type {\n",
       "        vertical-align: middle;\n",
       "    }\n",
       "\n",
       "    .dataframe tbody tr th {\n",
       "        vertical-align: top;\n",
       "    }\n",
       "\n",
       "    .dataframe thead th {\n",
       "        text-align: right;\n",
       "    }\n",
       "</style>\n",
       "<table border=\"1\" class=\"dataframe\">\n",
       "  <thead>\n",
       "    <tr style=\"text-align: right;\">\n",
       "      <th></th>\n",
       "      <th>ds</th>\n",
       "      <th>trend</th>\n",
       "      <th>yhat_lower</th>\n",
       "      <th>yhat_upper</th>\n",
       "      <th>trend_lower</th>\n",
       "      <th>trend_upper</th>\n",
       "      <th>additive_terms</th>\n",
       "      <th>additive_terms_lower</th>\n",
       "      <th>additive_terms_upper</th>\n",
       "      <th>weekly</th>\n",
       "      <th>weekly_lower</th>\n",
       "      <th>weekly_upper</th>\n",
       "      <th>multiplicative_terms</th>\n",
       "      <th>multiplicative_terms_lower</th>\n",
       "      <th>multiplicative_terms_upper</th>\n",
       "      <th>yhat</th>\n",
       "    </tr>\n",
       "  </thead>\n",
       "  <tbody>\n",
       "    <tr>\n",
       "      <th>0</th>\n",
       "      <td>2020-01-22</td>\n",
       "      <td>-4.363278e+04</td>\n",
       "      <td>-6.247620e+05</td>\n",
       "      <td>4.788030e+05</td>\n",
       "      <td>-4.363278e+04</td>\n",
       "      <td>-4.363278e+04</td>\n",
       "      <td>-19373.224903</td>\n",
       "      <td>-19373.224903</td>\n",
       "      <td>-19373.224903</td>\n",
       "      <td>-19373.224903</td>\n",
       "      <td>-19373.224903</td>\n",
       "      <td>-19373.224903</td>\n",
       "      <td>0.0</td>\n",
       "      <td>0.0</td>\n",
       "      <td>0.0</td>\n",
       "      <td>-6.300601e+04</td>\n",
       "    </tr>\n",
       "    <tr>\n",
       "      <th>1</th>\n",
       "      <td>2020-01-23</td>\n",
       "      <td>-3.980426e+04</td>\n",
       "      <td>-6.295525e+05</td>\n",
       "      <td>5.261043e+05</td>\n",
       "      <td>-3.980426e+04</td>\n",
       "      <td>-3.980426e+04</td>\n",
       "      <td>4472.161238</td>\n",
       "      <td>4472.161238</td>\n",
       "      <td>4472.161238</td>\n",
       "      <td>4472.161238</td>\n",
       "      <td>4472.161238</td>\n",
       "      <td>4472.161238</td>\n",
       "      <td>0.0</td>\n",
       "      <td>0.0</td>\n",
       "      <td>0.0</td>\n",
       "      <td>-3.533210e+04</td>\n",
       "    </tr>\n",
       "    <tr>\n",
       "      <th>2</th>\n",
       "      <td>2020-01-24</td>\n",
       "      <td>-3.597574e+04</td>\n",
       "      <td>-5.718956e+05</td>\n",
       "      <td>5.440861e+05</td>\n",
       "      <td>-3.597574e+04</td>\n",
       "      <td>-3.597574e+04</td>\n",
       "      <td>36869.399029</td>\n",
       "      <td>36869.399029</td>\n",
       "      <td>36869.399029</td>\n",
       "      <td>36869.399029</td>\n",
       "      <td>36869.399029</td>\n",
       "      <td>36869.399029</td>\n",
       "      <td>0.0</td>\n",
       "      <td>0.0</td>\n",
       "      <td>0.0</td>\n",
       "      <td>8.936565e+02</td>\n",
       "    </tr>\n",
       "    <tr>\n",
       "      <th>3</th>\n",
       "      <td>2020-01-25</td>\n",
       "      <td>-3.214722e+04</td>\n",
       "      <td>-5.902045e+05</td>\n",
       "      <td>6.074275e+05</td>\n",
       "      <td>-3.214722e+04</td>\n",
       "      <td>-3.214722e+04</td>\n",
       "      <td>42297.285330</td>\n",
       "      <td>42297.285330</td>\n",
       "      <td>42297.285330</td>\n",
       "      <td>42297.285330</td>\n",
       "      <td>42297.285330</td>\n",
       "      <td>42297.285330</td>\n",
       "      <td>0.0</td>\n",
       "      <td>0.0</td>\n",
       "      <td>0.0</td>\n",
       "      <td>1.015006e+04</td>\n",
       "    </tr>\n",
       "    <tr>\n",
       "      <th>4</th>\n",
       "      <td>2020-01-26</td>\n",
       "      <td>-2.831870e+04</td>\n",
       "      <td>-5.587104e+05</td>\n",
       "      <td>6.163308e+05</td>\n",
       "      <td>-2.831870e+04</td>\n",
       "      <td>-2.831870e+04</td>\n",
       "      <td>16366.251624</td>\n",
       "      <td>16366.251624</td>\n",
       "      <td>16366.251624</td>\n",
       "      <td>16366.251624</td>\n",
       "      <td>16366.251624</td>\n",
       "      <td>16366.251624</td>\n",
       "      <td>0.0</td>\n",
       "      <td>0.0</td>\n",
       "      <td>0.0</td>\n",
       "      <td>-1.195245e+04</td>\n",
       "    </tr>\n",
       "    <tr>\n",
       "      <th>...</th>\n",
       "      <td>...</td>\n",
       "      <td>...</td>\n",
       "      <td>...</td>\n",
       "      <td>...</td>\n",
       "      <td>...</td>\n",
       "      <td>...</td>\n",
       "      <td>...</td>\n",
       "      <td>...</td>\n",
       "      <td>...</td>\n",
       "      <td>...</td>\n",
       "      <td>...</td>\n",
       "      <td>...</td>\n",
       "      <td>...</td>\n",
       "      <td>...</td>\n",
       "      <td>...</td>\n",
       "      <td>...</td>\n",
       "    </tr>\n",
       "    <tr>\n",
       "      <th>435</th>\n",
       "      <td>2021-04-01</td>\n",
       "      <td>1.234178e+08</td>\n",
       "      <td>1.135949e+08</td>\n",
       "      <td>1.330742e+08</td>\n",
       "      <td>1.137543e+08</td>\n",
       "      <td>1.328711e+08</td>\n",
       "      <td>4472.161238</td>\n",
       "      <td>4472.161238</td>\n",
       "      <td>4472.161238</td>\n",
       "      <td>4472.161238</td>\n",
       "      <td>4472.161238</td>\n",
       "      <td>4472.161238</td>\n",
       "      <td>0.0</td>\n",
       "      <td>0.0</td>\n",
       "      <td>0.0</td>\n",
       "      <td>1.234223e+08</td>\n",
       "    </tr>\n",
       "    <tr>\n",
       "      <th>436</th>\n",
       "      <td>2021-04-02</td>\n",
       "      <td>1.239181e+08</td>\n",
       "      <td>1.142528e+08</td>\n",
       "      <td>1.335337e+08</td>\n",
       "      <td>1.141134e+08</td>\n",
       "      <td>1.334865e+08</td>\n",
       "      <td>36869.399029</td>\n",
       "      <td>36869.399029</td>\n",
       "      <td>36869.399029</td>\n",
       "      <td>36869.399029</td>\n",
       "      <td>36869.399029</td>\n",
       "      <td>36869.399029</td>\n",
       "      <td>0.0</td>\n",
       "      <td>0.0</td>\n",
       "      <td>0.0</td>\n",
       "      <td>1.239550e+08</td>\n",
       "    </tr>\n",
       "    <tr>\n",
       "      <th>437</th>\n",
       "      <td>2021-04-03</td>\n",
       "      <td>1.244184e+08</td>\n",
       "      <td>1.144976e+08</td>\n",
       "      <td>1.341858e+08</td>\n",
       "      <td>1.144738e+08</td>\n",
       "      <td>1.341514e+08</td>\n",
       "      <td>42297.285330</td>\n",
       "      <td>42297.285330</td>\n",
       "      <td>42297.285330</td>\n",
       "      <td>42297.285330</td>\n",
       "      <td>42297.285330</td>\n",
       "      <td>42297.285330</td>\n",
       "      <td>0.0</td>\n",
       "      <td>0.0</td>\n",
       "      <td>0.0</td>\n",
       "      <td>1.244607e+08</td>\n",
       "    </tr>\n",
       "    <tr>\n",
       "      <th>438</th>\n",
       "      <td>2021-04-04</td>\n",
       "      <td>1.249187e+08</td>\n",
       "      <td>1.149285e+08</td>\n",
       "      <td>1.349002e+08</td>\n",
       "      <td>1.148420e+08</td>\n",
       "      <td>1.347470e+08</td>\n",
       "      <td>16366.251624</td>\n",
       "      <td>16366.251624</td>\n",
       "      <td>16366.251624</td>\n",
       "      <td>16366.251624</td>\n",
       "      <td>16366.251624</td>\n",
       "      <td>16366.251624</td>\n",
       "      <td>0.0</td>\n",
       "      <td>0.0</td>\n",
       "      <td>0.0</td>\n",
       "      <td>1.249351e+08</td>\n",
       "    </tr>\n",
       "    <tr>\n",
       "      <th>439</th>\n",
       "      <td>2021-04-05</td>\n",
       "      <td>1.254190e+08</td>\n",
       "      <td>1.152070e+08</td>\n",
       "      <td>1.354784e+08</td>\n",
       "      <td>1.151617e+08</td>\n",
       "      <td>1.353510e+08</td>\n",
       "      <td>-39479.839970</td>\n",
       "      <td>-39479.839970</td>\n",
       "      <td>-39479.839970</td>\n",
       "      <td>-39479.839970</td>\n",
       "      <td>-39479.839970</td>\n",
       "      <td>-39479.839970</td>\n",
       "      <td>0.0</td>\n",
       "      <td>0.0</td>\n",
       "      <td>0.0</td>\n",
       "      <td>1.253795e+08</td>\n",
       "    </tr>\n",
       "  </tbody>\n",
       "</table>\n",
       "<p>440 rows × 16 columns</p>\n",
       "</div>"
      ],
      "text/plain": [
       "            ds         trend    yhat_lower    yhat_upper   trend_lower  \\\n",
       "0   2020-01-22 -4.363278e+04 -6.247620e+05  4.788030e+05 -4.363278e+04   \n",
       "1   2020-01-23 -3.980426e+04 -6.295525e+05  5.261043e+05 -3.980426e+04   \n",
       "2   2020-01-24 -3.597574e+04 -5.718956e+05  5.440861e+05 -3.597574e+04   \n",
       "3   2020-01-25 -3.214722e+04 -5.902045e+05  6.074275e+05 -3.214722e+04   \n",
       "4   2020-01-26 -2.831870e+04 -5.587104e+05  6.163308e+05 -2.831870e+04   \n",
       "..         ...           ...           ...           ...           ...   \n",
       "435 2021-04-01  1.234178e+08  1.135949e+08  1.330742e+08  1.137543e+08   \n",
       "436 2021-04-02  1.239181e+08  1.142528e+08  1.335337e+08  1.141134e+08   \n",
       "437 2021-04-03  1.244184e+08  1.144976e+08  1.341858e+08  1.144738e+08   \n",
       "438 2021-04-04  1.249187e+08  1.149285e+08  1.349002e+08  1.148420e+08   \n",
       "439 2021-04-05  1.254190e+08  1.152070e+08  1.354784e+08  1.151617e+08   \n",
       "\n",
       "      trend_upper  additive_terms  additive_terms_lower  additive_terms_upper  \\\n",
       "0   -4.363278e+04   -19373.224903         -19373.224903         -19373.224903   \n",
       "1   -3.980426e+04     4472.161238           4472.161238           4472.161238   \n",
       "2   -3.597574e+04    36869.399029          36869.399029          36869.399029   \n",
       "3   -3.214722e+04    42297.285330          42297.285330          42297.285330   \n",
       "4   -2.831870e+04    16366.251624          16366.251624          16366.251624   \n",
       "..            ...             ...                   ...                   ...   \n",
       "435  1.328711e+08     4472.161238           4472.161238           4472.161238   \n",
       "436  1.334865e+08    36869.399029          36869.399029          36869.399029   \n",
       "437  1.341514e+08    42297.285330          42297.285330          42297.285330   \n",
       "438  1.347470e+08    16366.251624          16366.251624          16366.251624   \n",
       "439  1.353510e+08   -39479.839970         -39479.839970         -39479.839970   \n",
       "\n",
       "           weekly  weekly_lower  weekly_upper  multiplicative_terms  \\\n",
       "0   -19373.224903 -19373.224903 -19373.224903                   0.0   \n",
       "1     4472.161238   4472.161238   4472.161238                   0.0   \n",
       "2    36869.399029  36869.399029  36869.399029                   0.0   \n",
       "3    42297.285330  42297.285330  42297.285330                   0.0   \n",
       "4    16366.251624  16366.251624  16366.251624                   0.0   \n",
       "..            ...           ...           ...                   ...   \n",
       "435   4472.161238   4472.161238   4472.161238                   0.0   \n",
       "436  36869.399029  36869.399029  36869.399029                   0.0   \n",
       "437  42297.285330  42297.285330  42297.285330                   0.0   \n",
       "438  16366.251624  16366.251624  16366.251624                   0.0   \n",
       "439 -39479.839970 -39479.839970 -39479.839970                   0.0   \n",
       "\n",
       "     multiplicative_terms_lower  multiplicative_terms_upper          yhat  \n",
       "0                           0.0                         0.0 -6.300601e+04  \n",
       "1                           0.0                         0.0 -3.533210e+04  \n",
       "2                           0.0                         0.0  8.936565e+02  \n",
       "3                           0.0                         0.0  1.015006e+04  \n",
       "4                           0.0                         0.0 -1.195245e+04  \n",
       "..                          ...                         ...           ...  \n",
       "435                         0.0                         0.0  1.234223e+08  \n",
       "436                         0.0                         0.0  1.239550e+08  \n",
       "437                         0.0                         0.0  1.244607e+08  \n",
       "438                         0.0                         0.0  1.249351e+08  \n",
       "439                         0.0                         0.0  1.253795e+08  \n",
       "\n",
       "[440 rows x 16 columns]"
      ]
     },
     "execution_count": 18,
     "metadata": {},
     "output_type": "execute_result"
    }
   ],
   "source": [
    "forecast = model.predict(future)\n",
    "forecast"
   ]
  },
  {
   "cell_type": "code",
   "execution_count": 19,
   "metadata": {},
   "outputs": [
    {
     "data": {
      "text/html": [
       "<div>\n",
       "<style scoped>\n",
       "    .dataframe tbody tr th:only-of-type {\n",
       "        vertical-align: middle;\n",
       "    }\n",
       "\n",
       "    .dataframe tbody tr th {\n",
       "        vertical-align: top;\n",
       "    }\n",
       "\n",
       "    .dataframe thead th {\n",
       "        text-align: right;\n",
       "    }\n",
       "</style>\n",
       "<table border=\"1\" class=\"dataframe\">\n",
       "  <thead>\n",
       "    <tr style=\"text-align: right;\">\n",
       "      <th></th>\n",
       "      <th>ds</th>\n",
       "      <th>yhat</th>\n",
       "      <th>yhat_lower</th>\n",
       "      <th>yhat_upper</th>\n",
       "    </tr>\n",
       "  </thead>\n",
       "  <tbody>\n",
       "    <tr>\n",
       "      <th>0</th>\n",
       "      <td>2020-01-22</td>\n",
       "      <td>-6.300601e+04</td>\n",
       "      <td>-6.247620e+05</td>\n",
       "      <td>4.788030e+05</td>\n",
       "    </tr>\n",
       "    <tr>\n",
       "      <th>1</th>\n",
       "      <td>2020-01-23</td>\n",
       "      <td>-3.533210e+04</td>\n",
       "      <td>-6.295525e+05</td>\n",
       "      <td>5.261043e+05</td>\n",
       "    </tr>\n",
       "    <tr>\n",
       "      <th>2</th>\n",
       "      <td>2020-01-24</td>\n",
       "      <td>8.936565e+02</td>\n",
       "      <td>-5.718956e+05</td>\n",
       "      <td>5.440861e+05</td>\n",
       "    </tr>\n",
       "    <tr>\n",
       "      <th>3</th>\n",
       "      <td>2020-01-25</td>\n",
       "      <td>1.015006e+04</td>\n",
       "      <td>-5.902045e+05</td>\n",
       "      <td>6.074275e+05</td>\n",
       "    </tr>\n",
       "    <tr>\n",
       "      <th>4</th>\n",
       "      <td>2020-01-26</td>\n",
       "      <td>-1.195245e+04</td>\n",
       "      <td>-5.587104e+05</td>\n",
       "      <td>6.163308e+05</td>\n",
       "    </tr>\n",
       "    <tr>\n",
       "      <th>...</th>\n",
       "      <td>...</td>\n",
       "      <td>...</td>\n",
       "      <td>...</td>\n",
       "      <td>...</td>\n",
       "    </tr>\n",
       "    <tr>\n",
       "      <th>435</th>\n",
       "      <td>2021-04-01</td>\n",
       "      <td>1.234223e+08</td>\n",
       "      <td>1.135949e+08</td>\n",
       "      <td>1.330742e+08</td>\n",
       "    </tr>\n",
       "    <tr>\n",
       "      <th>436</th>\n",
       "      <td>2021-04-02</td>\n",
       "      <td>1.239550e+08</td>\n",
       "      <td>1.142528e+08</td>\n",
       "      <td>1.335337e+08</td>\n",
       "    </tr>\n",
       "    <tr>\n",
       "      <th>437</th>\n",
       "      <td>2021-04-03</td>\n",
       "      <td>1.244607e+08</td>\n",
       "      <td>1.144976e+08</td>\n",
       "      <td>1.341858e+08</td>\n",
       "    </tr>\n",
       "    <tr>\n",
       "      <th>438</th>\n",
       "      <td>2021-04-04</td>\n",
       "      <td>1.249351e+08</td>\n",
       "      <td>1.149285e+08</td>\n",
       "      <td>1.349002e+08</td>\n",
       "    </tr>\n",
       "    <tr>\n",
       "      <th>439</th>\n",
       "      <td>2021-04-05</td>\n",
       "      <td>1.253795e+08</td>\n",
       "      <td>1.152070e+08</td>\n",
       "      <td>1.354784e+08</td>\n",
       "    </tr>\n",
       "  </tbody>\n",
       "</table>\n",
       "<p>440 rows × 4 columns</p>\n",
       "</div>"
      ],
      "text/plain": [
       "            ds          yhat    yhat_lower    yhat_upper\n",
       "0   2020-01-22 -6.300601e+04 -6.247620e+05  4.788030e+05\n",
       "1   2020-01-23 -3.533210e+04 -6.295525e+05  5.261043e+05\n",
       "2   2020-01-24  8.936565e+02 -5.718956e+05  5.440861e+05\n",
       "3   2020-01-25  1.015006e+04 -5.902045e+05  6.074275e+05\n",
       "4   2020-01-26 -1.195245e+04 -5.587104e+05  6.163308e+05\n",
       "..         ...           ...           ...           ...\n",
       "435 2021-04-01  1.234223e+08  1.135949e+08  1.330742e+08\n",
       "436 2021-04-02  1.239550e+08  1.142528e+08  1.335337e+08\n",
       "437 2021-04-03  1.244607e+08  1.144976e+08  1.341858e+08\n",
       "438 2021-04-04  1.249351e+08  1.149285e+08  1.349002e+08\n",
       "439 2021-04-05  1.253795e+08  1.152070e+08  1.354784e+08\n",
       "\n",
       "[440 rows x 4 columns]"
      ]
     },
     "execution_count": 19,
     "metadata": {},
     "output_type": "execute_result"
    }
   ],
   "source": [
    "forecast[['ds','yhat','yhat_lower','yhat_upper']]"
   ]
  },
  {
   "cell_type": "code",
   "execution_count": 20,
   "metadata": {},
   "outputs": [
    {
     "data": {
      "image/png": "[encoded data removed]",
      "text/plain": [
       "<Figure size 720x432 with 1 Axes>"
      ]
     },
     "metadata": {},
     "output_type": "display_data"
    }
   ],
   "source": [
    "confirmed_cases = model.plot(forecast)"
   ]
  },
  {
   "cell_type": "code",
   "execution_count": 21,
   "metadata": {},
   "outputs": [],
   "source": [
    "Deaths.columns = ['ds','y']"
   ]
  },
  {
   "cell_type": "code",
   "execution_count": 22,
   "metadata": {},
   "outputs": [
    {
     "data": {
      "text/html": [
       "<div>\n",
       "<style scoped>\n",
       "    .dataframe tbody tr th:only-of-type {\n",
       "        vertical-align: middle;\n",
       "    }\n",
       "\n",
       "    .dataframe tbody tr th {\n",
       "        vertical-align: top;\n",
       "    }\n",
       "\n",
       "    .dataframe thead th {\n",
       "        text-align: right;\n",
       "    }\n",
       "</style>\n",
       "<table border=\"1\" class=\"dataframe\">\n",
       "  <thead>\n",
       "    <tr style=\"text-align: right;\">\n",
       "      <th></th>\n",
       "      <th>ds</th>\n",
       "      <th>y</th>\n",
       "    </tr>\n",
       "  </thead>\n",
       "  <tbody>\n",
       "    <tr>\n",
       "      <th>0</th>\n",
       "      <td>2020-01-22</td>\n",
       "      <td>17.0</td>\n",
       "    </tr>\n",
       "    <tr>\n",
       "      <th>1</th>\n",
       "      <td>2020-01-23</td>\n",
       "      <td>18.0</td>\n",
       "    </tr>\n",
       "    <tr>\n",
       "      <th>2</th>\n",
       "      <td>2020-01-24</td>\n",
       "      <td>26.0</td>\n",
       "    </tr>\n",
       "    <tr>\n",
       "      <th>3</th>\n",
       "      <td>2020-01-25</td>\n",
       "      <td>42.0</td>\n",
       "    </tr>\n",
       "    <tr>\n",
       "      <th>4</th>\n",
       "      <td>2020-01-26</td>\n",
       "      <td>56.0</td>\n",
       "    </tr>\n",
       "    <tr>\n",
       "      <th>...</th>\n",
       "      <td>...</td>\n",
       "      <td>...</td>\n",
       "    </tr>\n",
       "    <tr>\n",
       "      <th>315</th>\n",
       "      <td>2020-12-02</td>\n",
       "      <td>1493742.0</td>\n",
       "    </tr>\n",
       "    <tr>\n",
       "      <th>316</th>\n",
       "      <td>2020-12-03</td>\n",
       "      <td>1506260.0</td>\n",
       "    </tr>\n",
       "    <tr>\n",
       "      <th>317</th>\n",
       "      <td>2020-12-04</td>\n",
       "      <td>1518670.0</td>\n",
       "    </tr>\n",
       "    <tr>\n",
       "      <th>318</th>\n",
       "      <td>2020-12-05</td>\n",
       "      <td>1528868.0</td>\n",
       "    </tr>\n",
       "    <tr>\n",
       "      <th>319</th>\n",
       "      <td>2020-12-06</td>\n",
       "      <td>1536056.0</td>\n",
       "    </tr>\n",
       "  </tbody>\n",
       "</table>\n",
       "<p>320 rows × 2 columns</p>\n",
       "</div>"
      ],
      "text/plain": [
       "            ds          y\n",
       "0   2020-01-22       17.0\n",
       "1   2020-01-23       18.0\n",
       "2   2020-01-24       26.0\n",
       "3   2020-01-25       42.0\n",
       "4   2020-01-26       56.0\n",
       "..         ...        ...\n",
       "315 2020-12-02  1493742.0\n",
       "316 2020-12-03  1506260.0\n",
       "317 2020-12-04  1518670.0\n",
       "318 2020-12-05  1528868.0\n",
       "319 2020-12-06  1536056.0\n",
       "\n",
       "[320 rows x 2 columns]"
      ]
     },
     "execution_count": 22,
     "metadata": {},
     "output_type": "execute_result"
    }
   ],
   "source": [
    "Deaths['ds']= pd.to_datetime(Deaths['ds'])\n",
    "Deaths"
   ]
  },
  {
   "cell_type": "code",
   "execution_count": 23,
   "metadata": {},
   "outputs": [
    {
     "name": "stderr",
     "output_type": "stream",
     "text": [
      "INFO:fbprophet:Disabling yearly seasonality. Run prophet with yearly_seasonality=True to override this.\n",
      "INFO:fbprophet:Disabling daily seasonality. Run prophet with daily_seasonality=True to override this.\n"
     ]
    },
    {
     "data": {
      "text/plain": [
       "<fbprophet.forecaster.Prophet at 0x260a12659c8>"
      ]
     },
     "execution_count": 23,
     "metadata": {},
     "output_type": "execute_result"
    }
   ],
   "source": [
    "model = Prophet() \n",
    "model.fit(Deaths)"
   ]
  },
  {
   "cell_type": "code",
   "execution_count": 24,
   "metadata": {},
   "outputs": [],
   "source": [
    "future = model.make_future_dataframe(periods=120)"
   ]
  },
  {
   "cell_type": "code",
   "execution_count": 25,
   "metadata": {},
   "outputs": [
    {
     "data": {
      "text/html": [
       "<div>\n",
       "<style scoped>\n",
       "    .dataframe tbody tr th:only-of-type {\n",
       "        vertical-align: middle;\n",
       "    }\n",
       "\n",
       "    .dataframe tbody tr th {\n",
       "        vertical-align: top;\n",
       "    }\n",
       "\n",
       "    .dataframe thead th {\n",
       "        text-align: right;\n",
       "    }\n",
       "</style>\n",
       "<table border=\"1\" class=\"dataframe\">\n",
       "  <thead>\n",
       "    <tr style=\"text-align: right;\">\n",
       "      <th></th>\n",
       "      <th>ds</th>\n",
       "      <th>trend</th>\n",
       "      <th>yhat_lower</th>\n",
       "      <th>yhat_upper</th>\n",
       "      <th>trend_lower</th>\n",
       "      <th>trend_upper</th>\n",
       "      <th>additive_terms</th>\n",
       "      <th>additive_terms_lower</th>\n",
       "      <th>additive_terms_upper</th>\n",
       "      <th>weekly</th>\n",
       "      <th>weekly_lower</th>\n",
       "      <th>weekly_upper</th>\n",
       "      <th>multiplicative_terms</th>\n",
       "      <th>multiplicative_terms_lower</th>\n",
       "      <th>multiplicative_terms_upper</th>\n",
       "      <th>yhat</th>\n",
       "    </tr>\n",
       "  </thead>\n",
       "  <tbody>\n",
       "    <tr>\n",
       "      <th>0</th>\n",
       "      <td>2020-01-22</td>\n",
       "      <td>-1.126672e+03</td>\n",
       "      <td>-1.272302e+04</td>\n",
       "      <td>1.056966e+04</td>\n",
       "      <td>-1.126672e+03</td>\n",
       "      <td>-1.126672e+03</td>\n",
       "      <td>-197.808865</td>\n",
       "      <td>-197.808865</td>\n",
       "      <td>-197.808865</td>\n",
       "      <td>-197.808865</td>\n",
       "      <td>-197.808865</td>\n",
       "      <td>-197.808865</td>\n",
       "      <td>0.0</td>\n",
       "      <td>0.0</td>\n",
       "      <td>0.0</td>\n",
       "      <td>-1.324481e+03</td>\n",
       "    </tr>\n",
       "    <tr>\n",
       "      <th>1</th>\n",
       "      <td>2020-01-23</td>\n",
       "      <td>-1.015716e+03</td>\n",
       "      <td>-1.371504e+04</td>\n",
       "      <td>1.171784e+04</td>\n",
       "      <td>-1.015716e+03</td>\n",
       "      <td>-1.015716e+03</td>\n",
       "      <td>648.650595</td>\n",
       "      <td>648.650595</td>\n",
       "      <td>648.650595</td>\n",
       "      <td>648.650595</td>\n",
       "      <td>648.650595</td>\n",
       "      <td>648.650595</td>\n",
       "      <td>0.0</td>\n",
       "      <td>0.0</td>\n",
       "      <td>0.0</td>\n",
       "      <td>-3.670654e+02</td>\n",
       "    </tr>\n",
       "    <tr>\n",
       "      <th>2</th>\n",
       "      <td>2020-01-24</td>\n",
       "      <td>-9.047596e+02</td>\n",
       "      <td>-1.238583e+04</td>\n",
       "      <td>1.287939e+04</td>\n",
       "      <td>-9.047596e+02</td>\n",
       "      <td>-9.047596e+02</td>\n",
       "      <td>1367.879932</td>\n",
       "      <td>1367.879932</td>\n",
       "      <td>1367.879932</td>\n",
       "      <td>1367.879932</td>\n",
       "      <td>1367.879932</td>\n",
       "      <td>1367.879932</td>\n",
       "      <td>0.0</td>\n",
       "      <td>0.0</td>\n",
       "      <td>0.0</td>\n",
       "      <td>4.631203e+02</td>\n",
       "    </tr>\n",
       "    <tr>\n",
       "      <th>3</th>\n",
       "      <td>2020-01-25</td>\n",
       "      <td>-7.938033e+02</td>\n",
       "      <td>-1.132758e+04</td>\n",
       "      <td>1.269215e+04</td>\n",
       "      <td>-7.938033e+02</td>\n",
       "      <td>-7.938033e+02</td>\n",
       "      <td>1229.328651</td>\n",
       "      <td>1229.328651</td>\n",
       "      <td>1229.328651</td>\n",
       "      <td>1229.328651</td>\n",
       "      <td>1229.328651</td>\n",
       "      <td>1229.328651</td>\n",
       "      <td>0.0</td>\n",
       "      <td>0.0</td>\n",
       "      <td>0.0</td>\n",
       "      <td>4.355254e+02</td>\n",
       "    </tr>\n",
       "    <tr>\n",
       "      <th>4</th>\n",
       "      <td>2020-01-26</td>\n",
       "      <td>-6.828469e+02</td>\n",
       "      <td>-1.250079e+04</td>\n",
       "      <td>1.152471e+04</td>\n",
       "      <td>-6.828469e+02</td>\n",
       "      <td>-6.828469e+02</td>\n",
       "      <td>-64.890284</td>\n",
       "      <td>-64.890284</td>\n",
       "      <td>-64.890284</td>\n",
       "      <td>-64.890284</td>\n",
       "      <td>-64.890284</td>\n",
       "      <td>-64.890284</td>\n",
       "      <td>0.0</td>\n",
       "      <td>0.0</td>\n",
       "      <td>0.0</td>\n",
       "      <td>-7.477372e+02</td>\n",
       "    </tr>\n",
       "    <tr>\n",
       "      <th>...</th>\n",
       "      <td>...</td>\n",
       "      <td>...</td>\n",
       "      <td>...</td>\n",
       "      <td>...</td>\n",
       "      <td>...</td>\n",
       "      <td>...</td>\n",
       "      <td>...</td>\n",
       "      <td>...</td>\n",
       "      <td>...</td>\n",
       "      <td>...</td>\n",
       "      <td>...</td>\n",
       "      <td>...</td>\n",
       "      <td>...</td>\n",
       "      <td>...</td>\n",
       "      <td>...</td>\n",
       "      <td>...</td>\n",
       "    </tr>\n",
       "    <tr>\n",
       "      <th>435</th>\n",
       "      <td>2021-04-01</td>\n",
       "      <td>2.372857e+06</td>\n",
       "      <td>2.169165e+06</td>\n",
       "      <td>2.568936e+06</td>\n",
       "      <td>2.170481e+06</td>\n",
       "      <td>2.567628e+06</td>\n",
       "      <td>648.650595</td>\n",
       "      <td>648.650595</td>\n",
       "      <td>648.650595</td>\n",
       "      <td>648.650595</td>\n",
       "      <td>648.650595</td>\n",
       "      <td>648.650595</td>\n",
       "      <td>0.0</td>\n",
       "      <td>0.0</td>\n",
       "      <td>0.0</td>\n",
       "      <td>2.373506e+06</td>\n",
       "    </tr>\n",
       "    <tr>\n",
       "      <th>436</th>\n",
       "      <td>2021-04-02</td>\n",
       "      <td>2.380434e+06</td>\n",
       "      <td>2.176596e+06</td>\n",
       "      <td>2.579039e+06</td>\n",
       "      <td>2.174505e+06</td>\n",
       "      <td>2.578337e+06</td>\n",
       "      <td>1367.879932</td>\n",
       "      <td>1367.879932</td>\n",
       "      <td>1367.879932</td>\n",
       "      <td>1367.879932</td>\n",
       "      <td>1367.879932</td>\n",
       "      <td>1367.879932</td>\n",
       "      <td>0.0</td>\n",
       "      <td>0.0</td>\n",
       "      <td>0.0</td>\n",
       "      <td>2.381802e+06</td>\n",
       "    </tr>\n",
       "    <tr>\n",
       "      <th>437</th>\n",
       "      <td>2021-04-03</td>\n",
       "      <td>2.388010e+06</td>\n",
       "      <td>2.179943e+06</td>\n",
       "      <td>2.593920e+06</td>\n",
       "      <td>2.180045e+06</td>\n",
       "      <td>2.589047e+06</td>\n",
       "      <td>1229.328651</td>\n",
       "      <td>1229.328651</td>\n",
       "      <td>1229.328651</td>\n",
       "      <td>1229.328651</td>\n",
       "      <td>1229.328651</td>\n",
       "      <td>1229.328651</td>\n",
       "      <td>0.0</td>\n",
       "      <td>0.0</td>\n",
       "      <td>0.0</td>\n",
       "      <td>2.389240e+06</td>\n",
       "    </tr>\n",
       "    <tr>\n",
       "      <th>438</th>\n",
       "      <td>2021-04-04</td>\n",
       "      <td>2.395587e+06</td>\n",
       "      <td>2.182681e+06</td>\n",
       "      <td>2.601639e+06</td>\n",
       "      <td>2.183679e+06</td>\n",
       "      <td>2.599619e+06</td>\n",
       "      <td>-64.890284</td>\n",
       "      <td>-64.890284</td>\n",
       "      <td>-64.890284</td>\n",
       "      <td>-64.890284</td>\n",
       "      <td>-64.890284</td>\n",
       "      <td>-64.890284</td>\n",
       "      <td>0.0</td>\n",
       "      <td>0.0</td>\n",
       "      <td>0.0</td>\n",
       "      <td>2.395522e+06</td>\n",
       "    </tr>\n",
       "    <tr>\n",
       "      <th>439</th>\n",
       "      <td>2021-04-05</td>\n",
       "      <td>2.403164e+06</td>\n",
       "      <td>2.182969e+06</td>\n",
       "      <td>2.611368e+06</td>\n",
       "      <td>2.188234e+06</td>\n",
       "      <td>2.610188e+06</td>\n",
       "      <td>-1838.102033</td>\n",
       "      <td>-1838.102033</td>\n",
       "      <td>-1838.102033</td>\n",
       "      <td>-1838.102033</td>\n",
       "      <td>-1838.102033</td>\n",
       "      <td>-1838.102033</td>\n",
       "      <td>0.0</td>\n",
       "      <td>0.0</td>\n",
       "      <td>0.0</td>\n",
       "      <td>2.401326e+06</td>\n",
       "    </tr>\n",
       "  </tbody>\n",
       "</table>\n",
       "<p>440 rows × 16 columns</p>\n",
       "</div>"
      ],
      "text/plain": [
       "            ds         trend    yhat_lower    yhat_upper   trend_lower  \\\n",
       "0   2020-01-22 -1.126672e+03 -1.272302e+04  1.056966e+04 -1.126672e+03   \n",
       "1   2020-01-23 -1.015716e+03 -1.371504e+04  1.171784e+04 -1.015716e+03   \n",
       "2   2020-01-24 -9.047596e+02 -1.238583e+04  1.287939e+04 -9.047596e+02   \n",
       "3   2020-01-25 -7.938033e+02 -1.132758e+04  1.269215e+04 -7.938033e+02   \n",
       "4   2020-01-26 -6.828469e+02 -1.250079e+04  1.152471e+04 -6.828469e+02   \n",
       "..         ...           ...           ...           ...           ...   \n",
       "435 2021-04-01  2.372857e+06  2.169165e+06  2.568936e+06  2.170481e+06   \n",
       "436 2021-04-02  2.380434e+06  2.176596e+06  2.579039e+06  2.174505e+06   \n",
       "437 2021-04-03  2.388010e+06  2.179943e+06  2.593920e+06  2.180045e+06   \n",
       "438 2021-04-04  2.395587e+06  2.182681e+06  2.601639e+06  2.183679e+06   \n",
       "439 2021-04-05  2.403164e+06  2.182969e+06  2.611368e+06  2.188234e+06   \n",
       "\n",
       "      trend_upper  additive_terms  additive_terms_lower  additive_terms_upper  \\\n",
       "0   -1.126672e+03     -197.808865           -197.808865           -197.808865   \n",
       "1   -1.015716e+03      648.650595            648.650595            648.650595   \n",
       "2   -9.047596e+02     1367.879932           1367.879932           1367.879932   \n",
       "3   -7.938033e+02     1229.328651           1229.328651           1229.328651   \n",
       "4   -6.828469e+02      -64.890284            -64.890284            -64.890284   \n",
       "..            ...             ...                   ...                   ...   \n",
       "435  2.567628e+06      648.650595            648.650595            648.650595   \n",
       "436  2.578337e+06     1367.879932           1367.879932           1367.879932   \n",
       "437  2.589047e+06     1229.328651           1229.328651           1229.328651   \n",
       "438  2.599619e+06      -64.890284            -64.890284            -64.890284   \n",
       "439  2.610188e+06    -1838.102033          -1838.102033          -1838.102033   \n",
       "\n",
       "          weekly  weekly_lower  weekly_upper  multiplicative_terms  \\\n",
       "0    -197.808865   -197.808865   -197.808865                   0.0   \n",
       "1     648.650595    648.650595    648.650595                   0.0   \n",
       "2    1367.879932   1367.879932   1367.879932                   0.0   \n",
       "3    1229.328651   1229.328651   1229.328651                   0.0   \n",
       "4     -64.890284    -64.890284    -64.890284                   0.0   \n",
       "..           ...           ...           ...                   ...   \n",
       "435   648.650595    648.650595    648.650595                   0.0   \n",
       "436  1367.879932   1367.879932   1367.879932                   0.0   \n",
       "437  1229.328651   1229.328651   1229.328651                   0.0   \n",
       "438   -64.890284    -64.890284    -64.890284                   0.0   \n",
       "439 -1838.102033  -1838.102033  -1838.102033                   0.0   \n",
       "\n",
       "     multiplicative_terms_lower  multiplicative_terms_upper          yhat  \n",
       "0                           0.0                         0.0 -1.324481e+03  \n",
       "1                           0.0                         0.0 -3.670654e+02  \n",
       "2                           0.0                         0.0  4.631203e+02  \n",
       "3                           0.0                         0.0  4.355254e+02  \n",
       "4                           0.0                         0.0 -7.477372e+02  \n",
       "..                          ...                         ...           ...  \n",
       "435                         0.0                         0.0  2.373506e+06  \n",
       "436                         0.0                         0.0  2.381802e+06  \n",
       "437                         0.0                         0.0  2.389240e+06  \n",
       "438                         0.0                         0.0  2.395522e+06  \n",
       "439                         0.0                         0.0  2.401326e+06  \n",
       "\n",
       "[440 rows x 16 columns]"
      ]
     },
     "execution_count": 25,
     "metadata": {},
     "output_type": "execute_result"
    }
   ],
   "source": [
    "forecast = model.predict(future)\n",
    "forecast"
   ]
  },
  {
   "cell_type": "code",
   "execution_count": 26,
   "metadata": {},
   "outputs": [
    {
     "data": {
      "text/html": [
       "<div>\n",
       "<style scoped>\n",
       "    .dataframe tbody tr th:only-of-type {\n",
       "        vertical-align: middle;\n",
       "    }\n",
       "\n",
       "    .dataframe tbody tr th {\n",
       "        vertical-align: top;\n",
       "    }\n",
       "\n",
       "    .dataframe thead th {\n",
       "        text-align: right;\n",
       "    }\n",
       "</style>\n",
       "<table border=\"1\" class=\"dataframe\">\n",
       "  <thead>\n",
       "    <tr style=\"text-align: right;\">\n",
       "      <th></th>\n",
       "      <th>ds</th>\n",
       "      <th>yhat</th>\n",
       "      <th>yhat_lower</th>\n",
       "      <th>yhat_upper</th>\n",
       "    </tr>\n",
       "  </thead>\n",
       "  <tbody>\n",
       "    <tr>\n",
       "      <th>0</th>\n",
       "      <td>2020-01-22</td>\n",
       "      <td>-1.324481e+03</td>\n",
       "      <td>-1.272302e+04</td>\n",
       "      <td>1.056966e+04</td>\n",
       "    </tr>\n",
       "    <tr>\n",
       "      <th>1</th>\n",
       "      <td>2020-01-23</td>\n",
       "      <td>-3.670654e+02</td>\n",
       "      <td>-1.371504e+04</td>\n",
       "      <td>1.171784e+04</td>\n",
       "    </tr>\n",
       "    <tr>\n",
       "      <th>2</th>\n",
       "      <td>2020-01-24</td>\n",
       "      <td>4.631203e+02</td>\n",
       "      <td>-1.238583e+04</td>\n",
       "      <td>1.287939e+04</td>\n",
       "    </tr>\n",
       "    <tr>\n",
       "      <th>3</th>\n",
       "      <td>2020-01-25</td>\n",
       "      <td>4.355254e+02</td>\n",
       "      <td>-1.132758e+04</td>\n",
       "      <td>1.269215e+04</td>\n",
       "    </tr>\n",
       "    <tr>\n",
       "      <th>4</th>\n",
       "      <td>2020-01-26</td>\n",
       "      <td>-7.477372e+02</td>\n",
       "      <td>-1.250079e+04</td>\n",
       "      <td>1.152471e+04</td>\n",
       "    </tr>\n",
       "    <tr>\n",
       "      <th>...</th>\n",
       "      <td>...</td>\n",
       "      <td>...</td>\n",
       "      <td>...</td>\n",
       "      <td>...</td>\n",
       "    </tr>\n",
       "    <tr>\n",
       "      <th>435</th>\n",
       "      <td>2021-04-01</td>\n",
       "      <td>2.373506e+06</td>\n",
       "      <td>2.169165e+06</td>\n",
       "      <td>2.568936e+06</td>\n",
       "    </tr>\n",
       "    <tr>\n",
       "      <th>436</th>\n",
       "      <td>2021-04-02</td>\n",
       "      <td>2.381802e+06</td>\n",
       "      <td>2.176596e+06</td>\n",
       "      <td>2.579039e+06</td>\n",
       "    </tr>\n",
       "    <tr>\n",
       "      <th>437</th>\n",
       "      <td>2021-04-03</td>\n",
       "      <td>2.389240e+06</td>\n",
       "      <td>2.179943e+06</td>\n",
       "      <td>2.593920e+06</td>\n",
       "    </tr>\n",
       "    <tr>\n",
       "      <th>438</th>\n",
       "      <td>2021-04-04</td>\n",
       "      <td>2.395522e+06</td>\n",
       "      <td>2.182681e+06</td>\n",
       "      <td>2.601639e+06</td>\n",
       "    </tr>\n",
       "    <tr>\n",
       "      <th>439</th>\n",
       "      <td>2021-04-05</td>\n",
       "      <td>2.401326e+06</td>\n",
       "      <td>2.182969e+06</td>\n",
       "      <td>2.611368e+06</td>\n",
       "    </tr>\n",
       "  </tbody>\n",
       "</table>\n",
       "<p>440 rows × 4 columns</p>\n",
       "</div>"
      ],
      "text/plain": [
       "            ds          yhat    yhat_lower    yhat_upper\n",
       "0   2020-01-22 -1.324481e+03 -1.272302e+04  1.056966e+04\n",
       "1   2020-01-23 -3.670654e+02 -1.371504e+04  1.171784e+04\n",
       "2   2020-01-24  4.631203e+02 -1.238583e+04  1.287939e+04\n",
       "3   2020-01-25  4.355254e+02 -1.132758e+04  1.269215e+04\n",
       "4   2020-01-26 -7.477372e+02 -1.250079e+04  1.152471e+04\n",
       "..         ...           ...           ...           ...\n",
       "435 2021-04-01  2.373506e+06  2.169165e+06  2.568936e+06\n",
       "436 2021-04-02  2.381802e+06  2.176596e+06  2.579039e+06\n",
       "437 2021-04-03  2.389240e+06  2.179943e+06  2.593920e+06\n",
       "438 2021-04-04  2.395522e+06  2.182681e+06  2.601639e+06\n",
       "439 2021-04-05  2.401326e+06  2.182969e+06  2.611368e+06\n",
       "\n",
       "[440 rows x 4 columns]"
      ]
     },
     "execution_count": 26,
     "metadata": {},
     "output_type": "execute_result"
    }
   ],
   "source": [
    "forecast[['ds','yhat','yhat_lower','yhat_upper']]"
   ]
  },
  {
   "cell_type": "code",
   "execution_count": 27,
   "metadata": {},
   "outputs": [
    {
     "data": {
      "image/png": "[encoded data removed]",
      "text/plain": [
       "<Figure size 720x432 with 1 Axes>"
      ]
     },
     "metadata": {},
     "output_type": "display_data"
    }
   ],
   "source": [
    "Death_cases = model.plot(forecast)"
   ]
  },
  {
   "cell_type": "code",
   "execution_count": 28,
   "metadata": {},
   "outputs": [],
   "source": [
    "Recovered.columns = ['ds','y']"
   ]
  },
  {
   "cell_type": "code",
   "execution_count": 29,
   "metadata": {},
   "outputs": [
    {
     "data": {
      "text/html": [
       "<div>\n",
       "<style scoped>\n",
       "    .dataframe tbody tr th:only-of-type {\n",
       "        vertical-align: middle;\n",
       "    }\n",
       "\n",
       "    .dataframe tbody tr th {\n",
       "        vertical-align: top;\n",
       "    }\n",
       "\n",
       "    .dataframe thead th {\n",
       "        text-align: right;\n",
       "    }\n",
       "</style>\n",
       "<table border=\"1\" class=\"dataframe\">\n",
       "  <thead>\n",
       "    <tr style=\"text-align: right;\">\n",
       "      <th></th>\n",
       "      <th>ds</th>\n",
       "      <th>y</th>\n",
       "    </tr>\n",
       "  </thead>\n",
       "  <tbody>\n",
       "    <tr>\n",
       "      <th>0</th>\n",
       "      <td>2020-01-22</td>\n",
       "      <td>28.0</td>\n",
       "    </tr>\n",
       "    <tr>\n",
       "      <th>1</th>\n",
       "      <td>2020-01-23</td>\n",
       "      <td>30.0</td>\n",
       "    </tr>\n",
       "    <tr>\n",
       "      <th>2</th>\n",
       "      <td>2020-01-24</td>\n",
       "      <td>36.0</td>\n",
       "    </tr>\n",
       "    <tr>\n",
       "      <th>3</th>\n",
       "      <td>2020-01-25</td>\n",
       "      <td>39.0</td>\n",
       "    </tr>\n",
       "    <tr>\n",
       "      <th>4</th>\n",
       "      <td>2020-01-26</td>\n",
       "      <td>52.0</td>\n",
       "    </tr>\n",
       "    <tr>\n",
       "      <th>...</th>\n",
       "      <td>...</td>\n",
       "      <td>...</td>\n",
       "    </tr>\n",
       "    <tr>\n",
       "      <th>315</th>\n",
       "      <td>2020-12-02</td>\n",
       "      <td>41496318.0</td>\n",
       "    </tr>\n",
       "    <tr>\n",
       "      <th>316</th>\n",
       "      <td>2020-12-03</td>\n",
       "      <td>41932091.0</td>\n",
       "    </tr>\n",
       "    <tr>\n",
       "      <th>317</th>\n",
       "      <td>2020-12-04</td>\n",
       "      <td>42352021.0</td>\n",
       "    </tr>\n",
       "    <tr>\n",
       "      <th>318</th>\n",
       "      <td>2020-12-05</td>\n",
       "      <td>42789879.0</td>\n",
       "    </tr>\n",
       "    <tr>\n",
       "      <th>319</th>\n",
       "      <td>2020-12-06</td>\n",
       "      <td>43103827.0</td>\n",
       "    </tr>\n",
       "  </tbody>\n",
       "</table>\n",
       "<p>320 rows × 2 columns</p>\n",
       "</div>"
      ],
      "text/plain": [
       "            ds           y\n",
       "0   2020-01-22        28.0\n",
       "1   2020-01-23        30.0\n",
       "2   2020-01-24        36.0\n",
       "3   2020-01-25        39.0\n",
       "4   2020-01-26        52.0\n",
       "..         ...         ...\n",
       "315 2020-12-02  41496318.0\n",
       "316 2020-12-03  41932091.0\n",
       "317 2020-12-04  42352021.0\n",
       "318 2020-12-05  42789879.0\n",
       "319 2020-12-06  43103827.0\n",
       "\n",
       "[320 rows x 2 columns]"
      ]
     },
     "execution_count": 29,
     "metadata": {},
     "output_type": "execute_result"
    }
   ],
   "source": [
    "Recovered['ds']= pd.to_datetime(Recovered['ds'])\n",
    "Recovered"
   ]
  },
  {
   "cell_type": "code",
   "execution_count": 30,
   "metadata": {},
   "outputs": [
    {
     "name": "stderr",
     "output_type": "stream",
     "text": [
      "INFO:fbprophet:Disabling yearly seasonality. Run prophet with yearly_seasonality=True to override this.\n",
      "INFO:fbprophet:Disabling daily seasonality. Run prophet with daily_seasonality=True to override this.\n"
     ]
    },
    {
     "data": {
      "text/plain": [
       "<fbprophet.forecaster.Prophet at 0x260a92ae848>"
      ]
     },
     "execution_count": 30,
     "metadata": {},
     "output_type": "execute_result"
    }
   ],
   "source": [
    "model = Prophet()\n",
    "model.fit(Recovered)"
   ]
  },
  {
   "cell_type": "code",
   "execution_count": 32,
   "metadata": {},
   "outputs": [],
   "source": [
    "future = model.make_future_dataframe(periods=120)\n",
    "forecast = model.predict(future)"
   ]
  },
  {
   "cell_type": "code",
   "execution_count": 33,
   "metadata": {},
   "outputs": [
    {
     "data": {
      "text/html": [
       "<div>\n",
       "<style scoped>\n",
       "    .dataframe tbody tr th:only-of-type {\n",
       "        vertical-align: middle;\n",
       "    }\n",
       "\n",
       "    .dataframe tbody tr th {\n",
       "        vertical-align: top;\n",
       "    }\n",
       "\n",
       "    .dataframe thead th {\n",
       "        text-align: right;\n",
       "    }\n",
       "</style>\n",
       "<table border=\"1\" class=\"dataframe\">\n",
       "  <thead>\n",
       "    <tr style=\"text-align: right;\">\n",
       "      <th></th>\n",
       "      <th>ds</th>\n",
       "      <th>trend</th>\n",
       "      <th>yhat_lower</th>\n",
       "      <th>yhat_upper</th>\n",
       "      <th>trend_lower</th>\n",
       "      <th>trend_upper</th>\n",
       "      <th>additive_terms</th>\n",
       "      <th>additive_terms_lower</th>\n",
       "      <th>additive_terms_upper</th>\n",
       "      <th>weekly</th>\n",
       "      <th>weekly_lower</th>\n",
       "      <th>weekly_upper</th>\n",
       "      <th>multiplicative_terms</th>\n",
       "      <th>multiplicative_terms_lower</th>\n",
       "      <th>multiplicative_terms_upper</th>\n",
       "      <th>yhat</th>\n",
       "    </tr>\n",
       "  </thead>\n",
       "  <tbody>\n",
       "    <tr>\n",
       "      <th>0</th>\n",
       "      <td>2020-01-22</td>\n",
       "      <td>-4.340421e+04</td>\n",
       "      <td>-4.624720e+05</td>\n",
       "      <td>3.345305e+05</td>\n",
       "      <td>-4.340421e+04</td>\n",
       "      <td>-4.340421e+04</td>\n",
       "      <td>6339.755734</td>\n",
       "      <td>6339.755734</td>\n",
       "      <td>6339.755734</td>\n",
       "      <td>6339.755734</td>\n",
       "      <td>6339.755734</td>\n",
       "      <td>6339.755734</td>\n",
       "      <td>0.0</td>\n",
       "      <td>0.0</td>\n",
       "      <td>0.0</td>\n",
       "      <td>-3.706446e+04</td>\n",
       "    </tr>\n",
       "    <tr>\n",
       "      <th>1</th>\n",
       "      <td>2020-01-23</td>\n",
       "      <td>-4.098440e+04</td>\n",
       "      <td>-4.581673e+05</td>\n",
       "      <td>3.537026e+05</td>\n",
       "      <td>-4.098440e+04</td>\n",
       "      <td>-4.098440e+04</td>\n",
       "      <td>8697.854233</td>\n",
       "      <td>8697.854233</td>\n",
       "      <td>8697.854233</td>\n",
       "      <td>8697.854233</td>\n",
       "      <td>8697.854233</td>\n",
       "      <td>8697.854233</td>\n",
       "      <td>0.0</td>\n",
       "      <td>0.0</td>\n",
       "      <td>0.0</td>\n",
       "      <td>-3.228654e+04</td>\n",
       "    </tr>\n",
       "    <tr>\n",
       "      <th>2</th>\n",
       "      <td>2020-01-24</td>\n",
       "      <td>-3.856459e+04</td>\n",
       "      <td>-4.469373e+05</td>\n",
       "      <td>3.769515e+05</td>\n",
       "      <td>-3.856459e+04</td>\n",
       "      <td>-3.856459e+04</td>\n",
       "      <td>-2773.118683</td>\n",
       "      <td>-2773.118683</td>\n",
       "      <td>-2773.118683</td>\n",
       "      <td>-2773.118683</td>\n",
       "      <td>-2773.118683</td>\n",
       "      <td>-2773.118683</td>\n",
       "      <td>0.0</td>\n",
       "      <td>0.0</td>\n",
       "      <td>0.0</td>\n",
       "      <td>-4.133771e+04</td>\n",
       "    </tr>\n",
       "    <tr>\n",
       "      <th>3</th>\n",
       "      <td>2020-01-25</td>\n",
       "      <td>-3.614477e+04</td>\n",
       "      <td>-4.035513e+05</td>\n",
       "      <td>3.919176e+05</td>\n",
       "      <td>-3.614477e+04</td>\n",
       "      <td>-3.614477e+04</td>\n",
       "      <td>20854.071377</td>\n",
       "      <td>20854.071377</td>\n",
       "      <td>20854.071377</td>\n",
       "      <td>20854.071377</td>\n",
       "      <td>20854.071377</td>\n",
       "      <td>20854.071377</td>\n",
       "      <td>0.0</td>\n",
       "      <td>0.0</td>\n",
       "      <td>0.0</td>\n",
       "      <td>-1.529070e+04</td>\n",
       "    </tr>\n",
       "    <tr>\n",
       "      <th>4</th>\n",
       "      <td>2020-01-26</td>\n",
       "      <td>-3.372496e+04</td>\n",
       "      <td>-4.360929e+05</td>\n",
       "      <td>3.464523e+05</td>\n",
       "      <td>-3.372496e+04</td>\n",
       "      <td>-3.372496e+04</td>\n",
       "      <td>7154.816539</td>\n",
       "      <td>7154.816539</td>\n",
       "      <td>7154.816539</td>\n",
       "      <td>7154.816539</td>\n",
       "      <td>7154.816539</td>\n",
       "      <td>7154.816539</td>\n",
       "      <td>0.0</td>\n",
       "      <td>0.0</td>\n",
       "      <td>0.0</td>\n",
       "      <td>-2.657015e+04</td>\n",
       "    </tr>\n",
       "    <tr>\n",
       "      <th>...</th>\n",
       "      <td>...</td>\n",
       "      <td>...</td>\n",
       "      <td>...</td>\n",
       "      <td>...</td>\n",
       "      <td>...</td>\n",
       "      <td>...</td>\n",
       "      <td>...</td>\n",
       "      <td>...</td>\n",
       "      <td>...</td>\n",
       "      <td>...</td>\n",
       "      <td>...</td>\n",
       "      <td>...</td>\n",
       "      <td>...</td>\n",
       "      <td>...</td>\n",
       "      <td>...</td>\n",
       "      <td>...</td>\n",
       "    </tr>\n",
       "    <tr>\n",
       "      <th>435</th>\n",
       "      <td>2021-04-01</td>\n",
       "      <td>7.398816e+07</td>\n",
       "      <td>6.969046e+07</td>\n",
       "      <td>7.821275e+07</td>\n",
       "      <td>6.974423e+07</td>\n",
       "      <td>7.823627e+07</td>\n",
       "      <td>8697.854233</td>\n",
       "      <td>8697.854233</td>\n",
       "      <td>8697.854233</td>\n",
       "      <td>8697.854233</td>\n",
       "      <td>8697.854233</td>\n",
       "      <td>8697.854233</td>\n",
       "      <td>0.0</td>\n",
       "      <td>0.0</td>\n",
       "      <td>0.0</td>\n",
       "      <td>7.399686e+07</td>\n",
       "    </tr>\n",
       "    <tr>\n",
       "      <th>436</th>\n",
       "      <td>2021-04-02</td>\n",
       "      <td>7.426791e+07</td>\n",
       "      <td>7.000090e+07</td>\n",
       "      <td>7.862131e+07</td>\n",
       "      <td>6.997516e+07</td>\n",
       "      <td>7.858628e+07</td>\n",
       "      <td>-2773.118683</td>\n",
       "      <td>-2773.118683</td>\n",
       "      <td>-2773.118683</td>\n",
       "      <td>-2773.118683</td>\n",
       "      <td>-2773.118683</td>\n",
       "      <td>-2773.118683</td>\n",
       "      <td>0.0</td>\n",
       "      <td>0.0</td>\n",
       "      <td>0.0</td>\n",
       "      <td>7.426513e+07</td>\n",
       "    </tr>\n",
       "    <tr>\n",
       "      <th>437</th>\n",
       "      <td>2021-04-03</td>\n",
       "      <td>7.454765e+07</td>\n",
       "      <td>7.019436e+07</td>\n",
       "      <td>7.890431e+07</td>\n",
       "      <td>7.019697e+07</td>\n",
       "      <td>7.893220e+07</td>\n",
       "      <td>20854.071377</td>\n",
       "      <td>20854.071377</td>\n",
       "      <td>20854.071377</td>\n",
       "      <td>20854.071377</td>\n",
       "      <td>20854.071377</td>\n",
       "      <td>20854.071377</td>\n",
       "      <td>0.0</td>\n",
       "      <td>0.0</td>\n",
       "      <td>0.0</td>\n",
       "      <td>7.456850e+07</td>\n",
       "    </tr>\n",
       "    <tr>\n",
       "      <th>438</th>\n",
       "      <td>2021-04-04</td>\n",
       "      <td>7.482739e+07</td>\n",
       "      <td>7.040528e+07</td>\n",
       "      <td>7.930822e+07</td>\n",
       "      <td>7.043891e+07</td>\n",
       "      <td>7.927036e+07</td>\n",
       "      <td>7154.816539</td>\n",
       "      <td>7154.816539</td>\n",
       "      <td>7154.816539</td>\n",
       "      <td>7154.816539</td>\n",
       "      <td>7154.816539</td>\n",
       "      <td>7154.816539</td>\n",
       "      <td>0.0</td>\n",
       "      <td>0.0</td>\n",
       "      <td>0.0</td>\n",
       "      <td>7.483455e+07</td>\n",
       "    </tr>\n",
       "    <tr>\n",
       "      <th>439</th>\n",
       "      <td>2021-04-05</td>\n",
       "      <td>7.510713e+07</td>\n",
       "      <td>7.072497e+07</td>\n",
       "      <td>7.946348e+07</td>\n",
       "      <td>7.066475e+07</td>\n",
       "      <td>7.958240e+07</td>\n",
       "      <td>-27743.443119</td>\n",
       "      <td>-27743.443119</td>\n",
       "      <td>-27743.443119</td>\n",
       "      <td>-27743.443119</td>\n",
       "      <td>-27743.443119</td>\n",
       "      <td>-27743.443119</td>\n",
       "      <td>0.0</td>\n",
       "      <td>0.0</td>\n",
       "      <td>0.0</td>\n",
       "      <td>7.507939e+07</td>\n",
       "    </tr>\n",
       "  </tbody>\n",
       "</table>\n",
       "<p>440 rows × 16 columns</p>\n",
       "</div>"
      ],
      "text/plain": [
       "            ds         trend    yhat_lower    yhat_upper   trend_lower  \\\n",
       "0   2020-01-22 -4.340421e+04 -4.624720e+05  3.345305e+05 -4.340421e+04   \n",
       "1   2020-01-23 -4.098440e+04 -4.581673e+05  3.537026e+05 -4.098440e+04   \n",
       "2   2020-01-24 -3.856459e+04 -4.469373e+05  3.769515e+05 -3.856459e+04   \n",
       "3   2020-01-25 -3.614477e+04 -4.035513e+05  3.919176e+05 -3.614477e+04   \n",
       "4   2020-01-26 -3.372496e+04 -4.360929e+05  3.464523e+05 -3.372496e+04   \n",
       "..         ...           ...           ...           ...           ...   \n",
       "435 2021-04-01  7.398816e+07  6.969046e+07  7.821275e+07  6.974423e+07   \n",
       "436 2021-04-02  7.426791e+07  7.000090e+07  7.862131e+07  6.997516e+07   \n",
       "437 2021-04-03  7.454765e+07  7.019436e+07  7.890431e+07  7.019697e+07   \n",
       "438 2021-04-04  7.482739e+07  7.040528e+07  7.930822e+07  7.043891e+07   \n",
       "439 2021-04-05  7.510713e+07  7.072497e+07  7.946348e+07  7.066475e+07   \n",
       "\n",
       "      trend_upper  additive_terms  additive_terms_lower  additive_terms_upper  \\\n",
       "0   -4.340421e+04     6339.755734           6339.755734           6339.755734   \n",
       "1   -4.098440e+04     8697.854233           8697.854233           8697.854233   \n",
       "2   -3.856459e+04    -2773.118683          -2773.118683          -2773.118683   \n",
       "3   -3.614477e+04    20854.071377          20854.071377          20854.071377   \n",
       "4   -3.372496e+04     7154.816539           7154.816539           7154.816539   \n",
       "..            ...             ...                   ...                   ...   \n",
       "435  7.823627e+07     8697.854233           8697.854233           8697.854233   \n",
       "436  7.858628e+07    -2773.118683          -2773.118683          -2773.118683   \n",
       "437  7.893220e+07    20854.071377          20854.071377          20854.071377   \n",
       "438  7.927036e+07     7154.816539           7154.816539           7154.816539   \n",
       "439  7.958240e+07   -27743.443119         -27743.443119         -27743.443119   \n",
       "\n",
       "           weekly  weekly_lower  weekly_upper  multiplicative_terms  \\\n",
       "0     6339.755734   6339.755734   6339.755734                   0.0   \n",
       "1     8697.854233   8697.854233   8697.854233                   0.0   \n",
       "2    -2773.118683  -2773.118683  -2773.118683                   0.0   \n",
       "3    20854.071377  20854.071377  20854.071377                   0.0   \n",
       "4     7154.816539   7154.816539   7154.816539                   0.0   \n",
       "..            ...           ...           ...                   ...   \n",
       "435   8697.854233   8697.854233   8697.854233                   0.0   \n",
       "436  -2773.118683  -2773.118683  -2773.118683                   0.0   \n",
       "437  20854.071377  20854.071377  20854.071377                   0.0   \n",
       "438   7154.816539   7154.816539   7154.816539                   0.0   \n",
       "439 -27743.443119 -27743.443119 -27743.443119                   0.0   \n",
       "\n",
       "     multiplicative_terms_lower  multiplicative_terms_upper          yhat  \n",
       "0                           0.0                         0.0 -3.706446e+04  \n",
       "1                           0.0                         0.0 -3.228654e+04  \n",
       "2                           0.0                         0.0 -4.133771e+04  \n",
       "3                           0.0                         0.0 -1.529070e+04  \n",
       "4                           0.0                         0.0 -2.657015e+04  \n",
       "..                          ...                         ...           ...  \n",
       "435                         0.0                         0.0  7.399686e+07  \n",
       "436                         0.0                         0.0  7.426513e+07  \n",
       "437                         0.0                         0.0  7.456850e+07  \n",
       "438                         0.0                         0.0  7.483455e+07  \n",
       "439                         0.0                         0.0  7.507939e+07  \n",
       "\n",
       "[440 rows x 16 columns]"
      ]
     },
     "execution_count": 33,
     "metadata": {},
     "output_type": "execute_result"
    }
   ],
   "source": [
    "forecast"
   ]
  },
  {
   "cell_type": "code",
   "execution_count": 34,
   "metadata": {},
   "outputs": [
    {
     "data": {
      "text/html": [
       "<div>\n",
       "<style scoped>\n",
       "    .dataframe tbody tr th:only-of-type {\n",
       "        vertical-align: middle;\n",
       "    }\n",
       "\n",
       "    .dataframe tbody tr th {\n",
       "        vertical-align: top;\n",
       "    }\n",
       "\n",
       "    .dataframe thead th {\n",
       "        text-align: right;\n",
       "    }\n",
       "</style>\n",
       "<table border=\"1\" class=\"dataframe\">\n",
       "  <thead>\n",
       "    <tr style=\"text-align: right;\">\n",
       "      <th></th>\n",
       "      <th>ds</th>\n",
       "      <th>yhat</th>\n",
       "      <th>yhat_lower</th>\n",
       "      <th>yhat_upper</th>\n",
       "    </tr>\n",
       "  </thead>\n",
       "  <tbody>\n",
       "    <tr>\n",
       "      <th>0</th>\n",
       "      <td>2020-01-22</td>\n",
       "      <td>-3.706446e+04</td>\n",
       "      <td>-4.624720e+05</td>\n",
       "      <td>3.345305e+05</td>\n",
       "    </tr>\n",
       "    <tr>\n",
       "      <th>1</th>\n",
       "      <td>2020-01-23</td>\n",
       "      <td>-3.228654e+04</td>\n",
       "      <td>-4.581673e+05</td>\n",
       "      <td>3.537026e+05</td>\n",
       "    </tr>\n",
       "    <tr>\n",
       "      <th>2</th>\n",
       "      <td>2020-01-24</td>\n",
       "      <td>-4.133771e+04</td>\n",
       "      <td>-4.469373e+05</td>\n",
       "      <td>3.769515e+05</td>\n",
       "    </tr>\n",
       "    <tr>\n",
       "      <th>3</th>\n",
       "      <td>2020-01-25</td>\n",
       "      <td>-1.529070e+04</td>\n",
       "      <td>-4.035513e+05</td>\n",
       "      <td>3.919176e+05</td>\n",
       "    </tr>\n",
       "    <tr>\n",
       "      <th>4</th>\n",
       "      <td>2020-01-26</td>\n",
       "      <td>-2.657015e+04</td>\n",
       "      <td>-4.360929e+05</td>\n",
       "      <td>3.464523e+05</td>\n",
       "    </tr>\n",
       "    <tr>\n",
       "      <th>...</th>\n",
       "      <td>...</td>\n",
       "      <td>...</td>\n",
       "      <td>...</td>\n",
       "      <td>...</td>\n",
       "    </tr>\n",
       "    <tr>\n",
       "      <th>435</th>\n",
       "      <td>2021-04-01</td>\n",
       "      <td>7.399686e+07</td>\n",
       "      <td>6.969046e+07</td>\n",
       "      <td>7.821275e+07</td>\n",
       "    </tr>\n",
       "    <tr>\n",
       "      <th>436</th>\n",
       "      <td>2021-04-02</td>\n",
       "      <td>7.426513e+07</td>\n",
       "      <td>7.000090e+07</td>\n",
       "      <td>7.862131e+07</td>\n",
       "    </tr>\n",
       "    <tr>\n",
       "      <th>437</th>\n",
       "      <td>2021-04-03</td>\n",
       "      <td>7.456850e+07</td>\n",
       "      <td>7.019436e+07</td>\n",
       "      <td>7.890431e+07</td>\n",
       "    </tr>\n",
       "    <tr>\n",
       "      <th>438</th>\n",
       "      <td>2021-04-04</td>\n",
       "      <td>7.483455e+07</td>\n",
       "      <td>7.040528e+07</td>\n",
       "      <td>7.930822e+07</td>\n",
       "    </tr>\n",
       "    <tr>\n",
       "      <th>439</th>\n",
       "      <td>2021-04-05</td>\n",
       "      <td>7.507939e+07</td>\n",
       "      <td>7.072497e+07</td>\n",
       "      <td>7.946348e+07</td>\n",
       "    </tr>\n",
       "  </tbody>\n",
       "</table>\n",
       "<p>440 rows × 4 columns</p>\n",
       "</div>"
      ],
      "text/plain": [
       "            ds          yhat    yhat_lower    yhat_upper\n",
       "0   2020-01-22 -3.706446e+04 -4.624720e+05  3.345305e+05\n",
       "1   2020-01-23 -3.228654e+04 -4.581673e+05  3.537026e+05\n",
       "2   2020-01-24 -4.133771e+04 -4.469373e+05  3.769515e+05\n",
       "3   2020-01-25 -1.529070e+04 -4.035513e+05  3.919176e+05\n",
       "4   2020-01-26 -2.657015e+04 -4.360929e+05  3.464523e+05\n",
       "..         ...           ...           ...           ...\n",
       "435 2021-04-01  7.399686e+07  6.969046e+07  7.821275e+07\n",
       "436 2021-04-02  7.426513e+07  7.000090e+07  7.862131e+07\n",
       "437 2021-04-03  7.456850e+07  7.019436e+07  7.890431e+07\n",
       "438 2021-04-04  7.483455e+07  7.040528e+07  7.930822e+07\n",
       "439 2021-04-05  7.507939e+07  7.072497e+07  7.946348e+07\n",
       "\n",
       "[440 rows x 4 columns]"
      ]
     },
     "execution_count": 34,
     "metadata": {},
     "output_type": "execute_result"
    }
   ],
   "source": [
    "forecast[['ds','yhat','yhat_lower','yhat_upper']]"
   ]
  },
  {
   "cell_type": "code",
   "execution_count": 35,
   "metadata": {},
   "outputs": [
    {
     "data": {
      "image/png": "[encoded data removed]",
      "text/plain": [
       "<Figure size 720x432 with 1 Axes>"
      ]
     },
     "metadata": {},
     "output_type": "display_data"
    }
   ],
   "source": [
    "Recovered_cases = model.plot(forecast)"
   ]
  },
  {
   "cell_type": "code",
   "execution_count": null,
   "metadata": {},
   "outputs": [],
   "source": []
  }
 ],
 "metadata": {
  "kernelspec": {
   "display_name": "Python 3",
   "language": "python",
   "name": "python3"
  },
  "language_info": {
   "codemirror_mode": {
    "name": "ipython",
    "version": 3
   },
   "file_extension": ".py",
   "mimetype": "text/x-python",
   "name": "python",
   "nbconvert_exporter": "python",
   "pygments_lexer": "ipython3",
   "version": "3.7.9"
  }
 },
 "nbformat": 4,
 "nbformat_minor": 4
}
